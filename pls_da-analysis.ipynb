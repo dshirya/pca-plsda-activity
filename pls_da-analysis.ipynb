{
 "cells": [
  {
   "cell_type": "code",
   "execution_count": null,
   "metadata": {},
   "outputs": [],
   "source": [
    "filepath = \"data/1929_Mendeleev_features_binary.csv\""
   ]
  },
  {
   "cell_type": "code",
   "execution_count": null,
   "metadata": {},
   "outputs": [],
   "source": [
    "from pls_da.plsda import run_plsda_analysis\n",
    "\n",
    "run_plsda_analysis(filepath, target_column=\"Class\")"
   ]
  },
  {
   "cell_type": "code",
   "execution_count": null,
   "metadata": {},
   "outputs": [],
   "source": [
    "from pls_da.plsda import evaluate_n_components_plsda \n",
    "\n",
    "fig, scores = evaluate_n_components_plsda(filepath, \n",
    "                                          target_column=\"Class\", \n",
    "                                          scoring=\"accuracy\", \n",
    "                                          max_components=15, \n",
    "                                          verbose=False)"
   ]
  },
  {
   "cell_type": "code",
   "execution_count": null,
   "metadata": {},
   "outputs": [],
   "source": [
    "from pls_da.feature import forward_selection_plsda, backward_elimination_plsda\n",
    "\n",
    "# Forward selection example:\n",
    "selected_feats, perf_hist = forward_selection_plsda(\n",
    "    filepath, \n",
    "    target_column=\"Class\", \n",
    "    max_features=15, \n",
    "    n_components=2,\n",
    "    scoring='accuracy', \n",
    "    verbose=True, \n",
    "    visualize=True,\n",
    "    interactive_scatter=True\n",
    ")\n",
    "print(\"Selected features via forward selection:\", selected_feats)"
   ]
  },
  {
   "cell_type": "code",
   "execution_count": null,
   "metadata": {},
   "outputs": [],
   "source": [
    "# Backward elimination example:\n",
    "remaining_feats, perf_hist_back = backward_elimination_plsda(\n",
    "    filepath, \n",
    "    target_column=\"Class\", \n",
    "    min_features=5, \n",
    "    n_components=2,\n",
    "    scoring='accuracy', \n",
    "    verbose=True, \n",
    "    visualize=True,\n",
    "    interactive_scatter=True\n",
    ")\n",
    "print(\"Remaining features via backward elimination:\", remaining_feats)"
   ]
  }
 ],
 "metadata": {
  "kernelspec": {
   "display_name": "Python [conda env:pca_plsda]",
   "language": "python",
   "name": "conda-env-pca_plsda-py"
  },
  "language_info": {
   "codemirror_mode": {
    "name": "ipython",
    "version": 3
   },
   "file_extension": ".py",
   "mimetype": "text/x-python",
   "name": "python",
   "nbconvert_exporter": "python",
   "pygments_lexer": "ipython3",
   "version": "3.12.9"
  }
 },
 "nbformat": 4,
 "nbformat_minor": 4
}
