{
 "cells": [
  {
   "cell_type": "markdown",
   "metadata": {},
   "source": [
    "🔬 Welcome to the PLS-DA Classification Notebook\n",
    "\n",
    "In this notebook, you will explore how **Partial Least Squares–Discriminant Analysis (PLS-DA)** can be used to classify chemical compounds based on their features. The goal is to understand how different chemical descriptors contribute to separating compounds by their crystal structure type."
   ]
  },
  {
   "cell_type": "markdown",
   "metadata": {},
   "source": [
    "🧭 What You'll Be Doing\n",
    "\n",
    "This activity continues the exploration from the PCA notebook, but now with a supervised machine learning approach. All compounds are already labeled with one of three structure types: **CsCl-type**, **NaCl-type**, or **ZnS-type**.\n",
    "\n",
    "Here’s what you’ll do:\n",
    "1. Load a set of **133 compositional features**, generated using the Composition Analyzer/Featurizer (CAF).\n",
    "2. Use PLS-DA to evaluate how well the compounds can be separated based on these features.\n",
    "3. Test different combinations of features to build a model that’s accurate and chemically explainable."
   ]
  },
  {
   "cell_type": "markdown",
   "metadata": {},
   "source": [
    "⚙️ Understanding the Features\n",
    "\n",
    "Each compound is featurized using operations like:\n",
    "- **Mean values** (e.g., average electronegativity)\n",
    "- **Differences** (e.g., radius A - radius B)\n",
    "- **Ratios** (e.g., melting point A / B)\n",
    "- **Max and min** values for both elements\n",
    "\n",
    "These features are numerical representations of underlying chemical ideas — and your task is to find out which ones matter most for distinguishing structure types."
   ]
  },
  {
   "cell_type": "code",
   "execution_count": null,
   "metadata": {},
   "outputs": [],
   "source": [
    "filepath = \"data/1929_Mendeleev_features_binary.csv\""
   ]
  },
  {
   "cell_type": "markdown",
   "metadata": {},
   "source": [
    "🛠 Manual Feature Selection\n",
    "\n",
    "Just like in the PCA notebook, you can:\n",
    "- Select features or groups of features manually using interactive widgets.\n",
    "- Observe how these selections affect classification performance and structure separation.\n",
    "\n",
    "This interactive process helps you:\n",
    "- Test hypotheses about what matters (e.g., is size difference enough?)\n",
    "- Explore the idea of **feature relevance**\n",
    "- Build intuition about chemical trends through data"
   ]
  },
  {
   "cell_type": "code",
   "execution_count": null,
   "metadata": {},
   "outputs": [],
   "source": [
    "from pls_da.plsda import run_plsda_analysis\n",
    "\n",
    "run_plsda_analysis(filepath, target_column=\"Class\")"
   ]
  },
  {
   "cell_type": "markdown",
   "metadata": {},
   "source": [
    "📊 Evaluating the Model\n",
    "\n",
    "to determine the **optimal number of PLS components**. This balances:\n",
    "- **Underfitting** (not enough components)\n",
    "- **Overfitting** (too many components)\n",
    "- **Accuracy** and **explainability**\n",
    "\n",
    "The notebook provides score plots, confusion matrices, and performance graphs so you can evaluate the model's behavior under different settings."
   ]
  },
  {
   "cell_type": "code",
   "execution_count": null,
   "metadata": {},
   "outputs": [],
   "source": [
    "from pls_da.plsda import evaluate_n_components_plsda \n",
    "\n",
    "fig, scores = evaluate_n_components_plsda(filepath, \n",
    "                                          target_column=\"Class\", \n",
    "                                          scoring=\"accuracy\", \n",
    "                                          max_components=15, \n",
    "                                          verbose=False)"
   ]
  },
  {
   "cell_type": "markdown",
   "metadata": {},
   "source": [
    "🤖 Automated Feature Selection\n",
    "\n",
    "After exploring manually, you can move on to **automated feature selection** using:\n",
    "\n",
    "- **Forward Selection**: Start with no features and add one-by-one to optimize accuracy.\n",
    "- **Backward Elimination**: Start with all features and remove the least useful ones.\n",
    "\n",
    "Each method allows you to control:\n",
    "- The number of features to include or retain\n",
    "- How many PLS components to use\n",
    "- Whether to visualize model performance and scores\n",
    "\n",
    "These tools help reduce dimensionality and improve interpretability of your model — while still achieving strong performance.\n",
    "\n",
    "Also, you can adjust `n_components=` in the functions with best value obtained in the model evaluation section"
   ]
  },
  {
   "cell_type": "code",
   "execution_count": null,
   "metadata": {},
   "outputs": [],
   "source": [
    "from pls_da.feature import forward_selection_plsda, backward_elimination_plsda\n",
    "\n",
    "# Forward selection example:\n",
    "selected_feats, perf_hist = forward_selection_plsda(\n",
    "    filepath, \n",
    "    target_column=\"Class\", \n",
    "    max_features=15, \n",
    "    n_components=2,\n",
    "    scoring='accuracy', \n",
    "    verbose=True, \n",
    "    visualize=True,\n",
    "    interactive_scatter=True\n",
    ")\n",
    "print(\"Selected features via forward selection:\", selected_feats)"
   ]
  },
  {
   "cell_type": "code",
   "execution_count": null,
   "metadata": {},
   "outputs": [],
   "source": [
    "# Backward elimination example:\n",
    "remaining_feats, perf_hist_back = backward_elimination_plsda(\n",
    "    filepath, \n",
    "    target_column=\"Class\", \n",
    "    min_features=5, \n",
    "    n_components=2,\n",
    "    scoring='accuracy', \n",
    "    verbose=True, \n",
    "    visualize=True,\n",
    "    interactive_scatter=True\n",
    ")\n",
    "print(\"Remaining features via backward elimination:\", remaining_feats)"
   ]
  },
  {
   "cell_type": "markdown",
   "metadata": {},
   "source": [
    "Use your chemistry background and curiosity to experiment with the data. The more you test, the more connections you’ll discover between descriptors and structure — turning chemical knowledge into predictive power."
   ]
  }
 ],
 "metadata": {
  "kernelspec": {
   "display_name": "Python [conda env:pca_plsda]",
   "language": "python",
   "name": "conda-env-pca_plsda-py"
  },
  "language_info": {
   "codemirror_mode": {
    "name": "ipython",
    "version": 3
   },
   "file_extension": ".py",
   "mimetype": "text/x-python",
   "name": "python",
   "nbconvert_exporter": "python",
   "pygments_lexer": "ipython3",
   "version": "3.12.9"
  }
 },
 "nbformat": 4,
 "nbformat_minor": 4
}
