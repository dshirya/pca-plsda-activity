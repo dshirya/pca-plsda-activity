{
 "cells": [
  {
   "cell_type": "markdown",
   "metadata": {},
   "source": [
    "🔬 Welcome to the PLS-DA Classification Notebook\n",
    "\n",
    "In this notebook, you will explore how **Partial Least Squares–Discriminant Analysis (PLS-DA)** can be used to classify chemical compounds based on their features. The goal is to understand how different chemical descriptors contribute to separating compounds by their crystal structure type."
   ]
  },
  {
   "cell_type": "markdown",
   "metadata": {},
   "source": [
    "🧭 What You'll Be Doing\n",
    "\n",
    "This activity continues the exploration from the PCA notebook, but now with a supervised machine learning approach. All compounds are already labeled with one of three structure types: **CsCl-type**, **NaCl-type**, or **ZnS-type**.\n",
    "\n",
    "Here’s what you’ll do:\n",
    "1. Load a set of **133 compositional features**, generated using the Composition Analyzer/Featurizer (CAF).\n",
    "2. Use PLS-DA to evaluate how well the compounds can be separated based on these features.\n",
    "3. Test different combinations of features to build a model that’s accurate and chemically explainable."
   ]
  },
  {
   "cell_type": "markdown",
   "metadata": {},
   "source": [
    "⚙️ Understanding the Features\n",
    "\n",
    "Each compound is featurized using operations like:\n",
    "- **Mean values** (e.g., average electronegativity)\n",
    "- **Differences** (e.g., radius A - radius B)\n",
    "- **Ratios** (e.g., melting point A / B)\n",
    "- **Max and min** values for both elements\n",
    "\n",
    "These features are numerical representations of underlying chemical ideas — and your task is to find out which ones matter most for distinguishing structure types."
   ]
  },
  {
   "cell_type": "code",
   "execution_count": 1,
   "metadata": {},
   "outputs": [],
   "source": [
    "filepath = \"data/1929_Mendeleev_features_binary.csv\""
   ]
  },
  {
   "cell_type": "markdown",
   "metadata": {},
   "source": [
    "🛠 Manual Feature Selection\n",
    "\n",
    "Just like in the PCA notebook, you can:\n",
    "- Select features or groups of features manually using interactive widgets.\n",
    "- Observe how these selections affect classification performance and structure separation.\n",
    "\n",
    "This interactive process helps you:\n",
    "- Test hypotheses about what matters (e.g., is size difference enough?)\n",
    "- Explore the idea of **feature relevance**\n",
    "- Build intuition about chemical trends through data"
   ]
  },
  {
   "cell_type": "code",
   "execution_count": 2,
   "metadata": {},
   "outputs": [
    {
     "data": {
      "application/vnd.jupyter.widget-view+json": {
       "model_id": "c95af0c809544da9beb94fcc25eb38f7",
       "version_major": 2,
       "version_minor": 0
      },
      "text/plain": [
       "VBox(children=(HBox(children=(Button(button_style='success', description='Select All Features', layout=Layout(…"
      ]
     },
     "metadata": {},
     "output_type": "display_data"
    }
   ],
   "source": [
    "from pls_da.plsda import run_plsda_analysis\n",
    "\n",
    "run_plsda_analysis(filepath, target_column=\"Class\")"
   ]
  },
  {
   "cell_type": "markdown",
   "metadata": {},
   "source": [
    "📊 Evaluating the Model\n",
    "\n",
    "to determine the **optimal number of PLS components**. This balances:\n",
    "- **Underfitting** (not enough components)\n",
    "- **Overfitting** (too many components)\n",
    "- **Accuracy** and **explainability**\n",
    "\n",
    "The notebook provides score plots, confusion matrices, and performance graphs so you can evaluate the model's behavior under different settings."
   ]
  },
  {
   "cell_type": "code",
   "execution_count": 3,
   "metadata": {},
   "outputs": [
    {
     "name": "stderr",
     "output_type": "stream",
     "text": [
      "/opt/anaconda3/envs/pca_plsda/lib/python3.12/site-packages/scipy/linalg/_basic.py:1622: RuntimeWarning:\n",
      "\n",
      "divide by zero encountered in matmul\n",
      "\n",
      "/opt/anaconda3/envs/pca_plsda/lib/python3.12/site-packages/scipy/linalg/_basic.py:1622: RuntimeWarning:\n",
      "\n",
      "overflow encountered in matmul\n",
      "\n",
      "/opt/anaconda3/envs/pca_plsda/lib/python3.12/site-packages/scipy/linalg/_basic.py:1622: RuntimeWarning:\n",
      "\n",
      "invalid value encountered in matmul\n",
      "\n",
      "/opt/anaconda3/envs/pca_plsda/lib/python3.12/site-packages/scipy/linalg/_basic.py:1622: RuntimeWarning:\n",
      "\n",
      "divide by zero encountered in matmul\n",
      "\n",
      "/opt/anaconda3/envs/pca_plsda/lib/python3.12/site-packages/scipy/linalg/_basic.py:1622: RuntimeWarning:\n",
      "\n",
      "overflow encountered in matmul\n",
      "\n",
      "/opt/anaconda3/envs/pca_plsda/lib/python3.12/site-packages/scipy/linalg/_basic.py:1622: RuntimeWarning:\n",
      "\n",
      "invalid value encountered in matmul\n",
      "\n",
      "/opt/anaconda3/envs/pca_plsda/lib/python3.12/site-packages/scipy/linalg/_basic.py:1622: RuntimeWarning:\n",
      "\n",
      "divide by zero encountered in matmul\n",
      "\n",
      "/opt/anaconda3/envs/pca_plsda/lib/python3.12/site-packages/scipy/linalg/_basic.py:1622: RuntimeWarning:\n",
      "\n",
      "overflow encountered in matmul\n",
      "\n",
      "/opt/anaconda3/envs/pca_plsda/lib/python3.12/site-packages/scipy/linalg/_basic.py:1622: RuntimeWarning:\n",
      "\n",
      "invalid value encountered in matmul\n",
      "\n",
      "/opt/anaconda3/envs/pca_plsda/lib/python3.12/site-packages/scipy/linalg/_basic.py:1622: RuntimeWarning:\n",
      "\n",
      "divide by zero encountered in matmul\n",
      "\n",
      "/opt/anaconda3/envs/pca_plsda/lib/python3.12/site-packages/scipy/linalg/_basic.py:1622: RuntimeWarning:\n",
      "\n",
      "overflow encountered in matmul\n",
      "\n",
      "/opt/anaconda3/envs/pca_plsda/lib/python3.12/site-packages/scipy/linalg/_basic.py:1622: RuntimeWarning:\n",
      "\n",
      "invalid value encountered in matmul\n",
      "\n",
      "/opt/anaconda3/envs/pca_plsda/lib/python3.12/site-packages/scipy/linalg/_basic.py:1622: RuntimeWarning:\n",
      "\n",
      "divide by zero encountered in matmul\n",
      "\n",
      "/opt/anaconda3/envs/pca_plsda/lib/python3.12/site-packages/scipy/linalg/_basic.py:1622: RuntimeWarning:\n",
      "\n",
      "overflow encountered in matmul\n",
      "\n",
      "/opt/anaconda3/envs/pca_plsda/lib/python3.12/site-packages/scipy/linalg/_basic.py:1622: RuntimeWarning:\n",
      "\n",
      "invalid value encountered in matmul\n",
      "\n",
      "/opt/anaconda3/envs/pca_plsda/lib/python3.12/site-packages/scipy/linalg/_basic.py:1622: RuntimeWarning:\n",
      "\n",
      "divide by zero encountered in matmul\n",
      "\n",
      "/opt/anaconda3/envs/pca_plsda/lib/python3.12/site-packages/scipy/linalg/_basic.py:1622: RuntimeWarning:\n",
      "\n",
      "overflow encountered in matmul\n",
      "\n",
      "/opt/anaconda3/envs/pca_plsda/lib/python3.12/site-packages/scipy/linalg/_basic.py:1622: RuntimeWarning:\n",
      "\n",
      "invalid value encountered in matmul\n",
      "\n",
      "/opt/anaconda3/envs/pca_plsda/lib/python3.12/site-packages/scipy/linalg/_basic.py:1622: RuntimeWarning:\n",
      "\n",
      "divide by zero encountered in matmul\n",
      "\n",
      "/opt/anaconda3/envs/pca_plsda/lib/python3.12/site-packages/scipy/linalg/_basic.py:1622: RuntimeWarning:\n",
      "\n",
      "overflow encountered in matmul\n",
      "\n",
      "/opt/anaconda3/envs/pca_plsda/lib/python3.12/site-packages/scipy/linalg/_basic.py:1622: RuntimeWarning:\n",
      "\n",
      "invalid value encountered in matmul\n",
      "\n",
      "/opt/anaconda3/envs/pca_plsda/lib/python3.12/site-packages/scipy/linalg/_basic.py:1622: RuntimeWarning:\n",
      "\n",
      "divide by zero encountered in matmul\n",
      "\n",
      "/opt/anaconda3/envs/pca_plsda/lib/python3.12/site-packages/scipy/linalg/_basic.py:1622: RuntimeWarning:\n",
      "\n",
      "overflow encountered in matmul\n",
      "\n",
      "/opt/anaconda3/envs/pca_plsda/lib/python3.12/site-packages/scipy/linalg/_basic.py:1622: RuntimeWarning:\n",
      "\n",
      "invalid value encountered in matmul\n",
      "\n",
      "/opt/anaconda3/envs/pca_plsda/lib/python3.12/site-packages/scipy/linalg/_basic.py:1622: RuntimeWarning:\n",
      "\n",
      "divide by zero encountered in matmul\n",
      "\n",
      "/opt/anaconda3/envs/pca_plsda/lib/python3.12/site-packages/scipy/linalg/_basic.py:1622: RuntimeWarning:\n",
      "\n",
      "overflow encountered in matmul\n",
      "\n",
      "/opt/anaconda3/envs/pca_plsda/lib/python3.12/site-packages/scipy/linalg/_basic.py:1622: RuntimeWarning:\n",
      "\n",
      "invalid value encountered in matmul\n",
      "\n",
      "/opt/anaconda3/envs/pca_plsda/lib/python3.12/site-packages/scipy/linalg/_basic.py:1622: RuntimeWarning:\n",
      "\n",
      "divide by zero encountered in matmul\n",
      "\n",
      "/opt/anaconda3/envs/pca_plsda/lib/python3.12/site-packages/scipy/linalg/_basic.py:1622: RuntimeWarning:\n",
      "\n",
      "overflow encountered in matmul\n",
      "\n",
      "/opt/anaconda3/envs/pca_plsda/lib/python3.12/site-packages/scipy/linalg/_basic.py:1622: RuntimeWarning:\n",
      "\n",
      "invalid value encountered in matmul\n",
      "\n",
      "/opt/anaconda3/envs/pca_plsda/lib/python3.12/site-packages/scipy/linalg/_basic.py:1622: RuntimeWarning:\n",
      "\n",
      "divide by zero encountered in matmul\n",
      "\n",
      "/opt/anaconda3/envs/pca_plsda/lib/python3.12/site-packages/scipy/linalg/_basic.py:1622: RuntimeWarning:\n",
      "\n",
      "overflow encountered in matmul\n",
      "\n",
      "/opt/anaconda3/envs/pca_plsda/lib/python3.12/site-packages/scipy/linalg/_basic.py:1622: RuntimeWarning:\n",
      "\n",
      "invalid value encountered in matmul\n",
      "\n",
      "/opt/anaconda3/envs/pca_plsda/lib/python3.12/site-packages/scipy/linalg/_basic.py:1622: RuntimeWarning:\n",
      "\n",
      "divide by zero encountered in matmul\n",
      "\n",
      "/opt/anaconda3/envs/pca_plsda/lib/python3.12/site-packages/scipy/linalg/_basic.py:1622: RuntimeWarning:\n",
      "\n",
      "overflow encountered in matmul\n",
      "\n",
      "/opt/anaconda3/envs/pca_plsda/lib/python3.12/site-packages/scipy/linalg/_basic.py:1622: RuntimeWarning:\n",
      "\n",
      "invalid value encountered in matmul\n",
      "\n",
      "/opt/anaconda3/envs/pca_plsda/lib/python3.12/site-packages/scipy/linalg/_basic.py:1622: RuntimeWarning:\n",
      "\n",
      "divide by zero encountered in matmul\n",
      "\n",
      "/opt/anaconda3/envs/pca_plsda/lib/python3.12/site-packages/scipy/linalg/_basic.py:1622: RuntimeWarning:\n",
      "\n",
      "overflow encountered in matmul\n",
      "\n",
      "/opt/anaconda3/envs/pca_plsda/lib/python3.12/site-packages/scipy/linalg/_basic.py:1622: RuntimeWarning:\n",
      "\n",
      "invalid value encountered in matmul\n",
      "\n",
      "/opt/anaconda3/envs/pca_plsda/lib/python3.12/site-packages/scipy/linalg/_basic.py:1622: RuntimeWarning:\n",
      "\n",
      "divide by zero encountered in matmul\n",
      "\n",
      "/opt/anaconda3/envs/pca_plsda/lib/python3.12/site-packages/scipy/linalg/_basic.py:1622: RuntimeWarning:\n",
      "\n",
      "overflow encountered in matmul\n",
      "\n",
      "/opt/anaconda3/envs/pca_plsda/lib/python3.12/site-packages/scipy/linalg/_basic.py:1622: RuntimeWarning:\n",
      "\n",
      "invalid value encountered in matmul\n",
      "\n",
      "/opt/anaconda3/envs/pca_plsda/lib/python3.12/site-packages/scipy/linalg/_basic.py:1622: RuntimeWarning:\n",
      "\n",
      "divide by zero encountered in matmul\n",
      "\n",
      "/opt/anaconda3/envs/pca_plsda/lib/python3.12/site-packages/scipy/linalg/_basic.py:1622: RuntimeWarning:\n",
      "\n",
      "overflow encountered in matmul\n",
      "\n",
      "/opt/anaconda3/envs/pca_plsda/lib/python3.12/site-packages/scipy/linalg/_basic.py:1622: RuntimeWarning:\n",
      "\n",
      "invalid value encountered in matmul\n",
      "\n",
      "/opt/anaconda3/envs/pca_plsda/lib/python3.12/site-packages/scipy/linalg/_basic.py:1622: RuntimeWarning:\n",
      "\n",
      "divide by zero encountered in matmul\n",
      "\n",
      "/opt/anaconda3/envs/pca_plsda/lib/python3.12/site-packages/scipy/linalg/_basic.py:1622: RuntimeWarning:\n",
      "\n",
      "overflow encountered in matmul\n",
      "\n",
      "/opt/anaconda3/envs/pca_plsda/lib/python3.12/site-packages/scipy/linalg/_basic.py:1622: RuntimeWarning:\n",
      "\n",
      "invalid value encountered in matmul\n",
      "\n",
      "/opt/anaconda3/envs/pca_plsda/lib/python3.12/site-packages/scipy/linalg/_basic.py:1622: RuntimeWarning:\n",
      "\n",
      "divide by zero encountered in matmul\n",
      "\n",
      "/opt/anaconda3/envs/pca_plsda/lib/python3.12/site-packages/scipy/linalg/_basic.py:1622: RuntimeWarning:\n",
      "\n",
      "overflow encountered in matmul\n",
      "\n",
      "/opt/anaconda3/envs/pca_plsda/lib/python3.12/site-packages/scipy/linalg/_basic.py:1622: RuntimeWarning:\n",
      "\n",
      "invalid value encountered in matmul\n",
      "\n",
      "/opt/anaconda3/envs/pca_plsda/lib/python3.12/site-packages/scipy/linalg/_basic.py:1622: RuntimeWarning:\n",
      "\n",
      "divide by zero encountered in matmul\n",
      "\n",
      "/opt/anaconda3/envs/pca_plsda/lib/python3.12/site-packages/scipy/linalg/_basic.py:1622: RuntimeWarning:\n",
      "\n",
      "overflow encountered in matmul\n",
      "\n",
      "/opt/anaconda3/envs/pca_plsda/lib/python3.12/site-packages/scipy/linalg/_basic.py:1622: RuntimeWarning:\n",
      "\n",
      "invalid value encountered in matmul\n",
      "\n",
      "/opt/anaconda3/envs/pca_plsda/lib/python3.12/site-packages/scipy/linalg/_basic.py:1622: RuntimeWarning:\n",
      "\n",
      "divide by zero encountered in matmul\n",
      "\n",
      "/opt/anaconda3/envs/pca_plsda/lib/python3.12/site-packages/scipy/linalg/_basic.py:1622: RuntimeWarning:\n",
      "\n",
      "overflow encountered in matmul\n",
      "\n",
      "/opt/anaconda3/envs/pca_plsda/lib/python3.12/site-packages/scipy/linalg/_basic.py:1622: RuntimeWarning:\n",
      "\n",
      "invalid value encountered in matmul\n",
      "\n",
      "/opt/anaconda3/envs/pca_plsda/lib/python3.12/site-packages/scipy/linalg/_basic.py:1622: RuntimeWarning:\n",
      "\n",
      "divide by zero encountered in matmul\n",
      "\n",
      "/opt/anaconda3/envs/pca_plsda/lib/python3.12/site-packages/scipy/linalg/_basic.py:1622: RuntimeWarning:\n",
      "\n",
      "overflow encountered in matmul\n",
      "\n",
      "/opt/anaconda3/envs/pca_plsda/lib/python3.12/site-packages/scipy/linalg/_basic.py:1622: RuntimeWarning:\n",
      "\n",
      "invalid value encountered in matmul\n",
      "\n",
      "/opt/anaconda3/envs/pca_plsda/lib/python3.12/site-packages/scipy/linalg/_basic.py:1622: RuntimeWarning:\n",
      "\n",
      "divide by zero encountered in matmul\n",
      "\n",
      "/opt/anaconda3/envs/pca_plsda/lib/python3.12/site-packages/scipy/linalg/_basic.py:1622: RuntimeWarning:\n",
      "\n",
      "overflow encountered in matmul\n",
      "\n",
      "/opt/anaconda3/envs/pca_plsda/lib/python3.12/site-packages/scipy/linalg/_basic.py:1622: RuntimeWarning:\n",
      "\n",
      "invalid value encountered in matmul\n",
      "\n",
      "/opt/anaconda3/envs/pca_plsda/lib/python3.12/site-packages/scipy/linalg/_basic.py:1622: RuntimeWarning:\n",
      "\n",
      "divide by zero encountered in matmul\n",
      "\n",
      "/opt/anaconda3/envs/pca_plsda/lib/python3.12/site-packages/scipy/linalg/_basic.py:1622: RuntimeWarning:\n",
      "\n",
      "overflow encountered in matmul\n",
      "\n",
      "/opt/anaconda3/envs/pca_plsda/lib/python3.12/site-packages/scipy/linalg/_basic.py:1622: RuntimeWarning:\n",
      "\n",
      "invalid value encountered in matmul\n",
      "\n",
      "/opt/anaconda3/envs/pca_plsda/lib/python3.12/site-packages/scipy/linalg/_basic.py:1622: RuntimeWarning:\n",
      "\n",
      "divide by zero encountered in matmul\n",
      "\n",
      "/opt/anaconda3/envs/pca_plsda/lib/python3.12/site-packages/scipy/linalg/_basic.py:1622: RuntimeWarning:\n",
      "\n",
      "overflow encountered in matmul\n",
      "\n",
      "/opt/anaconda3/envs/pca_plsda/lib/python3.12/site-packages/scipy/linalg/_basic.py:1622: RuntimeWarning:\n",
      "\n",
      "invalid value encountered in matmul\n",
      "\n",
      "/opt/anaconda3/envs/pca_plsda/lib/python3.12/site-packages/scipy/linalg/_basic.py:1622: RuntimeWarning:\n",
      "\n",
      "divide by zero encountered in matmul\n",
      "\n",
      "/opt/anaconda3/envs/pca_plsda/lib/python3.12/site-packages/scipy/linalg/_basic.py:1622: RuntimeWarning:\n",
      "\n",
      "overflow encountered in matmul\n",
      "\n",
      "/opt/anaconda3/envs/pca_plsda/lib/python3.12/site-packages/scipy/linalg/_basic.py:1622: RuntimeWarning:\n",
      "\n",
      "invalid value encountered in matmul\n",
      "\n",
      "/opt/anaconda3/envs/pca_plsda/lib/python3.12/site-packages/scipy/linalg/_basic.py:1622: RuntimeWarning:\n",
      "\n",
      "divide by zero encountered in matmul\n",
      "\n",
      "/opt/anaconda3/envs/pca_plsda/lib/python3.12/site-packages/scipy/linalg/_basic.py:1622: RuntimeWarning:\n",
      "\n",
      "overflow encountered in matmul\n",
      "\n",
      "/opt/anaconda3/envs/pca_plsda/lib/python3.12/site-packages/scipy/linalg/_basic.py:1622: RuntimeWarning:\n",
      "\n",
      "invalid value encountered in matmul\n",
      "\n"
     ]
    },
    {
     "data": {
      "application/vnd.plotly.v1+json": {
       "config": {
        "plotlyServerURL": "https://plot.ly"
       },
       "data": [
        {
         "mode": "lines+markers",
         "name": "CV Score",
         "type": "scatter",
         "x": [
          1,
          2,
          3,
          4,
          5,
          6,
          7,
          8,
          9,
          10,
          11,
          12,
          13,
          14,
          15
         ],
         "y": [
          0.775,
          0.8,
          0.875,
          0.85,
          0.9,
          0.9,
          0.85,
          0.95,
          0.925,
          0.925,
          1,
          1,
          1,
          1,
          0.975
         ]
        }
       ],
       "layout": {
        "font": {
         "size": 18
        },
        "template": {
         "data": {
          "bar": [
           {
            "error_x": {
             "color": "rgb(51,51,51)"
            },
            "error_y": {
             "color": "rgb(51,51,51)"
            },
            "marker": {
             "line": {
              "color": "rgb(237,237,237)",
              "width": 0.5
             },
             "pattern": {
              "fillmode": "overlay",
              "size": 10,
              "solidity": 0.2
             }
            },
            "type": "bar"
           }
          ],
          "barpolar": [
           {
            "marker": {
             "line": {
              "color": "rgb(237,237,237)",
              "width": 0.5
             },
             "pattern": {
              "fillmode": "overlay",
              "size": 10,
              "solidity": 0.2
             }
            },
            "type": "barpolar"
           }
          ],
          "carpet": [
           {
            "aaxis": {
             "endlinecolor": "rgb(51,51,51)",
             "gridcolor": "white",
             "linecolor": "white",
             "minorgridcolor": "white",
             "startlinecolor": "rgb(51,51,51)"
            },
            "baxis": {
             "endlinecolor": "rgb(51,51,51)",
             "gridcolor": "white",
             "linecolor": "white",
             "minorgridcolor": "white",
             "startlinecolor": "rgb(51,51,51)"
            },
            "type": "carpet"
           }
          ],
          "choropleth": [
           {
            "colorbar": {
             "outlinewidth": 0,
             "tickcolor": "rgb(237,237,237)",
             "ticklen": 6,
             "ticks": "inside"
            },
            "type": "choropleth"
           }
          ],
          "contour": [
           {
            "colorbar": {
             "outlinewidth": 0,
             "tickcolor": "rgb(237,237,237)",
             "ticklen": 6,
             "ticks": "inside"
            },
            "colorscale": [
             [
              0,
              "rgb(20,44,66)"
             ],
             [
              1,
              "rgb(90,179,244)"
             ]
            ],
            "type": "contour"
           }
          ],
          "contourcarpet": [
           {
            "colorbar": {
             "outlinewidth": 0,
             "tickcolor": "rgb(237,237,237)",
             "ticklen": 6,
             "ticks": "inside"
            },
            "type": "contourcarpet"
           }
          ],
          "heatmap": [
           {
            "colorbar": {
             "outlinewidth": 0,
             "tickcolor": "rgb(237,237,237)",
             "ticklen": 6,
             "ticks": "inside"
            },
            "colorscale": [
             [
              0,
              "rgb(20,44,66)"
             ],
             [
              1,
              "rgb(90,179,244)"
             ]
            ],
            "type": "heatmap"
           }
          ],
          "histogram": [
           {
            "marker": {
             "pattern": {
              "fillmode": "overlay",
              "size": 10,
              "solidity": 0.2
             }
            },
            "type": "histogram"
           }
          ],
          "histogram2d": [
           {
            "colorbar": {
             "outlinewidth": 0,
             "tickcolor": "rgb(237,237,237)",
             "ticklen": 6,
             "ticks": "inside"
            },
            "colorscale": [
             [
              0,
              "rgb(20,44,66)"
             ],
             [
              1,
              "rgb(90,179,244)"
             ]
            ],
            "type": "histogram2d"
           }
          ],
          "histogram2dcontour": [
           {
            "colorbar": {
             "outlinewidth": 0,
             "tickcolor": "rgb(237,237,237)",
             "ticklen": 6,
             "ticks": "inside"
            },
            "colorscale": [
             [
              0,
              "rgb(20,44,66)"
             ],
             [
              1,
              "rgb(90,179,244)"
             ]
            ],
            "type": "histogram2dcontour"
           }
          ],
          "mesh3d": [
           {
            "colorbar": {
             "outlinewidth": 0,
             "tickcolor": "rgb(237,237,237)",
             "ticklen": 6,
             "ticks": "inside"
            },
            "type": "mesh3d"
           }
          ],
          "parcoords": [
           {
            "line": {
             "colorbar": {
              "outlinewidth": 0,
              "tickcolor": "rgb(237,237,237)",
              "ticklen": 6,
              "ticks": "inside"
             }
            },
            "type": "parcoords"
           }
          ],
          "pie": [
           {
            "automargin": true,
            "type": "pie"
           }
          ],
          "scatter": [
           {
            "fillpattern": {
             "fillmode": "overlay",
             "size": 10,
             "solidity": 0.2
            },
            "type": "scatter"
           }
          ],
          "scatter3d": [
           {
            "line": {
             "colorbar": {
              "outlinewidth": 0,
              "tickcolor": "rgb(237,237,237)",
              "ticklen": 6,
              "ticks": "inside"
             }
            },
            "marker": {
             "colorbar": {
              "outlinewidth": 0,
              "tickcolor": "rgb(237,237,237)",
              "ticklen": 6,
              "ticks": "inside"
             }
            },
            "type": "scatter3d"
           }
          ],
          "scattercarpet": [
           {
            "marker": {
             "colorbar": {
              "outlinewidth": 0,
              "tickcolor": "rgb(237,237,237)",
              "ticklen": 6,
              "ticks": "inside"
             }
            },
            "type": "scattercarpet"
           }
          ],
          "scattergeo": [
           {
            "marker": {
             "colorbar": {
              "outlinewidth": 0,
              "tickcolor": "rgb(237,237,237)",
              "ticklen": 6,
              "ticks": "inside"
             }
            },
            "type": "scattergeo"
           }
          ],
          "scattergl": [
           {
            "marker": {
             "colorbar": {
              "outlinewidth": 0,
              "tickcolor": "rgb(237,237,237)",
              "ticklen": 6,
              "ticks": "inside"
             }
            },
            "type": "scattergl"
           }
          ],
          "scattermap": [
           {
            "marker": {
             "colorbar": {
              "outlinewidth": 0,
              "tickcolor": "rgb(237,237,237)",
              "ticklen": 6,
              "ticks": "inside"
             }
            },
            "type": "scattermap"
           }
          ],
          "scattermapbox": [
           {
            "marker": {
             "colorbar": {
              "outlinewidth": 0,
              "tickcolor": "rgb(237,237,237)",
              "ticklen": 6,
              "ticks": "inside"
             }
            },
            "type": "scattermapbox"
           }
          ],
          "scatterpolar": [
           {
            "marker": {
             "colorbar": {
              "outlinewidth": 0,
              "tickcolor": "rgb(237,237,237)",
              "ticklen": 6,
              "ticks": "inside"
             }
            },
            "type": "scatterpolar"
           }
          ],
          "scatterpolargl": [
           {
            "marker": {
             "colorbar": {
              "outlinewidth": 0,
              "tickcolor": "rgb(237,237,237)",
              "ticklen": 6,
              "ticks": "inside"
             }
            },
            "type": "scatterpolargl"
           }
          ],
          "scatterternary": [
           {
            "marker": {
             "colorbar": {
              "outlinewidth": 0,
              "tickcolor": "rgb(237,237,237)",
              "ticklen": 6,
              "ticks": "inside"
             }
            },
            "type": "scatterternary"
           }
          ],
          "surface": [
           {
            "colorbar": {
             "outlinewidth": 0,
             "tickcolor": "rgb(237,237,237)",
             "ticklen": 6,
             "ticks": "inside"
            },
            "colorscale": [
             [
              0,
              "rgb(20,44,66)"
             ],
             [
              1,
              "rgb(90,179,244)"
             ]
            ],
            "type": "surface"
           }
          ],
          "table": [
           {
            "cells": {
             "fill": {
              "color": "rgb(237,237,237)"
             },
             "line": {
              "color": "white"
             }
            },
            "header": {
             "fill": {
              "color": "rgb(217,217,217)"
             },
             "line": {
              "color": "white"
             }
            },
            "type": "table"
           }
          ]
         },
         "layout": {
          "annotationdefaults": {
           "arrowhead": 0,
           "arrowwidth": 1
          },
          "autotypenumbers": "strict",
          "coloraxis": {
           "colorbar": {
            "outlinewidth": 0,
            "tickcolor": "rgb(237,237,237)",
            "ticklen": 6,
            "ticks": "inside"
           }
          },
          "colorscale": {
           "sequential": [
            [
             0,
             "rgb(20,44,66)"
            ],
            [
             1,
             "rgb(90,179,244)"
            ]
           ],
           "sequentialminus": [
            [
             0,
             "rgb(20,44,66)"
            ],
            [
             1,
             "rgb(90,179,244)"
            ]
           ]
          },
          "colorway": [
           "#F8766D",
           "#A3A500",
           "#00BF7D",
           "#00B0F6",
           "#E76BF3"
          ],
          "font": {
           "color": "rgb(51,51,51)"
          },
          "geo": {
           "bgcolor": "white",
           "lakecolor": "white",
           "landcolor": "rgb(237,237,237)",
           "showlakes": true,
           "showland": true,
           "subunitcolor": "white"
          },
          "hoverlabel": {
           "align": "left"
          },
          "hovermode": "closest",
          "paper_bgcolor": "white",
          "plot_bgcolor": "rgb(237,237,237)",
          "polar": {
           "angularaxis": {
            "gridcolor": "white",
            "linecolor": "white",
            "showgrid": true,
            "tickcolor": "rgb(51,51,51)",
            "ticks": "outside"
           },
           "bgcolor": "rgb(237,237,237)",
           "radialaxis": {
            "gridcolor": "white",
            "linecolor": "white",
            "showgrid": true,
            "tickcolor": "rgb(51,51,51)",
            "ticks": "outside"
           }
          },
          "scene": {
           "xaxis": {
            "backgroundcolor": "rgb(237,237,237)",
            "gridcolor": "white",
            "gridwidth": 2,
            "linecolor": "white",
            "showbackground": true,
            "showgrid": true,
            "tickcolor": "rgb(51,51,51)",
            "ticks": "outside",
            "zerolinecolor": "white"
           },
           "yaxis": {
            "backgroundcolor": "rgb(237,237,237)",
            "gridcolor": "white",
            "gridwidth": 2,
            "linecolor": "white",
            "showbackground": true,
            "showgrid": true,
            "tickcolor": "rgb(51,51,51)",
            "ticks": "outside",
            "zerolinecolor": "white"
           },
           "zaxis": {
            "backgroundcolor": "rgb(237,237,237)",
            "gridcolor": "white",
            "gridwidth": 2,
            "linecolor": "white",
            "showbackground": true,
            "showgrid": true,
            "tickcolor": "rgb(51,51,51)",
            "ticks": "outside",
            "zerolinecolor": "white"
           }
          },
          "shapedefaults": {
           "fillcolor": "black",
           "line": {
            "width": 0
           },
           "opacity": 0.3
          },
          "ternary": {
           "aaxis": {
            "gridcolor": "white",
            "linecolor": "white",
            "showgrid": true,
            "tickcolor": "rgb(51,51,51)",
            "ticks": "outside"
           },
           "baxis": {
            "gridcolor": "white",
            "linecolor": "white",
            "showgrid": true,
            "tickcolor": "rgb(51,51,51)",
            "ticks": "outside"
           },
           "bgcolor": "rgb(237,237,237)",
           "caxis": {
            "gridcolor": "white",
            "linecolor": "white",
            "showgrid": true,
            "tickcolor": "rgb(51,51,51)",
            "ticks": "outside"
           }
          },
          "xaxis": {
           "automargin": true,
           "gridcolor": "white",
           "linecolor": "white",
           "showgrid": true,
           "tickcolor": "rgb(51,51,51)",
           "ticks": "outside",
           "title": {
            "standoff": 15
           },
           "zerolinecolor": "white"
          },
          "yaxis": {
           "automargin": true,
           "gridcolor": "white",
           "linecolor": "white",
           "showgrid": true,
           "tickcolor": "rgb(51,51,51)",
           "ticks": "outside",
           "title": {
            "standoff": 15
           },
           "zerolinecolor": "white"
          }
         }
        },
        "title": {
         "text": "PLS-DA: CV Performance vs. Number of Components"
        },
        "xaxis": {
         "title": {
          "text": "Number of Components"
         }
        },
        "yaxis": {
         "title": {
          "text": "CV Accuracy Score"
         }
        }
       }
      }
     },
     "metadata": {},
     "output_type": "display_data"
    }
   ],
   "source": [
    "from pls_da.plsda import evaluate_n_components_plsda \n",
    "\n",
    "fig, scores = evaluate_n_components_plsda(filepath, \n",
    "                                          target_column=\"Class\", \n",
    "                                          scoring=\"accuracy\", \n",
    "                                          max_components=15, \n",
    "                                          verbose=False)"
   ]
  },
  {
   "cell_type": "markdown",
   "metadata": {},
   "source": [
    "🤖 Automated Feature Selection\n",
    "\n",
    "After exploring manually, you can move on to **automated feature selection** using:\n",
    "\n",
    "- **Forward Selection**: Start with no features and add one-by-one to optimize accuracy.\n",
    "- **Backward Elimination**: Start with all features and remove the least useful ones.\n",
    "\n",
    "Each method allows you to control:\n",
    "- The number of features to include or retain\n",
    "- How many PLS components to use\n",
    "- Whether to visualize model performance and scores\n",
    "\n",
    "These tools help reduce dimensionality and improve interpretability of your model — while still achieving strong performance.\n",
    "\n",
    "Also, you can adjust `n_components=` in the functions with best value obtained in the model evaluation section"
   ]
  },
  {
   "cell_type": "code",
   "execution_count": 4,
   "metadata": {},
   "outputs": [
    {
     "name": "stdout",
     "output_type": "stream",
     "text": [
      "\n",
      "\u001b[1mIteration 1\u001b[0m: \u001b[1mInitial selected\u001b[0m = ['density_A-B', 'Gilman_A'], \u001b[1mScore\u001b[0m = 0.5000\n",
      "\n",
      "\n",
      "\u001b[1mIteration 2\u001b[0m: \u001b[1mAdded\u001b[0m  'group_A', \u001b[1mSelected\u001b[0m = ['density_A-B', 'Gilman_A', 'group_A'], \u001b[1mScore = 0.8250\u001b[0m\n",
      "\n",
      "\n",
      "\u001b[1mIteration 3\u001b[0m: \u001b[1mAdded\u001b[0m  'ionization_energy_B', \u001b[1mSelected\u001b[0m = ['density_A-B', 'Gilman_A', 'group_A', 'ionization_energy_B'], \u001b[1mScore = 0.9000\u001b[0m\n",
      "\n",
      "\n",
      "\u001b[1mIteration 4\u001b[0m: \u001b[1mAdded\u001b[0m  'specific_heat_A/B', \u001b[1mSelected\u001b[0m = ['density_A-B', 'Gilman_A', 'group_A', 'ionization_energy_B', 'specific_heat_A/B'], \u001b[1mScore = 0.9500\u001b[0m\n",
      "\n",
      "\n",
      "\u001b[1mIteration 5\u001b[0m: \u001b[1mAdded\u001b[0m  'melting_point_K_min', \u001b[1mSelected\u001b[0m = ['density_A-B', 'Gilman_A', 'group_A', 'ionization_energy_B', 'specific_heat_A/B', 'melting_point_K_min'], \u001b[1mScore = 0.9750\u001b[0m\n",
      "\n",
      "\n",
      "\u001b[1mIteration 6\u001b[0m: \u001b[1mAdded\u001b[0m  'Martynov_Batsanov_EN_max', \u001b[1mSelected\u001b[0m = ['density_A-B', 'Gilman_A', 'group_A', 'ionization_energy_B', 'specific_heat_A/B', 'melting_point_K_min', 'Martynov_Batsanov_EN_max'], \u001b[1mScore = 0.9750\u001b[0m\n",
      "\n",
      "\n",
      "\u001b[1mIteration 7\u001b[0m: \u001b[1mAdded\u001b[0m  'Pauling_radius_CN12_avg', \u001b[1mSelected\u001b[0m = ['density_A-B', 'Gilman_A', 'group_A', 'ionization_energy_B', 'specific_heat_A/B', 'melting_point_K_min', 'Martynov_Batsanov_EN_max', 'Pauling_radius_CN12_avg'], \u001b[1mScore = 0.9750\u001b[0m\n",
      "\n",
      "\n",
      "\u001b[1mIteration 8\u001b[0m: \u001b[1mAdded\u001b[0m  'density_weighted_norm_A+B', \u001b[1mSelected\u001b[0m = ['density_A-B', 'Gilman_A', 'group_A', 'ionization_energy_B', 'specific_heat_A/B', 'melting_point_K_min', 'Martynov_Batsanov_EN_max', 'Pauling_radius_CN12_avg', 'density_weighted_norm_A+B'], \u001b[1mScore = 1.0000\u001b[0m\n",
      "\n",
      "\n",
      "\u001b[1mIteration 9\u001b[0m: \u001b[1mAdded\u001b[0m  'normalized_index_A', \u001b[1mSelected\u001b[0m = ['density_A-B', 'Gilman_A', 'group_A', 'ionization_energy_B', 'specific_heat_A/B', 'melting_point_K_min', 'Martynov_Batsanov_EN_max', 'Pauling_radius_CN12_avg', 'density_weighted_norm_A+B', 'normalized_index_A'], \u001b[1mScore = 1.0000\u001b[0m\n",
      "\n",
      "\n",
      "\u001b[1mIteration 10\u001b[0m: \u001b[1mAdded\u001b[0m  'normalized_index_B', \u001b[1mSelected\u001b[0m = ['density_A-B', 'Gilman_A', 'group_A', 'ionization_energy_B', 'specific_heat_A/B', 'melting_point_K_min', 'Martynov_Batsanov_EN_max', 'Pauling_radius_CN12_avg', 'density_weighted_norm_A+B', 'normalized_index_A', 'normalized_index_B'], \u001b[1mScore = 1.0000\u001b[0m\n",
      "\n",
      "\n",
      "\u001b[1mIteration 11\u001b[0m: \u001b[1mAdded\u001b[0m  'density_max', \u001b[1mSelected\u001b[0m = ['density_A-B', 'Gilman_A', 'group_A', 'ionization_energy_B', 'specific_heat_A/B', 'melting_point_K_min', 'Martynov_Batsanov_EN_max', 'Pauling_radius_CN12_avg', 'density_weighted_norm_A+B', 'normalized_index_A', 'normalized_index_B', 'density_max'], \u001b[1mScore = 1.0000\u001b[0m\n",
      "\n",
      "\n",
      "\u001b[1mIteration 12\u001b[0m: \u001b[1mAdded\u001b[0m  'melting_point_K_A-B', \u001b[1mSelected\u001b[0m = ['density_A-B', 'Gilman_A', 'group_A', 'ionization_energy_B', 'specific_heat_A/B', 'melting_point_K_min', 'Martynov_Batsanov_EN_max', 'Pauling_radius_CN12_avg', 'density_weighted_norm_A+B', 'normalized_index_A', 'normalized_index_B', 'density_max', 'melting_point_K_A-B'], \u001b[1mScore = 1.0000\u001b[0m\n",
      "\n",
      "\n",
      "\u001b[1mIteration 13\u001b[0m: \u001b[1mAdded\u001b[0m  'CIF_radius_A/B', \u001b[1mSelected\u001b[0m = ['density_A-B', 'Gilman_A', 'group_A', 'ionization_energy_B', 'specific_heat_A/B', 'melting_point_K_min', 'Martynov_Batsanov_EN_max', 'Pauling_radius_CN12_avg', 'density_weighted_norm_A+B', 'normalized_index_A', 'normalized_index_B', 'density_max', 'melting_point_K_A-B', 'CIF_radius_A/B'], \u001b[1mScore = 1.0000\u001b[0m\n",
      "\n",
      "\n",
      "\u001b[1mIteration 14\u001b[0m: \u001b[1mAdded\u001b[0m  'avg_index', \u001b[1mSelected\u001b[0m = ['density_A-B', 'Gilman_A', 'group_A', 'ionization_energy_B', 'specific_heat_A/B', 'melting_point_K_min', 'Martynov_Batsanov_EN_max', 'Pauling_radius_CN12_avg', 'density_weighted_norm_A+B', 'normalized_index_A', 'normalized_index_B', 'density_max', 'melting_point_K_A-B', 'CIF_radius_A/B', 'avg_index'], \u001b[1mScore = 1.0000\u001b[0m\n",
      "\n",
      "\n",
      "Final selected features: ['density_A-B', 'Gilman_A', 'group_A', 'ionization_energy_B', 'specific_heat_A/B', 'melting_point_K_min', 'Martynov_Batsanov_EN_max', 'Pauling_radius_CN12_avg', 'density_weighted_norm_A+B', 'normalized_index_A', 'normalized_index_B', 'density_max', 'melting_point_K_A-B', 'CIF_radius_A/B', 'avg_index']\n"
     ]
    },
    {
     "data": {
      "application/vnd.plotly.v1+json": {
       "config": {
        "plotlyServerURL": "https://plot.ly"
       },
       "data": [
        {
         "mode": "lines+markers",
         "name": "Performance",
         "type": "scatter",
         "x": [
          1,
          2,
          3,
          4,
          5,
          6,
          7,
          8,
          9,
          10,
          11,
          12,
          13,
          14
         ],
         "y": [
          0.5,
          0.825,
          0.9,
          0.95,
          0.975,
          0.975,
          0.975,
          1,
          1,
          1,
          1,
          1,
          1,
          1
         ]
        }
       ],
       "layout": {
        "font": {
         "size": 26
        },
        "template": {
         "data": {
          "bar": [
           {
            "error_x": {
             "color": "rgb(51,51,51)"
            },
            "error_y": {
             "color": "rgb(51,51,51)"
            },
            "marker": {
             "line": {
              "color": "rgb(237,237,237)",
              "width": 0.5
             },
             "pattern": {
              "fillmode": "overlay",
              "size": 10,
              "solidity": 0.2
             }
            },
            "type": "bar"
           }
          ],
          "barpolar": [
           {
            "marker": {
             "line": {
              "color": "rgb(237,237,237)",
              "width": 0.5
             },
             "pattern": {
              "fillmode": "overlay",
              "size": 10,
              "solidity": 0.2
             }
            },
            "type": "barpolar"
           }
          ],
          "carpet": [
           {
            "aaxis": {
             "endlinecolor": "rgb(51,51,51)",
             "gridcolor": "white",
             "linecolor": "white",
             "minorgridcolor": "white",
             "startlinecolor": "rgb(51,51,51)"
            },
            "baxis": {
             "endlinecolor": "rgb(51,51,51)",
             "gridcolor": "white",
             "linecolor": "white",
             "minorgridcolor": "white",
             "startlinecolor": "rgb(51,51,51)"
            },
            "type": "carpet"
           }
          ],
          "choropleth": [
           {
            "colorbar": {
             "outlinewidth": 0,
             "tickcolor": "rgb(237,237,237)",
             "ticklen": 6,
             "ticks": "inside"
            },
            "type": "choropleth"
           }
          ],
          "contour": [
           {
            "colorbar": {
             "outlinewidth": 0,
             "tickcolor": "rgb(237,237,237)",
             "ticklen": 6,
             "ticks": "inside"
            },
            "colorscale": [
             [
              0,
              "rgb(20,44,66)"
             ],
             [
              1,
              "rgb(90,179,244)"
             ]
            ],
            "type": "contour"
           }
          ],
          "contourcarpet": [
           {
            "colorbar": {
             "outlinewidth": 0,
             "tickcolor": "rgb(237,237,237)",
             "ticklen": 6,
             "ticks": "inside"
            },
            "type": "contourcarpet"
           }
          ],
          "heatmap": [
           {
            "colorbar": {
             "outlinewidth": 0,
             "tickcolor": "rgb(237,237,237)",
             "ticklen": 6,
             "ticks": "inside"
            },
            "colorscale": [
             [
              0,
              "rgb(20,44,66)"
             ],
             [
              1,
              "rgb(90,179,244)"
             ]
            ],
            "type": "heatmap"
           }
          ],
          "histogram": [
           {
            "marker": {
             "pattern": {
              "fillmode": "overlay",
              "size": 10,
              "solidity": 0.2
             }
            },
            "type": "histogram"
           }
          ],
          "histogram2d": [
           {
            "colorbar": {
             "outlinewidth": 0,
             "tickcolor": "rgb(237,237,237)",
             "ticklen": 6,
             "ticks": "inside"
            },
            "colorscale": [
             [
              0,
              "rgb(20,44,66)"
             ],
             [
              1,
              "rgb(90,179,244)"
             ]
            ],
            "type": "histogram2d"
           }
          ],
          "histogram2dcontour": [
           {
            "colorbar": {
             "outlinewidth": 0,
             "tickcolor": "rgb(237,237,237)",
             "ticklen": 6,
             "ticks": "inside"
            },
            "colorscale": [
             [
              0,
              "rgb(20,44,66)"
             ],
             [
              1,
              "rgb(90,179,244)"
             ]
            ],
            "type": "histogram2dcontour"
           }
          ],
          "mesh3d": [
           {
            "colorbar": {
             "outlinewidth": 0,
             "tickcolor": "rgb(237,237,237)",
             "ticklen": 6,
             "ticks": "inside"
            },
            "type": "mesh3d"
           }
          ],
          "parcoords": [
           {
            "line": {
             "colorbar": {
              "outlinewidth": 0,
              "tickcolor": "rgb(237,237,237)",
              "ticklen": 6,
              "ticks": "inside"
             }
            },
            "type": "parcoords"
           }
          ],
          "pie": [
           {
            "automargin": true,
            "type": "pie"
           }
          ],
          "scatter": [
           {
            "fillpattern": {
             "fillmode": "overlay",
             "size": 10,
             "solidity": 0.2
            },
            "type": "scatter"
           }
          ],
          "scatter3d": [
           {
            "line": {
             "colorbar": {
              "outlinewidth": 0,
              "tickcolor": "rgb(237,237,237)",
              "ticklen": 6,
              "ticks": "inside"
             }
            },
            "marker": {
             "colorbar": {
              "outlinewidth": 0,
              "tickcolor": "rgb(237,237,237)",
              "ticklen": 6,
              "ticks": "inside"
             }
            },
            "type": "scatter3d"
           }
          ],
          "scattercarpet": [
           {
            "marker": {
             "colorbar": {
              "outlinewidth": 0,
              "tickcolor": "rgb(237,237,237)",
              "ticklen": 6,
              "ticks": "inside"
             }
            },
            "type": "scattercarpet"
           }
          ],
          "scattergeo": [
           {
            "marker": {
             "colorbar": {
              "outlinewidth": 0,
              "tickcolor": "rgb(237,237,237)",
              "ticklen": 6,
              "ticks": "inside"
             }
            },
            "type": "scattergeo"
           }
          ],
          "scattergl": [
           {
            "marker": {
             "colorbar": {
              "outlinewidth": 0,
              "tickcolor": "rgb(237,237,237)",
              "ticklen": 6,
              "ticks": "inside"
             }
            },
            "type": "scattergl"
           }
          ],
          "scattermap": [
           {
            "marker": {
             "colorbar": {
              "outlinewidth": 0,
              "tickcolor": "rgb(237,237,237)",
              "ticklen": 6,
              "ticks": "inside"
             }
            },
            "type": "scattermap"
           }
          ],
          "scattermapbox": [
           {
            "marker": {
             "colorbar": {
              "outlinewidth": 0,
              "tickcolor": "rgb(237,237,237)",
              "ticklen": 6,
              "ticks": "inside"
             }
            },
            "type": "scattermapbox"
           }
          ],
          "scatterpolar": [
           {
            "marker": {
             "colorbar": {
              "outlinewidth": 0,
              "tickcolor": "rgb(237,237,237)",
              "ticklen": 6,
              "ticks": "inside"
             }
            },
            "type": "scatterpolar"
           }
          ],
          "scatterpolargl": [
           {
            "marker": {
             "colorbar": {
              "outlinewidth": 0,
              "tickcolor": "rgb(237,237,237)",
              "ticklen": 6,
              "ticks": "inside"
             }
            },
            "type": "scatterpolargl"
           }
          ],
          "scatterternary": [
           {
            "marker": {
             "colorbar": {
              "outlinewidth": 0,
              "tickcolor": "rgb(237,237,237)",
              "ticklen": 6,
              "ticks": "inside"
             }
            },
            "type": "scatterternary"
           }
          ],
          "surface": [
           {
            "colorbar": {
             "outlinewidth": 0,
             "tickcolor": "rgb(237,237,237)",
             "ticklen": 6,
             "ticks": "inside"
            },
            "colorscale": [
             [
              0,
              "rgb(20,44,66)"
             ],
             [
              1,
              "rgb(90,179,244)"
             ]
            ],
            "type": "surface"
           }
          ],
          "table": [
           {
            "cells": {
             "fill": {
              "color": "rgb(237,237,237)"
             },
             "line": {
              "color": "white"
             }
            },
            "header": {
             "fill": {
              "color": "rgb(217,217,217)"
             },
             "line": {
              "color": "white"
             }
            },
            "type": "table"
           }
          ]
         },
         "layout": {
          "annotationdefaults": {
           "arrowhead": 0,
           "arrowwidth": 1
          },
          "autotypenumbers": "strict",
          "coloraxis": {
           "colorbar": {
            "outlinewidth": 0,
            "tickcolor": "rgb(237,237,237)",
            "ticklen": 6,
            "ticks": "inside"
           }
          },
          "colorscale": {
           "sequential": [
            [
             0,
             "rgb(20,44,66)"
            ],
            [
             1,
             "rgb(90,179,244)"
            ]
           ],
           "sequentialminus": [
            [
             0,
             "rgb(20,44,66)"
            ],
            [
             1,
             "rgb(90,179,244)"
            ]
           ]
          },
          "colorway": [
           "#F8766D",
           "#A3A500",
           "#00BF7D",
           "#00B0F6",
           "#E76BF3"
          ],
          "font": {
           "color": "rgb(51,51,51)"
          },
          "geo": {
           "bgcolor": "white",
           "lakecolor": "white",
           "landcolor": "rgb(237,237,237)",
           "showlakes": true,
           "showland": true,
           "subunitcolor": "white"
          },
          "hoverlabel": {
           "align": "left"
          },
          "hovermode": "closest",
          "paper_bgcolor": "white",
          "plot_bgcolor": "rgb(237,237,237)",
          "polar": {
           "angularaxis": {
            "gridcolor": "white",
            "linecolor": "white",
            "showgrid": true,
            "tickcolor": "rgb(51,51,51)",
            "ticks": "outside"
           },
           "bgcolor": "rgb(237,237,237)",
           "radialaxis": {
            "gridcolor": "white",
            "linecolor": "white",
            "showgrid": true,
            "tickcolor": "rgb(51,51,51)",
            "ticks": "outside"
           }
          },
          "scene": {
           "xaxis": {
            "backgroundcolor": "rgb(237,237,237)",
            "gridcolor": "white",
            "gridwidth": 2,
            "linecolor": "white",
            "showbackground": true,
            "showgrid": true,
            "tickcolor": "rgb(51,51,51)",
            "ticks": "outside",
            "zerolinecolor": "white"
           },
           "yaxis": {
            "backgroundcolor": "rgb(237,237,237)",
            "gridcolor": "white",
            "gridwidth": 2,
            "linecolor": "white",
            "showbackground": true,
            "showgrid": true,
            "tickcolor": "rgb(51,51,51)",
            "ticks": "outside",
            "zerolinecolor": "white"
           },
           "zaxis": {
            "backgroundcolor": "rgb(237,237,237)",
            "gridcolor": "white",
            "gridwidth": 2,
            "linecolor": "white",
            "showbackground": true,
            "showgrid": true,
            "tickcolor": "rgb(51,51,51)",
            "ticks": "outside",
            "zerolinecolor": "white"
           }
          },
          "shapedefaults": {
           "fillcolor": "black",
           "line": {
            "width": 0
           },
           "opacity": 0.3
          },
          "ternary": {
           "aaxis": {
            "gridcolor": "white",
            "linecolor": "white",
            "showgrid": true,
            "tickcolor": "rgb(51,51,51)",
            "ticks": "outside"
           },
           "baxis": {
            "gridcolor": "white",
            "linecolor": "white",
            "showgrid": true,
            "tickcolor": "rgb(51,51,51)",
            "ticks": "outside"
           },
           "bgcolor": "rgb(237,237,237)",
           "caxis": {
            "gridcolor": "white",
            "linecolor": "white",
            "showgrid": true,
            "tickcolor": "rgb(51,51,51)",
            "ticks": "outside"
           }
          },
          "xaxis": {
           "automargin": true,
           "gridcolor": "white",
           "linecolor": "white",
           "showgrid": true,
           "tickcolor": "rgb(51,51,51)",
           "ticks": "outside",
           "title": {
            "standoff": 15
           },
           "zerolinecolor": "white"
          },
          "yaxis": {
           "automargin": true,
           "gridcolor": "white",
           "linecolor": "white",
           "showgrid": true,
           "tickcolor": "rgb(51,51,51)",
           "ticks": "outside",
           "title": {
            "standoff": 15
           },
           "zerolinecolor": "white"
          }
         }
        },
        "title": {
         "text": "Forward Selection Performance"
        },
        "xaxis": {
         "title": {
          "text": "Number of Features"
         }
        },
        "yaxis": {
         "title": {
          "text": "CV Accuracy Score"
         }
        }
       }
      }
     },
     "metadata": {},
     "output_type": "display_data"
    },
    {
     "data": {
      "application/vnd.jupyter.widget-view+json": {
       "model_id": "318d905cc08f42d3838a8bc60c5c8cd9",
       "version_major": 2,
       "version_minor": 0
      },
      "text/plain": [
       "IntSlider(value=0, description='Step', max=13)"
      ]
     },
     "metadata": {},
     "output_type": "display_data"
    },
    {
     "data": {
      "application/vnd.jupyter.widget-view+json": {
       "model_id": "b74b8aed4aea4612b3b21776a4ac7376",
       "version_major": 2,
       "version_minor": 0
      },
      "text/plain": [
       "Output()"
      ]
     },
     "metadata": {},
     "output_type": "display_data"
    },
    {
     "name": "stdout",
     "output_type": "stream",
     "text": [
      "Selected features via forward selection: ['density_A-B', 'Gilman_A', 'group_A', 'ionization_energy_B', 'specific_heat_A/B', 'melting_point_K_min', 'Martynov_Batsanov_EN_max', 'Pauling_radius_CN12_avg', 'density_weighted_norm_A+B', 'normalized_index_A', 'normalized_index_B', 'density_max', 'melting_point_K_A-B', 'CIF_radius_A/B', 'avg_index']\n"
     ]
    }
   ],
   "source": [
    "from pls_da.feature import forward_selection_plsda, backward_elimination_plsda\n",
    "\n",
    "# Forward selection example:\n",
    "selected_feats, perf_hist = forward_selection_plsda(\n",
    "    filepath, \n",
    "    target_column=\"Class\", \n",
    "    max_features=15, \n",
    "    n_components=2,\n",
    "    scoring='accuracy', \n",
    "    verbose=True, \n",
    "    visualize=True,\n",
    "    interactive_scatter=True\n",
    ")\n",
    "print(\"Selected features via forward selection:\", selected_feats)"
   ]
  },
  {
   "cell_type": "code",
   "execution_count": 5,
   "metadata": {},
   "outputs": [
    {
     "name": "stdout",
     "output_type": "stream",
     "text": [
      "\n",
      "\u001b[1mIteration 0:\u001b[0m All features, \u001b[1mScore = 0.8000\u001b[0m\n",
      "\n",
      "\n",
      "\u001b[1mIteration 1:\u001b[0m \u001b[1mRemoved\u001b[0m 'specific_heat_min', \u001b[1mRemaining\u001b[0m = ['index_A', 'index_B', 'normalized_index_A', 'normalized_index_B', 'largest_index', 'smallest_index', 'avg_index', 'atomic_weight_weighted_A+B', 'atomic_weight_A/B', 'atomic_weight_A-B', 'period_A', 'period_B', 'group_A', 'group_B', 'group_A-B', 'Mendeleev_number_A', 'Mendeleev_number_B', 'Mendeleev_number_A-B', 'valencee_total_A', 'valencee_total_B', 'valencee_total_A-B', 'valencee_total_A+B', 'valencee_total_weighted_A+B', 'valencee_total_weighted_norm_A+B', 'unpaired_electrons_A', 'unpaired_electrons_B', 'unpaired_electrons_A-B', 'unpaired_electrons_A+B', 'unpaired_electrons_weighted_A+B', 'unpaired_electrons_weighted_norm_A+B', 'Gilman_A', 'Gilman_B', 'Gilman_A-B', 'Gilman_A+B', 'Gilman_weighted_A+B', 'Gilman_weighted_norm_A+B', 'Z_eff_A', 'Z_eff_B', 'Z_eff_A-B', 'Z_eff_A/B', 'Z_eff_max', 'Z_eff_min', 'Z_eff_avg', 'Z_eff_weighted_norm_A+B', 'ionization_energy_A', 'ionization_energy_B', 'ionization_energy_A-B', 'ionization_energy_A/B', 'ionization_energy_max', 'ionization_energy_min', 'ionization_energy_avg', 'ionization_energy_weighted_norm_A+B', 'coordination_number_A', 'coordination_number_B', 'coordination_number_A-B', 'ratio_closest_A', 'ratio_closest_B', 'ratio_closest_max', 'ratio_closest_min', 'ratio_closest_avg', 'polyhedron_distortion_A', 'polyhedron_distortion_B', 'polyhedron_distortion_max', 'polyhedron_distortion_min', 'polyhedron_distortion_avg', 'CIF_radius_A', 'CIF_radius_B', 'CIF_radius_A/B', 'CIF_radius_A-B', 'CIF_radius_avg', 'CIF_radius_weighted_norm_A+B', 'Pauling_radius_CN12_A', 'Pauling_radius_CN12_B', 'Pauling_radius_CN12_A/B', 'Pauling_radius_CN12_A-B', 'Pauling_radius_CN12_avg', 'Pauling_radius_CN12_weighted_norm_A+B', 'Pauling_EN_A', 'Pauling_EN_B', 'Pauling_EN_A-B', 'Pauling_EN_A/B', 'Pauling_EN_max', 'Pauling_EN_min', 'Pauling_EN_avg', 'Pauling_EN_weighted_norm_A+B', 'Martynov_Batsanov_EN_A', 'Martynov_Batsanov_EN_B', 'Martynov_Batsanov_EN_A-B', 'Martynov_Batsanov_EN_A/B', 'Martynov_Batsanov_EN_max', 'Martynov_Batsanov_EN_min', 'Martynov_Batsanov_EN_avg', 'Martynov_Batsanov_EN_weighted_norm_A+B', 'melting_point_K_A', 'melting_point_K_B', 'melting_point_K_A-B', 'melting_point_K_A/B', 'melting_point_K_max', 'melting_point_K_min', 'melting_point_K_avg', 'melting_point_K_weighted_norm_A+B', 'density_A', 'density_B', 'density_A-B', 'density_A/B', 'density_max', 'density_min', 'density_avg', 'density_weighted_norm_A+B', 'specific_heat_A', 'specific_heat_B', 'specific_heat_A-B', 'specific_heat_A/B', 'specific_heat_max', 'specific_heat_avg', 'specific_heat_weighted_norm_A+B', 'cohesive_energy_A', 'cohesive_energy_B', 'cohesive_energy_A-B', 'cohesive_energy_A/B', 'cohesive_energy_max', 'cohesive_energy_min', 'cohesive_energy_avg', 'cohesive_energy_weighted_norm_A+B', 'bulk_modulus_A', 'bulk_modulus_B', 'bulk_modulus_A-B', 'bulk_modulus_A/B', 'bulk_modulus_max', 'bulk_modulus_min', 'bulk_modulus_avg', 'bulk_modulus_weighted_norm_A+B'], \u001b[1mScore = 0.8000\u001b[0m\n",
      "\n",
      "\n",
      "\u001b[1mIteration 2:\u001b[0m \u001b[1mRemoved\u001b[0m 'ionization_energy_min', \u001b[1mRemaining\u001b[0m = ['index_A', 'index_B', 'normalized_index_A', 'normalized_index_B', 'largest_index', 'smallest_index', 'avg_index', 'atomic_weight_weighted_A+B', 'atomic_weight_A/B', 'atomic_weight_A-B', 'period_A', 'period_B', 'group_A', 'group_B', 'group_A-B', 'Mendeleev_number_A', 'Mendeleev_number_B', 'Mendeleev_number_A-B', 'valencee_total_A', 'valencee_total_B', 'valencee_total_A-B', 'valencee_total_A+B', 'valencee_total_weighted_A+B', 'valencee_total_weighted_norm_A+B', 'unpaired_electrons_A', 'unpaired_electrons_B', 'unpaired_electrons_A-B', 'unpaired_electrons_A+B', 'unpaired_electrons_weighted_A+B', 'unpaired_electrons_weighted_norm_A+B', 'Gilman_A', 'Gilman_B', 'Gilman_A-B', 'Gilman_A+B', 'Gilman_weighted_A+B', 'Gilman_weighted_norm_A+B', 'Z_eff_A', 'Z_eff_B', 'Z_eff_A-B', 'Z_eff_A/B', 'Z_eff_max', 'Z_eff_min', 'Z_eff_avg', 'Z_eff_weighted_norm_A+B', 'ionization_energy_A', 'ionization_energy_B', 'ionization_energy_A-B', 'ionization_energy_A/B', 'ionization_energy_max', 'ionization_energy_avg', 'ionization_energy_weighted_norm_A+B', 'coordination_number_A', 'coordination_number_B', 'coordination_number_A-B', 'ratio_closest_A', 'ratio_closest_B', 'ratio_closest_max', 'ratio_closest_min', 'ratio_closest_avg', 'polyhedron_distortion_A', 'polyhedron_distortion_B', 'polyhedron_distortion_max', 'polyhedron_distortion_min', 'polyhedron_distortion_avg', 'CIF_radius_A', 'CIF_radius_B', 'CIF_radius_A/B', 'CIF_radius_A-B', 'CIF_radius_avg', 'CIF_radius_weighted_norm_A+B', 'Pauling_radius_CN12_A', 'Pauling_radius_CN12_B', 'Pauling_radius_CN12_A/B', 'Pauling_radius_CN12_A-B', 'Pauling_radius_CN12_avg', 'Pauling_radius_CN12_weighted_norm_A+B', 'Pauling_EN_A', 'Pauling_EN_B', 'Pauling_EN_A-B', 'Pauling_EN_A/B', 'Pauling_EN_max', 'Pauling_EN_min', 'Pauling_EN_avg', 'Pauling_EN_weighted_norm_A+B', 'Martynov_Batsanov_EN_A', 'Martynov_Batsanov_EN_B', 'Martynov_Batsanov_EN_A-B', 'Martynov_Batsanov_EN_A/B', 'Martynov_Batsanov_EN_max', 'Martynov_Batsanov_EN_min', 'Martynov_Batsanov_EN_avg', 'Martynov_Batsanov_EN_weighted_norm_A+B', 'melting_point_K_A', 'melting_point_K_B', 'melting_point_K_A-B', 'melting_point_K_A/B', 'melting_point_K_max', 'melting_point_K_min', 'melting_point_K_avg', 'melting_point_K_weighted_norm_A+B', 'density_A', 'density_B', 'density_A-B', 'density_A/B', 'density_max', 'density_min', 'density_avg', 'density_weighted_norm_A+B', 'specific_heat_A', 'specific_heat_B', 'specific_heat_A-B', 'specific_heat_A/B', 'specific_heat_max', 'specific_heat_avg', 'specific_heat_weighted_norm_A+B', 'cohesive_energy_A', 'cohesive_energy_B', 'cohesive_energy_A-B', 'cohesive_energy_A/B', 'cohesive_energy_max', 'cohesive_energy_min', 'cohesive_energy_avg', 'cohesive_energy_weighted_norm_A+B', 'bulk_modulus_A', 'bulk_modulus_B', 'bulk_modulus_A-B', 'bulk_modulus_A/B', 'bulk_modulus_max', 'bulk_modulus_min', 'bulk_modulus_avg', 'bulk_modulus_weighted_norm_A+B'], \u001b[1mScore = 0.8000\u001b[0m\n",
      "\n",
      "\n",
      "\u001b[1mIteration 3:\u001b[0m \u001b[1mRemoved\u001b[0m 'ionization_energy_weighted_norm_A+B', \u001b[1mRemaining\u001b[0m = ['index_A', 'index_B', 'normalized_index_A', 'normalized_index_B', 'largest_index', 'smallest_index', 'avg_index', 'atomic_weight_weighted_A+B', 'atomic_weight_A/B', 'atomic_weight_A-B', 'period_A', 'period_B', 'group_A', 'group_B', 'group_A-B', 'Mendeleev_number_A', 'Mendeleev_number_B', 'Mendeleev_number_A-B', 'valencee_total_A', 'valencee_total_B', 'valencee_total_A-B', 'valencee_total_A+B', 'valencee_total_weighted_A+B', 'valencee_total_weighted_norm_A+B', 'unpaired_electrons_A', 'unpaired_electrons_B', 'unpaired_electrons_A-B', 'unpaired_electrons_A+B', 'unpaired_electrons_weighted_A+B', 'unpaired_electrons_weighted_norm_A+B', 'Gilman_A', 'Gilman_B', 'Gilman_A-B', 'Gilman_A+B', 'Gilman_weighted_A+B', 'Gilman_weighted_norm_A+B', 'Z_eff_A', 'Z_eff_B', 'Z_eff_A-B', 'Z_eff_A/B', 'Z_eff_max', 'Z_eff_min', 'Z_eff_avg', 'Z_eff_weighted_norm_A+B', 'ionization_energy_A', 'ionization_energy_B', 'ionization_energy_A-B', 'ionization_energy_A/B', 'ionization_energy_max', 'ionization_energy_avg', 'coordination_number_A', 'coordination_number_B', 'coordination_number_A-B', 'ratio_closest_A', 'ratio_closest_B', 'ratio_closest_max', 'ratio_closest_min', 'ratio_closest_avg', 'polyhedron_distortion_A', 'polyhedron_distortion_B', 'polyhedron_distortion_max', 'polyhedron_distortion_min', 'polyhedron_distortion_avg', 'CIF_radius_A', 'CIF_radius_B', 'CIF_radius_A/B', 'CIF_radius_A-B', 'CIF_radius_avg', 'CIF_radius_weighted_norm_A+B', 'Pauling_radius_CN12_A', 'Pauling_radius_CN12_B', 'Pauling_radius_CN12_A/B', 'Pauling_radius_CN12_A-B', 'Pauling_radius_CN12_avg', 'Pauling_radius_CN12_weighted_norm_A+B', 'Pauling_EN_A', 'Pauling_EN_B', 'Pauling_EN_A-B', 'Pauling_EN_A/B', 'Pauling_EN_max', 'Pauling_EN_min', 'Pauling_EN_avg', 'Pauling_EN_weighted_norm_A+B', 'Martynov_Batsanov_EN_A', 'Martynov_Batsanov_EN_B', 'Martynov_Batsanov_EN_A-B', 'Martynov_Batsanov_EN_A/B', 'Martynov_Batsanov_EN_max', 'Martynov_Batsanov_EN_min', 'Martynov_Batsanov_EN_avg', 'Martynov_Batsanov_EN_weighted_norm_A+B', 'melting_point_K_A', 'melting_point_K_B', 'melting_point_K_A-B', 'melting_point_K_A/B', 'melting_point_K_max', 'melting_point_K_min', 'melting_point_K_avg', 'melting_point_K_weighted_norm_A+B', 'density_A', 'density_B', 'density_A-B', 'density_A/B', 'density_max', 'density_min', 'density_avg', 'density_weighted_norm_A+B', 'specific_heat_A', 'specific_heat_B', 'specific_heat_A-B', 'specific_heat_A/B', 'specific_heat_max', 'specific_heat_avg', 'specific_heat_weighted_norm_A+B', 'cohesive_energy_A', 'cohesive_energy_B', 'cohesive_energy_A-B', 'cohesive_energy_A/B', 'cohesive_energy_max', 'cohesive_energy_min', 'cohesive_energy_avg', 'cohesive_energy_weighted_norm_A+B', 'bulk_modulus_A', 'bulk_modulus_B', 'bulk_modulus_A-B', 'bulk_modulus_A/B', 'bulk_modulus_max', 'bulk_modulus_min', 'bulk_modulus_avg', 'bulk_modulus_weighted_norm_A+B'], \u001b[1mScore = 0.8250\u001b[0m\n",
      "\n",
      "\n",
      "\u001b[1mIteration 4:\u001b[0m \u001b[1mRemoved\u001b[0m 'cohesive_energy_min', \u001b[1mRemaining\u001b[0m = ['index_A', 'index_B', 'normalized_index_A', 'normalized_index_B', 'largest_index', 'smallest_index', 'avg_index', 'atomic_weight_weighted_A+B', 'atomic_weight_A/B', 'atomic_weight_A-B', 'period_A', 'period_B', 'group_A', 'group_B', 'group_A-B', 'Mendeleev_number_A', 'Mendeleev_number_B', 'Mendeleev_number_A-B', 'valencee_total_A', 'valencee_total_B', 'valencee_total_A-B', 'valencee_total_A+B', 'valencee_total_weighted_A+B', 'valencee_total_weighted_norm_A+B', 'unpaired_electrons_A', 'unpaired_electrons_B', 'unpaired_electrons_A-B', 'unpaired_electrons_A+B', 'unpaired_electrons_weighted_A+B', 'unpaired_electrons_weighted_norm_A+B', 'Gilman_A', 'Gilman_B', 'Gilman_A-B', 'Gilman_A+B', 'Gilman_weighted_A+B', 'Gilman_weighted_norm_A+B', 'Z_eff_A', 'Z_eff_B', 'Z_eff_A-B', 'Z_eff_A/B', 'Z_eff_max', 'Z_eff_min', 'Z_eff_avg', 'Z_eff_weighted_norm_A+B', 'ionization_energy_A', 'ionization_energy_B', 'ionization_energy_A-B', 'ionization_energy_A/B', 'ionization_energy_max', 'ionization_energy_avg', 'coordination_number_A', 'coordination_number_B', 'coordination_number_A-B', 'ratio_closest_A', 'ratio_closest_B', 'ratio_closest_max', 'ratio_closest_min', 'ratio_closest_avg', 'polyhedron_distortion_A', 'polyhedron_distortion_B', 'polyhedron_distortion_max', 'polyhedron_distortion_min', 'polyhedron_distortion_avg', 'CIF_radius_A', 'CIF_radius_B', 'CIF_radius_A/B', 'CIF_radius_A-B', 'CIF_radius_avg', 'CIF_radius_weighted_norm_A+B', 'Pauling_radius_CN12_A', 'Pauling_radius_CN12_B', 'Pauling_radius_CN12_A/B', 'Pauling_radius_CN12_A-B', 'Pauling_radius_CN12_avg', 'Pauling_radius_CN12_weighted_norm_A+B', 'Pauling_EN_A', 'Pauling_EN_B', 'Pauling_EN_A-B', 'Pauling_EN_A/B', 'Pauling_EN_max', 'Pauling_EN_min', 'Pauling_EN_avg', 'Pauling_EN_weighted_norm_A+B', 'Martynov_Batsanov_EN_A', 'Martynov_Batsanov_EN_B', 'Martynov_Batsanov_EN_A-B', 'Martynov_Batsanov_EN_A/B', 'Martynov_Batsanov_EN_max', 'Martynov_Batsanov_EN_min', 'Martynov_Batsanov_EN_avg', 'Martynov_Batsanov_EN_weighted_norm_A+B', 'melting_point_K_A', 'melting_point_K_B', 'melting_point_K_A-B', 'melting_point_K_A/B', 'melting_point_K_max', 'melting_point_K_min', 'melting_point_K_avg', 'melting_point_K_weighted_norm_A+B', 'density_A', 'density_B', 'density_A-B', 'density_A/B', 'density_max', 'density_min', 'density_avg', 'density_weighted_norm_A+B', 'specific_heat_A', 'specific_heat_B', 'specific_heat_A-B', 'specific_heat_A/B', 'specific_heat_max', 'specific_heat_avg', 'specific_heat_weighted_norm_A+B', 'cohesive_energy_A', 'cohesive_energy_B', 'cohesive_energy_A-B', 'cohesive_energy_A/B', 'cohesive_energy_max', 'cohesive_energy_avg', 'cohesive_energy_weighted_norm_A+B', 'bulk_modulus_A', 'bulk_modulus_B', 'bulk_modulus_A-B', 'bulk_modulus_A/B', 'bulk_modulus_max', 'bulk_modulus_min', 'bulk_modulus_avg', 'bulk_modulus_weighted_norm_A+B'], \u001b[1mScore = 0.8250\u001b[0m\n",
      "\n",
      "\n",
      "\u001b[1mIteration 5:\u001b[0m \u001b[1mRemoved\u001b[0m 'bulk_modulus_B', \u001b[1mRemaining\u001b[0m = ['index_A', 'index_B', 'normalized_index_A', 'normalized_index_B', 'largest_index', 'smallest_index', 'avg_index', 'atomic_weight_weighted_A+B', 'atomic_weight_A/B', 'atomic_weight_A-B', 'period_A', 'period_B', 'group_A', 'group_B', 'group_A-B', 'Mendeleev_number_A', 'Mendeleev_number_B', 'Mendeleev_number_A-B', 'valencee_total_A', 'valencee_total_B', 'valencee_total_A-B', 'valencee_total_A+B', 'valencee_total_weighted_A+B', 'valencee_total_weighted_norm_A+B', 'unpaired_electrons_A', 'unpaired_electrons_B', 'unpaired_electrons_A-B', 'unpaired_electrons_A+B', 'unpaired_electrons_weighted_A+B', 'unpaired_electrons_weighted_norm_A+B', 'Gilman_A', 'Gilman_B', 'Gilman_A-B', 'Gilman_A+B', 'Gilman_weighted_A+B', 'Gilman_weighted_norm_A+B', 'Z_eff_A', 'Z_eff_B', 'Z_eff_A-B', 'Z_eff_A/B', 'Z_eff_max', 'Z_eff_min', 'Z_eff_avg', 'Z_eff_weighted_norm_A+B', 'ionization_energy_A', 'ionization_energy_B', 'ionization_energy_A-B', 'ionization_energy_A/B', 'ionization_energy_max', 'ionization_energy_avg', 'coordination_number_A', 'coordination_number_B', 'coordination_number_A-B', 'ratio_closest_A', 'ratio_closest_B', 'ratio_closest_max', 'ratio_closest_min', 'ratio_closest_avg', 'polyhedron_distortion_A', 'polyhedron_distortion_B', 'polyhedron_distortion_max', 'polyhedron_distortion_min', 'polyhedron_distortion_avg', 'CIF_radius_A', 'CIF_radius_B', 'CIF_radius_A/B', 'CIF_radius_A-B', 'CIF_radius_avg', 'CIF_radius_weighted_norm_A+B', 'Pauling_radius_CN12_A', 'Pauling_radius_CN12_B', 'Pauling_radius_CN12_A/B', 'Pauling_radius_CN12_A-B', 'Pauling_radius_CN12_avg', 'Pauling_radius_CN12_weighted_norm_A+B', 'Pauling_EN_A', 'Pauling_EN_B', 'Pauling_EN_A-B', 'Pauling_EN_A/B', 'Pauling_EN_max', 'Pauling_EN_min', 'Pauling_EN_avg', 'Pauling_EN_weighted_norm_A+B', 'Martynov_Batsanov_EN_A', 'Martynov_Batsanov_EN_B', 'Martynov_Batsanov_EN_A-B', 'Martynov_Batsanov_EN_A/B', 'Martynov_Batsanov_EN_max', 'Martynov_Batsanov_EN_min', 'Martynov_Batsanov_EN_avg', 'Martynov_Batsanov_EN_weighted_norm_A+B', 'melting_point_K_A', 'melting_point_K_B', 'melting_point_K_A-B', 'melting_point_K_A/B', 'melting_point_K_max', 'melting_point_K_min', 'melting_point_K_avg', 'melting_point_K_weighted_norm_A+B', 'density_A', 'density_B', 'density_A-B', 'density_A/B', 'density_max', 'density_min', 'density_avg', 'density_weighted_norm_A+B', 'specific_heat_A', 'specific_heat_B', 'specific_heat_A-B', 'specific_heat_A/B', 'specific_heat_max', 'specific_heat_avg', 'specific_heat_weighted_norm_A+B', 'cohesive_energy_A', 'cohesive_energy_B', 'cohesive_energy_A-B', 'cohesive_energy_A/B', 'cohesive_energy_max', 'cohesive_energy_avg', 'cohesive_energy_weighted_norm_A+B', 'bulk_modulus_A', 'bulk_modulus_A-B', 'bulk_modulus_A/B', 'bulk_modulus_max', 'bulk_modulus_min', 'bulk_modulus_avg', 'bulk_modulus_weighted_norm_A+B'], \u001b[1mScore = 0.8250\u001b[0m\n",
      "\n",
      "\n",
      "\u001b[1mIteration 6:\u001b[0m \u001b[1mRemoved\u001b[0m 'ratio_closest_max', \u001b[1mRemaining\u001b[0m = ['index_A', 'index_B', 'normalized_index_A', 'normalized_index_B', 'largest_index', 'smallest_index', 'avg_index', 'atomic_weight_weighted_A+B', 'atomic_weight_A/B', 'atomic_weight_A-B', 'period_A', 'period_B', 'group_A', 'group_B', 'group_A-B', 'Mendeleev_number_A', 'Mendeleev_number_B', 'Mendeleev_number_A-B', 'valencee_total_A', 'valencee_total_B', 'valencee_total_A-B', 'valencee_total_A+B', 'valencee_total_weighted_A+B', 'valencee_total_weighted_norm_A+B', 'unpaired_electrons_A', 'unpaired_electrons_B', 'unpaired_electrons_A-B', 'unpaired_electrons_A+B', 'unpaired_electrons_weighted_A+B', 'unpaired_electrons_weighted_norm_A+B', 'Gilman_A', 'Gilman_B', 'Gilman_A-B', 'Gilman_A+B', 'Gilman_weighted_A+B', 'Gilman_weighted_norm_A+B', 'Z_eff_A', 'Z_eff_B', 'Z_eff_A-B', 'Z_eff_A/B', 'Z_eff_max', 'Z_eff_min', 'Z_eff_avg', 'Z_eff_weighted_norm_A+B', 'ionization_energy_A', 'ionization_energy_B', 'ionization_energy_A-B', 'ionization_energy_A/B', 'ionization_energy_max', 'ionization_energy_avg', 'coordination_number_A', 'coordination_number_B', 'coordination_number_A-B', 'ratio_closest_A', 'ratio_closest_B', 'ratio_closest_min', 'ratio_closest_avg', 'polyhedron_distortion_A', 'polyhedron_distortion_B', 'polyhedron_distortion_max', 'polyhedron_distortion_min', 'polyhedron_distortion_avg', 'CIF_radius_A', 'CIF_radius_B', 'CIF_radius_A/B', 'CIF_radius_A-B', 'CIF_radius_avg', 'CIF_radius_weighted_norm_A+B', 'Pauling_radius_CN12_A', 'Pauling_radius_CN12_B', 'Pauling_radius_CN12_A/B', 'Pauling_radius_CN12_A-B', 'Pauling_radius_CN12_avg', 'Pauling_radius_CN12_weighted_norm_A+B', 'Pauling_EN_A', 'Pauling_EN_B', 'Pauling_EN_A-B', 'Pauling_EN_A/B', 'Pauling_EN_max', 'Pauling_EN_min', 'Pauling_EN_avg', 'Pauling_EN_weighted_norm_A+B', 'Martynov_Batsanov_EN_A', 'Martynov_Batsanov_EN_B', 'Martynov_Batsanov_EN_A-B', 'Martynov_Batsanov_EN_A/B', 'Martynov_Batsanov_EN_max', 'Martynov_Batsanov_EN_min', 'Martynov_Batsanov_EN_avg', 'Martynov_Batsanov_EN_weighted_norm_A+B', 'melting_point_K_A', 'melting_point_K_B', 'melting_point_K_A-B', 'melting_point_K_A/B', 'melting_point_K_max', 'melting_point_K_min', 'melting_point_K_avg', 'melting_point_K_weighted_norm_A+B', 'density_A', 'density_B', 'density_A-B', 'density_A/B', 'density_max', 'density_min', 'density_avg', 'density_weighted_norm_A+B', 'specific_heat_A', 'specific_heat_B', 'specific_heat_A-B', 'specific_heat_A/B', 'specific_heat_max', 'specific_heat_avg', 'specific_heat_weighted_norm_A+B', 'cohesive_energy_A', 'cohesive_energy_B', 'cohesive_energy_A-B', 'cohesive_energy_A/B', 'cohesive_energy_max', 'cohesive_energy_avg', 'cohesive_energy_weighted_norm_A+B', 'bulk_modulus_A', 'bulk_modulus_A-B', 'bulk_modulus_A/B', 'bulk_modulus_max', 'bulk_modulus_min', 'bulk_modulus_avg', 'bulk_modulus_weighted_norm_A+B'], \u001b[1mScore = 0.8500\u001b[0m\n",
      "\n",
      "\n",
      "\u001b[1mIteration 7:\u001b[0m \u001b[1mRemoved\u001b[0m 'Pauling_radius_CN12_B', \u001b[1mRemaining\u001b[0m = ['index_A', 'index_B', 'normalized_index_A', 'normalized_index_B', 'largest_index', 'smallest_index', 'avg_index', 'atomic_weight_weighted_A+B', 'atomic_weight_A/B', 'atomic_weight_A-B', 'period_A', 'period_B', 'group_A', 'group_B', 'group_A-B', 'Mendeleev_number_A', 'Mendeleev_number_B', 'Mendeleev_number_A-B', 'valencee_total_A', 'valencee_total_B', 'valencee_total_A-B', 'valencee_total_A+B', 'valencee_total_weighted_A+B', 'valencee_total_weighted_norm_A+B', 'unpaired_electrons_A', 'unpaired_electrons_B', 'unpaired_electrons_A-B', 'unpaired_electrons_A+B', 'unpaired_electrons_weighted_A+B', 'unpaired_electrons_weighted_norm_A+B', 'Gilman_A', 'Gilman_B', 'Gilman_A-B', 'Gilman_A+B', 'Gilman_weighted_A+B', 'Gilman_weighted_norm_A+B', 'Z_eff_A', 'Z_eff_B', 'Z_eff_A-B', 'Z_eff_A/B', 'Z_eff_max', 'Z_eff_min', 'Z_eff_avg', 'Z_eff_weighted_norm_A+B', 'ionization_energy_A', 'ionization_energy_B', 'ionization_energy_A-B', 'ionization_energy_A/B', 'ionization_energy_max', 'ionization_energy_avg', 'coordination_number_A', 'coordination_number_B', 'coordination_number_A-B', 'ratio_closest_A', 'ratio_closest_B', 'ratio_closest_min', 'ratio_closest_avg', 'polyhedron_distortion_A', 'polyhedron_distortion_B', 'polyhedron_distortion_max', 'polyhedron_distortion_min', 'polyhedron_distortion_avg', 'CIF_radius_A', 'CIF_radius_B', 'CIF_radius_A/B', 'CIF_radius_A-B', 'CIF_radius_avg', 'CIF_radius_weighted_norm_A+B', 'Pauling_radius_CN12_A', 'Pauling_radius_CN12_A/B', 'Pauling_radius_CN12_A-B', 'Pauling_radius_CN12_avg', 'Pauling_radius_CN12_weighted_norm_A+B', 'Pauling_EN_A', 'Pauling_EN_B', 'Pauling_EN_A-B', 'Pauling_EN_A/B', 'Pauling_EN_max', 'Pauling_EN_min', 'Pauling_EN_avg', 'Pauling_EN_weighted_norm_A+B', 'Martynov_Batsanov_EN_A', 'Martynov_Batsanov_EN_B', 'Martynov_Batsanov_EN_A-B', 'Martynov_Batsanov_EN_A/B', 'Martynov_Batsanov_EN_max', 'Martynov_Batsanov_EN_min', 'Martynov_Batsanov_EN_avg', 'Martynov_Batsanov_EN_weighted_norm_A+B', 'melting_point_K_A', 'melting_point_K_B', 'melting_point_K_A-B', 'melting_point_K_A/B', 'melting_point_K_max', 'melting_point_K_min', 'melting_point_K_avg', 'melting_point_K_weighted_norm_A+B', 'density_A', 'density_B', 'density_A-B', 'density_A/B', 'density_max', 'density_min', 'density_avg', 'density_weighted_norm_A+B', 'specific_heat_A', 'specific_heat_B', 'specific_heat_A-B', 'specific_heat_A/B', 'specific_heat_max', 'specific_heat_avg', 'specific_heat_weighted_norm_A+B', 'cohesive_energy_A', 'cohesive_energy_B', 'cohesive_energy_A-B', 'cohesive_energy_A/B', 'cohesive_energy_max', 'cohesive_energy_avg', 'cohesive_energy_weighted_norm_A+B', 'bulk_modulus_A', 'bulk_modulus_A-B', 'bulk_modulus_A/B', 'bulk_modulus_max', 'bulk_modulus_min', 'bulk_modulus_avg', 'bulk_modulus_weighted_norm_A+B'], \u001b[1mScore = 0.8500\u001b[0m\n",
      "\n",
      "\n",
      "\u001b[1mIteration 8:\u001b[0m \u001b[1mRemoved\u001b[0m 'period_A', \u001b[1mRemaining\u001b[0m = ['index_A', 'index_B', 'normalized_index_A', 'normalized_index_B', 'largest_index', 'smallest_index', 'avg_index', 'atomic_weight_weighted_A+B', 'atomic_weight_A/B', 'atomic_weight_A-B', 'period_B', 'group_A', 'group_B', 'group_A-B', 'Mendeleev_number_A', 'Mendeleev_number_B', 'Mendeleev_number_A-B', 'valencee_total_A', 'valencee_total_B', 'valencee_total_A-B', 'valencee_total_A+B', 'valencee_total_weighted_A+B', 'valencee_total_weighted_norm_A+B', 'unpaired_electrons_A', 'unpaired_electrons_B', 'unpaired_electrons_A-B', 'unpaired_electrons_A+B', 'unpaired_electrons_weighted_A+B', 'unpaired_electrons_weighted_norm_A+B', 'Gilman_A', 'Gilman_B', 'Gilman_A-B', 'Gilman_A+B', 'Gilman_weighted_A+B', 'Gilman_weighted_norm_A+B', 'Z_eff_A', 'Z_eff_B', 'Z_eff_A-B', 'Z_eff_A/B', 'Z_eff_max', 'Z_eff_min', 'Z_eff_avg', 'Z_eff_weighted_norm_A+B', 'ionization_energy_A', 'ionization_energy_B', 'ionization_energy_A-B', 'ionization_energy_A/B', 'ionization_energy_max', 'ionization_energy_avg', 'coordination_number_A', 'coordination_number_B', 'coordination_number_A-B', 'ratio_closest_A', 'ratio_closest_B', 'ratio_closest_min', 'ratio_closest_avg', 'polyhedron_distortion_A', 'polyhedron_distortion_B', 'polyhedron_distortion_max', 'polyhedron_distortion_min', 'polyhedron_distortion_avg', 'CIF_radius_A', 'CIF_radius_B', 'CIF_radius_A/B', 'CIF_radius_A-B', 'CIF_radius_avg', 'CIF_radius_weighted_norm_A+B', 'Pauling_radius_CN12_A', 'Pauling_radius_CN12_A/B', 'Pauling_radius_CN12_A-B', 'Pauling_radius_CN12_avg', 'Pauling_radius_CN12_weighted_norm_A+B', 'Pauling_EN_A', 'Pauling_EN_B', 'Pauling_EN_A-B', 'Pauling_EN_A/B', 'Pauling_EN_max', 'Pauling_EN_min', 'Pauling_EN_avg', 'Pauling_EN_weighted_norm_A+B', 'Martynov_Batsanov_EN_A', 'Martynov_Batsanov_EN_B', 'Martynov_Batsanov_EN_A-B', 'Martynov_Batsanov_EN_A/B', 'Martynov_Batsanov_EN_max', 'Martynov_Batsanov_EN_min', 'Martynov_Batsanov_EN_avg', 'Martynov_Batsanov_EN_weighted_norm_A+B', 'melting_point_K_A', 'melting_point_K_B', 'melting_point_K_A-B', 'melting_point_K_A/B', 'melting_point_K_max', 'melting_point_K_min', 'melting_point_K_avg', 'melting_point_K_weighted_norm_A+B', 'density_A', 'density_B', 'density_A-B', 'density_A/B', 'density_max', 'density_min', 'density_avg', 'density_weighted_norm_A+B', 'specific_heat_A', 'specific_heat_B', 'specific_heat_A-B', 'specific_heat_A/B', 'specific_heat_max', 'specific_heat_avg', 'specific_heat_weighted_norm_A+B', 'cohesive_energy_A', 'cohesive_energy_B', 'cohesive_energy_A-B', 'cohesive_energy_A/B', 'cohesive_energy_max', 'cohesive_energy_avg', 'cohesive_energy_weighted_norm_A+B', 'bulk_modulus_A', 'bulk_modulus_A-B', 'bulk_modulus_A/B', 'bulk_modulus_max', 'bulk_modulus_min', 'bulk_modulus_avg', 'bulk_modulus_weighted_norm_A+B'], \u001b[1mScore = 0.8500\u001b[0m\n",
      "\n",
      "\n",
      "\u001b[1mIteration 9:\u001b[0m \u001b[1mRemoved\u001b[0m 'Gilman_weighted_norm_A+B', \u001b[1mRemaining\u001b[0m = ['index_A', 'index_B', 'normalized_index_A', 'normalized_index_B', 'largest_index', 'smallest_index', 'avg_index', 'atomic_weight_weighted_A+B', 'atomic_weight_A/B', 'atomic_weight_A-B', 'period_B', 'group_A', 'group_B', 'group_A-B', 'Mendeleev_number_A', 'Mendeleev_number_B', 'Mendeleev_number_A-B', 'valencee_total_A', 'valencee_total_B', 'valencee_total_A-B', 'valencee_total_A+B', 'valencee_total_weighted_A+B', 'valencee_total_weighted_norm_A+B', 'unpaired_electrons_A', 'unpaired_electrons_B', 'unpaired_electrons_A-B', 'unpaired_electrons_A+B', 'unpaired_electrons_weighted_A+B', 'unpaired_electrons_weighted_norm_A+B', 'Gilman_A', 'Gilman_B', 'Gilman_A-B', 'Gilman_A+B', 'Gilman_weighted_A+B', 'Z_eff_A', 'Z_eff_B', 'Z_eff_A-B', 'Z_eff_A/B', 'Z_eff_max', 'Z_eff_min', 'Z_eff_avg', 'Z_eff_weighted_norm_A+B', 'ionization_energy_A', 'ionization_energy_B', 'ionization_energy_A-B', 'ionization_energy_A/B', 'ionization_energy_max', 'ionization_energy_avg', 'coordination_number_A', 'coordination_number_B', 'coordination_number_A-B', 'ratio_closest_A', 'ratio_closest_B', 'ratio_closest_min', 'ratio_closest_avg', 'polyhedron_distortion_A', 'polyhedron_distortion_B', 'polyhedron_distortion_max', 'polyhedron_distortion_min', 'polyhedron_distortion_avg', 'CIF_radius_A', 'CIF_radius_B', 'CIF_radius_A/B', 'CIF_radius_A-B', 'CIF_radius_avg', 'CIF_radius_weighted_norm_A+B', 'Pauling_radius_CN12_A', 'Pauling_radius_CN12_A/B', 'Pauling_radius_CN12_A-B', 'Pauling_radius_CN12_avg', 'Pauling_radius_CN12_weighted_norm_A+B', 'Pauling_EN_A', 'Pauling_EN_B', 'Pauling_EN_A-B', 'Pauling_EN_A/B', 'Pauling_EN_max', 'Pauling_EN_min', 'Pauling_EN_avg', 'Pauling_EN_weighted_norm_A+B', 'Martynov_Batsanov_EN_A', 'Martynov_Batsanov_EN_B', 'Martynov_Batsanov_EN_A-B', 'Martynov_Batsanov_EN_A/B', 'Martynov_Batsanov_EN_max', 'Martynov_Batsanov_EN_min', 'Martynov_Batsanov_EN_avg', 'Martynov_Batsanov_EN_weighted_norm_A+B', 'melting_point_K_A', 'melting_point_K_B', 'melting_point_K_A-B', 'melting_point_K_A/B', 'melting_point_K_max', 'melting_point_K_min', 'melting_point_K_avg', 'melting_point_K_weighted_norm_A+B', 'density_A', 'density_B', 'density_A-B', 'density_A/B', 'density_max', 'density_min', 'density_avg', 'density_weighted_norm_A+B', 'specific_heat_A', 'specific_heat_B', 'specific_heat_A-B', 'specific_heat_A/B', 'specific_heat_max', 'specific_heat_avg', 'specific_heat_weighted_norm_A+B', 'cohesive_energy_A', 'cohesive_energy_B', 'cohesive_energy_A-B', 'cohesive_energy_A/B', 'cohesive_energy_max', 'cohesive_energy_avg', 'cohesive_energy_weighted_norm_A+B', 'bulk_modulus_A', 'bulk_modulus_A-B', 'bulk_modulus_A/B', 'bulk_modulus_max', 'bulk_modulus_min', 'bulk_modulus_avg', 'bulk_modulus_weighted_norm_A+B'], \u001b[1mScore = 0.8500\u001b[0m\n",
      "\n",
      "\n",
      "\u001b[1mIteration 10:\u001b[0m \u001b[1mRemoved\u001b[0m 'ratio_closest_avg', \u001b[1mRemaining\u001b[0m = ['index_A', 'index_B', 'normalized_index_A', 'normalized_index_B', 'largest_index', 'smallest_index', 'avg_index', 'atomic_weight_weighted_A+B', 'atomic_weight_A/B', 'atomic_weight_A-B', 'period_B', 'group_A', 'group_B', 'group_A-B', 'Mendeleev_number_A', 'Mendeleev_number_B', 'Mendeleev_number_A-B', 'valencee_total_A', 'valencee_total_B', 'valencee_total_A-B', 'valencee_total_A+B', 'valencee_total_weighted_A+B', 'valencee_total_weighted_norm_A+B', 'unpaired_electrons_A', 'unpaired_electrons_B', 'unpaired_electrons_A-B', 'unpaired_electrons_A+B', 'unpaired_electrons_weighted_A+B', 'unpaired_electrons_weighted_norm_A+B', 'Gilman_A', 'Gilman_B', 'Gilman_A-B', 'Gilman_A+B', 'Gilman_weighted_A+B', 'Z_eff_A', 'Z_eff_B', 'Z_eff_A-B', 'Z_eff_A/B', 'Z_eff_max', 'Z_eff_min', 'Z_eff_avg', 'Z_eff_weighted_norm_A+B', 'ionization_energy_A', 'ionization_energy_B', 'ionization_energy_A-B', 'ionization_energy_A/B', 'ionization_energy_max', 'ionization_energy_avg', 'coordination_number_A', 'coordination_number_B', 'coordination_number_A-B', 'ratio_closest_A', 'ratio_closest_B', 'ratio_closest_min', 'polyhedron_distortion_A', 'polyhedron_distortion_B', 'polyhedron_distortion_max', 'polyhedron_distortion_min', 'polyhedron_distortion_avg', 'CIF_radius_A', 'CIF_radius_B', 'CIF_radius_A/B', 'CIF_radius_A-B', 'CIF_radius_avg', 'CIF_radius_weighted_norm_A+B', 'Pauling_radius_CN12_A', 'Pauling_radius_CN12_A/B', 'Pauling_radius_CN12_A-B', 'Pauling_radius_CN12_avg', 'Pauling_radius_CN12_weighted_norm_A+B', 'Pauling_EN_A', 'Pauling_EN_B', 'Pauling_EN_A-B', 'Pauling_EN_A/B', 'Pauling_EN_max', 'Pauling_EN_min', 'Pauling_EN_avg', 'Pauling_EN_weighted_norm_A+B', 'Martynov_Batsanov_EN_A', 'Martynov_Batsanov_EN_B', 'Martynov_Batsanov_EN_A-B', 'Martynov_Batsanov_EN_A/B', 'Martynov_Batsanov_EN_max', 'Martynov_Batsanov_EN_min', 'Martynov_Batsanov_EN_avg', 'Martynov_Batsanov_EN_weighted_norm_A+B', 'melting_point_K_A', 'melting_point_K_B', 'melting_point_K_A-B', 'melting_point_K_A/B', 'melting_point_K_max', 'melting_point_K_min', 'melting_point_K_avg', 'melting_point_K_weighted_norm_A+B', 'density_A', 'density_B', 'density_A-B', 'density_A/B', 'density_max', 'density_min', 'density_avg', 'density_weighted_norm_A+B', 'specific_heat_A', 'specific_heat_B', 'specific_heat_A-B', 'specific_heat_A/B', 'specific_heat_max', 'specific_heat_avg', 'specific_heat_weighted_norm_A+B', 'cohesive_energy_A', 'cohesive_energy_B', 'cohesive_energy_A-B', 'cohesive_energy_A/B', 'cohesive_energy_max', 'cohesive_energy_avg', 'cohesive_energy_weighted_norm_A+B', 'bulk_modulus_A', 'bulk_modulus_A-B', 'bulk_modulus_A/B', 'bulk_modulus_max', 'bulk_modulus_min', 'bulk_modulus_avg', 'bulk_modulus_weighted_norm_A+B'], \u001b[1mScore = 0.8500\u001b[0m\n",
      "\n",
      "\n",
      "\u001b[1mIteration 11:\u001b[0m \u001b[1mRemoved\u001b[0m 'melting_point_K_B', \u001b[1mRemaining\u001b[0m = ['index_A', 'index_B', 'normalized_index_A', 'normalized_index_B', 'largest_index', 'smallest_index', 'avg_index', 'atomic_weight_weighted_A+B', 'atomic_weight_A/B', 'atomic_weight_A-B', 'period_B', 'group_A', 'group_B', 'group_A-B', 'Mendeleev_number_A', 'Mendeleev_number_B', 'Mendeleev_number_A-B', 'valencee_total_A', 'valencee_total_B', 'valencee_total_A-B', 'valencee_total_A+B', 'valencee_total_weighted_A+B', 'valencee_total_weighted_norm_A+B', 'unpaired_electrons_A', 'unpaired_electrons_B', 'unpaired_electrons_A-B', 'unpaired_electrons_A+B', 'unpaired_electrons_weighted_A+B', 'unpaired_electrons_weighted_norm_A+B', 'Gilman_A', 'Gilman_B', 'Gilman_A-B', 'Gilman_A+B', 'Gilman_weighted_A+B', 'Z_eff_A', 'Z_eff_B', 'Z_eff_A-B', 'Z_eff_A/B', 'Z_eff_max', 'Z_eff_min', 'Z_eff_avg', 'Z_eff_weighted_norm_A+B', 'ionization_energy_A', 'ionization_energy_B', 'ionization_energy_A-B', 'ionization_energy_A/B', 'ionization_energy_max', 'ionization_energy_avg', 'coordination_number_A', 'coordination_number_B', 'coordination_number_A-B', 'ratio_closest_A', 'ratio_closest_B', 'ratio_closest_min', 'polyhedron_distortion_A', 'polyhedron_distortion_B', 'polyhedron_distortion_max', 'polyhedron_distortion_min', 'polyhedron_distortion_avg', 'CIF_radius_A', 'CIF_radius_B', 'CIF_radius_A/B', 'CIF_radius_A-B', 'CIF_radius_avg', 'CIF_radius_weighted_norm_A+B', 'Pauling_radius_CN12_A', 'Pauling_radius_CN12_A/B', 'Pauling_radius_CN12_A-B', 'Pauling_radius_CN12_avg', 'Pauling_radius_CN12_weighted_norm_A+B', 'Pauling_EN_A', 'Pauling_EN_B', 'Pauling_EN_A-B', 'Pauling_EN_A/B', 'Pauling_EN_max', 'Pauling_EN_min', 'Pauling_EN_avg', 'Pauling_EN_weighted_norm_A+B', 'Martynov_Batsanov_EN_A', 'Martynov_Batsanov_EN_B', 'Martynov_Batsanov_EN_A-B', 'Martynov_Batsanov_EN_A/B', 'Martynov_Batsanov_EN_max', 'Martynov_Batsanov_EN_min', 'Martynov_Batsanov_EN_avg', 'Martynov_Batsanov_EN_weighted_norm_A+B', 'melting_point_K_A', 'melting_point_K_A-B', 'melting_point_K_A/B', 'melting_point_K_max', 'melting_point_K_min', 'melting_point_K_avg', 'melting_point_K_weighted_norm_A+B', 'density_A', 'density_B', 'density_A-B', 'density_A/B', 'density_max', 'density_min', 'density_avg', 'density_weighted_norm_A+B', 'specific_heat_A', 'specific_heat_B', 'specific_heat_A-B', 'specific_heat_A/B', 'specific_heat_max', 'specific_heat_avg', 'specific_heat_weighted_norm_A+B', 'cohesive_energy_A', 'cohesive_energy_B', 'cohesive_energy_A-B', 'cohesive_energy_A/B', 'cohesive_energy_max', 'cohesive_energy_avg', 'cohesive_energy_weighted_norm_A+B', 'bulk_modulus_A', 'bulk_modulus_A-B', 'bulk_modulus_A/B', 'bulk_modulus_max', 'bulk_modulus_min', 'bulk_modulus_avg', 'bulk_modulus_weighted_norm_A+B'], \u001b[1mScore = 0.8500\u001b[0m\n",
      "\n",
      "\n",
      "\u001b[1mIteration 12:\u001b[0m \u001b[1mRemoved\u001b[0m 'Martynov_Batsanov_EN_avg', \u001b[1mRemaining\u001b[0m = ['index_A', 'index_B', 'normalized_index_A', 'normalized_index_B', 'largest_index', 'smallest_index', 'avg_index', 'atomic_weight_weighted_A+B', 'atomic_weight_A/B', 'atomic_weight_A-B', 'period_B', 'group_A', 'group_B', 'group_A-B', 'Mendeleev_number_A', 'Mendeleev_number_B', 'Mendeleev_number_A-B', 'valencee_total_A', 'valencee_total_B', 'valencee_total_A-B', 'valencee_total_A+B', 'valencee_total_weighted_A+B', 'valencee_total_weighted_norm_A+B', 'unpaired_electrons_A', 'unpaired_electrons_B', 'unpaired_electrons_A-B', 'unpaired_electrons_A+B', 'unpaired_electrons_weighted_A+B', 'unpaired_electrons_weighted_norm_A+B', 'Gilman_A', 'Gilman_B', 'Gilman_A-B', 'Gilman_A+B', 'Gilman_weighted_A+B', 'Z_eff_A', 'Z_eff_B', 'Z_eff_A-B', 'Z_eff_A/B', 'Z_eff_max', 'Z_eff_min', 'Z_eff_avg', 'Z_eff_weighted_norm_A+B', 'ionization_energy_A', 'ionization_energy_B', 'ionization_energy_A-B', 'ionization_energy_A/B', 'ionization_energy_max', 'ionization_energy_avg', 'coordination_number_A', 'coordination_number_B', 'coordination_number_A-B', 'ratio_closest_A', 'ratio_closest_B', 'ratio_closest_min', 'polyhedron_distortion_A', 'polyhedron_distortion_B', 'polyhedron_distortion_max', 'polyhedron_distortion_min', 'polyhedron_distortion_avg', 'CIF_radius_A', 'CIF_radius_B', 'CIF_radius_A/B', 'CIF_radius_A-B', 'CIF_radius_avg', 'CIF_radius_weighted_norm_A+B', 'Pauling_radius_CN12_A', 'Pauling_radius_CN12_A/B', 'Pauling_radius_CN12_A-B', 'Pauling_radius_CN12_avg', 'Pauling_radius_CN12_weighted_norm_A+B', 'Pauling_EN_A', 'Pauling_EN_B', 'Pauling_EN_A-B', 'Pauling_EN_A/B', 'Pauling_EN_max', 'Pauling_EN_min', 'Pauling_EN_avg', 'Pauling_EN_weighted_norm_A+B', 'Martynov_Batsanov_EN_A', 'Martynov_Batsanov_EN_B', 'Martynov_Batsanov_EN_A-B', 'Martynov_Batsanov_EN_A/B', 'Martynov_Batsanov_EN_max', 'Martynov_Batsanov_EN_min', 'Martynov_Batsanov_EN_weighted_norm_A+B', 'melting_point_K_A', 'melting_point_K_A-B', 'melting_point_K_A/B', 'melting_point_K_max', 'melting_point_K_min', 'melting_point_K_avg', 'melting_point_K_weighted_norm_A+B', 'density_A', 'density_B', 'density_A-B', 'density_A/B', 'density_max', 'density_min', 'density_avg', 'density_weighted_norm_A+B', 'specific_heat_A', 'specific_heat_B', 'specific_heat_A-B', 'specific_heat_A/B', 'specific_heat_max', 'specific_heat_avg', 'specific_heat_weighted_norm_A+B', 'cohesive_energy_A', 'cohesive_energy_B', 'cohesive_energy_A-B', 'cohesive_energy_A/B', 'cohesive_energy_max', 'cohesive_energy_avg', 'cohesive_energy_weighted_norm_A+B', 'bulk_modulus_A', 'bulk_modulus_A-B', 'bulk_modulus_A/B', 'bulk_modulus_max', 'bulk_modulus_min', 'bulk_modulus_avg', 'bulk_modulus_weighted_norm_A+B'], \u001b[1mScore = 0.8500\u001b[0m\n",
      "\n",
      "\n",
      "\u001b[1mIteration 13:\u001b[0m \u001b[1mRemoved\u001b[0m 'Gilman_A-B', \u001b[1mRemaining\u001b[0m = ['index_A', 'index_B', 'normalized_index_A', 'normalized_index_B', 'largest_index', 'smallest_index', 'avg_index', 'atomic_weight_weighted_A+B', 'atomic_weight_A/B', 'atomic_weight_A-B', 'period_B', 'group_A', 'group_B', 'group_A-B', 'Mendeleev_number_A', 'Mendeleev_number_B', 'Mendeleev_number_A-B', 'valencee_total_A', 'valencee_total_B', 'valencee_total_A-B', 'valencee_total_A+B', 'valencee_total_weighted_A+B', 'valencee_total_weighted_norm_A+B', 'unpaired_electrons_A', 'unpaired_electrons_B', 'unpaired_electrons_A-B', 'unpaired_electrons_A+B', 'unpaired_electrons_weighted_A+B', 'unpaired_electrons_weighted_norm_A+B', 'Gilman_A', 'Gilman_B', 'Gilman_A+B', 'Gilman_weighted_A+B', 'Z_eff_A', 'Z_eff_B', 'Z_eff_A-B', 'Z_eff_A/B', 'Z_eff_max', 'Z_eff_min', 'Z_eff_avg', 'Z_eff_weighted_norm_A+B', 'ionization_energy_A', 'ionization_energy_B', 'ionization_energy_A-B', 'ionization_energy_A/B', 'ionization_energy_max', 'ionization_energy_avg', 'coordination_number_A', 'coordination_number_B', 'coordination_number_A-B', 'ratio_closest_A', 'ratio_closest_B', 'ratio_closest_min', 'polyhedron_distortion_A', 'polyhedron_distortion_B', 'polyhedron_distortion_max', 'polyhedron_distortion_min', 'polyhedron_distortion_avg', 'CIF_radius_A', 'CIF_radius_B', 'CIF_radius_A/B', 'CIF_radius_A-B', 'CIF_radius_avg', 'CIF_radius_weighted_norm_A+B', 'Pauling_radius_CN12_A', 'Pauling_radius_CN12_A/B', 'Pauling_radius_CN12_A-B', 'Pauling_radius_CN12_avg', 'Pauling_radius_CN12_weighted_norm_A+B', 'Pauling_EN_A', 'Pauling_EN_B', 'Pauling_EN_A-B', 'Pauling_EN_A/B', 'Pauling_EN_max', 'Pauling_EN_min', 'Pauling_EN_avg', 'Pauling_EN_weighted_norm_A+B', 'Martynov_Batsanov_EN_A', 'Martynov_Batsanov_EN_B', 'Martynov_Batsanov_EN_A-B', 'Martynov_Batsanov_EN_A/B', 'Martynov_Batsanov_EN_max', 'Martynov_Batsanov_EN_min', 'Martynov_Batsanov_EN_weighted_norm_A+B', 'melting_point_K_A', 'melting_point_K_A-B', 'melting_point_K_A/B', 'melting_point_K_max', 'melting_point_K_min', 'melting_point_K_avg', 'melting_point_K_weighted_norm_A+B', 'density_A', 'density_B', 'density_A-B', 'density_A/B', 'density_max', 'density_min', 'density_avg', 'density_weighted_norm_A+B', 'specific_heat_A', 'specific_heat_B', 'specific_heat_A-B', 'specific_heat_A/B', 'specific_heat_max', 'specific_heat_avg', 'specific_heat_weighted_norm_A+B', 'cohesive_energy_A', 'cohesive_energy_B', 'cohesive_energy_A-B', 'cohesive_energy_A/B', 'cohesive_energy_max', 'cohesive_energy_avg', 'cohesive_energy_weighted_norm_A+B', 'bulk_modulus_A', 'bulk_modulus_A-B', 'bulk_modulus_A/B', 'bulk_modulus_max', 'bulk_modulus_min', 'bulk_modulus_avg', 'bulk_modulus_weighted_norm_A+B'], \u001b[1mScore = 0.8500\u001b[0m\n",
      "\n",
      "\n",
      "\u001b[1mIteration 14:\u001b[0m \u001b[1mRemoved\u001b[0m 'index_A', \u001b[1mRemaining\u001b[0m = ['index_B', 'normalized_index_A', 'normalized_index_B', 'largest_index', 'smallest_index', 'avg_index', 'atomic_weight_weighted_A+B', 'atomic_weight_A/B', 'atomic_weight_A-B', 'period_B', 'group_A', 'group_B', 'group_A-B', 'Mendeleev_number_A', 'Mendeleev_number_B', 'Mendeleev_number_A-B', 'valencee_total_A', 'valencee_total_B', 'valencee_total_A-B', 'valencee_total_A+B', 'valencee_total_weighted_A+B', 'valencee_total_weighted_norm_A+B', 'unpaired_electrons_A', 'unpaired_electrons_B', 'unpaired_electrons_A-B', 'unpaired_electrons_A+B', 'unpaired_electrons_weighted_A+B', 'unpaired_electrons_weighted_norm_A+B', 'Gilman_A', 'Gilman_B', 'Gilman_A+B', 'Gilman_weighted_A+B', 'Z_eff_A', 'Z_eff_B', 'Z_eff_A-B', 'Z_eff_A/B', 'Z_eff_max', 'Z_eff_min', 'Z_eff_avg', 'Z_eff_weighted_norm_A+B', 'ionization_energy_A', 'ionization_energy_B', 'ionization_energy_A-B', 'ionization_energy_A/B', 'ionization_energy_max', 'ionization_energy_avg', 'coordination_number_A', 'coordination_number_B', 'coordination_number_A-B', 'ratio_closest_A', 'ratio_closest_B', 'ratio_closest_min', 'polyhedron_distortion_A', 'polyhedron_distortion_B', 'polyhedron_distortion_max', 'polyhedron_distortion_min', 'polyhedron_distortion_avg', 'CIF_radius_A', 'CIF_radius_B', 'CIF_radius_A/B', 'CIF_radius_A-B', 'CIF_radius_avg', 'CIF_radius_weighted_norm_A+B', 'Pauling_radius_CN12_A', 'Pauling_radius_CN12_A/B', 'Pauling_radius_CN12_A-B', 'Pauling_radius_CN12_avg', 'Pauling_radius_CN12_weighted_norm_A+B', 'Pauling_EN_A', 'Pauling_EN_B', 'Pauling_EN_A-B', 'Pauling_EN_A/B', 'Pauling_EN_max', 'Pauling_EN_min', 'Pauling_EN_avg', 'Pauling_EN_weighted_norm_A+B', 'Martynov_Batsanov_EN_A', 'Martynov_Batsanov_EN_B', 'Martynov_Batsanov_EN_A-B', 'Martynov_Batsanov_EN_A/B', 'Martynov_Batsanov_EN_max', 'Martynov_Batsanov_EN_min', 'Martynov_Batsanov_EN_weighted_norm_A+B', 'melting_point_K_A', 'melting_point_K_A-B', 'melting_point_K_A/B', 'melting_point_K_max', 'melting_point_K_min', 'melting_point_K_avg', 'melting_point_K_weighted_norm_A+B', 'density_A', 'density_B', 'density_A-B', 'density_A/B', 'density_max', 'density_min', 'density_avg', 'density_weighted_norm_A+B', 'specific_heat_A', 'specific_heat_B', 'specific_heat_A-B', 'specific_heat_A/B', 'specific_heat_max', 'specific_heat_avg', 'specific_heat_weighted_norm_A+B', 'cohesive_energy_A', 'cohesive_energy_B', 'cohesive_energy_A-B', 'cohesive_energy_A/B', 'cohesive_energy_max', 'cohesive_energy_avg', 'cohesive_energy_weighted_norm_A+B', 'bulk_modulus_A', 'bulk_modulus_A-B', 'bulk_modulus_A/B', 'bulk_modulus_max', 'bulk_modulus_min', 'bulk_modulus_avg', 'bulk_modulus_weighted_norm_A+B'], \u001b[1mScore = 0.8500\u001b[0m\n",
      "\n",
      "\n",
      "\u001b[1mIteration 15:\u001b[0m \u001b[1mRemoved\u001b[0m 'ionization_energy_max', \u001b[1mRemaining\u001b[0m = ['index_B', 'normalized_index_A', 'normalized_index_B', 'largest_index', 'smallest_index', 'avg_index', 'atomic_weight_weighted_A+B', 'atomic_weight_A/B', 'atomic_weight_A-B', 'period_B', 'group_A', 'group_B', 'group_A-B', 'Mendeleev_number_A', 'Mendeleev_number_B', 'Mendeleev_number_A-B', 'valencee_total_A', 'valencee_total_B', 'valencee_total_A-B', 'valencee_total_A+B', 'valencee_total_weighted_A+B', 'valencee_total_weighted_norm_A+B', 'unpaired_electrons_A', 'unpaired_electrons_B', 'unpaired_electrons_A-B', 'unpaired_electrons_A+B', 'unpaired_electrons_weighted_A+B', 'unpaired_electrons_weighted_norm_A+B', 'Gilman_A', 'Gilman_B', 'Gilman_A+B', 'Gilman_weighted_A+B', 'Z_eff_A', 'Z_eff_B', 'Z_eff_A-B', 'Z_eff_A/B', 'Z_eff_max', 'Z_eff_min', 'Z_eff_avg', 'Z_eff_weighted_norm_A+B', 'ionization_energy_A', 'ionization_energy_B', 'ionization_energy_A-B', 'ionization_energy_A/B', 'ionization_energy_avg', 'coordination_number_A', 'coordination_number_B', 'coordination_number_A-B', 'ratio_closest_A', 'ratio_closest_B', 'ratio_closest_min', 'polyhedron_distortion_A', 'polyhedron_distortion_B', 'polyhedron_distortion_max', 'polyhedron_distortion_min', 'polyhedron_distortion_avg', 'CIF_radius_A', 'CIF_radius_B', 'CIF_radius_A/B', 'CIF_radius_A-B', 'CIF_radius_avg', 'CIF_radius_weighted_norm_A+B', 'Pauling_radius_CN12_A', 'Pauling_radius_CN12_A/B', 'Pauling_radius_CN12_A-B', 'Pauling_radius_CN12_avg', 'Pauling_radius_CN12_weighted_norm_A+B', 'Pauling_EN_A', 'Pauling_EN_B', 'Pauling_EN_A-B', 'Pauling_EN_A/B', 'Pauling_EN_max', 'Pauling_EN_min', 'Pauling_EN_avg', 'Pauling_EN_weighted_norm_A+B', 'Martynov_Batsanov_EN_A', 'Martynov_Batsanov_EN_B', 'Martynov_Batsanov_EN_A-B', 'Martynov_Batsanov_EN_A/B', 'Martynov_Batsanov_EN_max', 'Martynov_Batsanov_EN_min', 'Martynov_Batsanov_EN_weighted_norm_A+B', 'melting_point_K_A', 'melting_point_K_A-B', 'melting_point_K_A/B', 'melting_point_K_max', 'melting_point_K_min', 'melting_point_K_avg', 'melting_point_K_weighted_norm_A+B', 'density_A', 'density_B', 'density_A-B', 'density_A/B', 'density_max', 'density_min', 'density_avg', 'density_weighted_norm_A+B', 'specific_heat_A', 'specific_heat_B', 'specific_heat_A-B', 'specific_heat_A/B', 'specific_heat_max', 'specific_heat_avg', 'specific_heat_weighted_norm_A+B', 'cohesive_energy_A', 'cohesive_energy_B', 'cohesive_energy_A-B', 'cohesive_energy_A/B', 'cohesive_energy_max', 'cohesive_energy_avg', 'cohesive_energy_weighted_norm_A+B', 'bulk_modulus_A', 'bulk_modulus_A-B', 'bulk_modulus_A/B', 'bulk_modulus_max', 'bulk_modulus_min', 'bulk_modulus_avg', 'bulk_modulus_weighted_norm_A+B'], \u001b[1mScore = 0.8500\u001b[0m\n",
      "\n",
      "\n",
      "\u001b[1mIteration 16:\u001b[0m \u001b[1mRemoved\u001b[0m 'ionization_energy_A', \u001b[1mRemaining\u001b[0m = ['index_B', 'normalized_index_A', 'normalized_index_B', 'largest_index', 'smallest_index', 'avg_index', 'atomic_weight_weighted_A+B', 'atomic_weight_A/B', 'atomic_weight_A-B', 'period_B', 'group_A', 'group_B', 'group_A-B', 'Mendeleev_number_A', 'Mendeleev_number_B', 'Mendeleev_number_A-B', 'valencee_total_A', 'valencee_total_B', 'valencee_total_A-B', 'valencee_total_A+B', 'valencee_total_weighted_A+B', 'valencee_total_weighted_norm_A+B', 'unpaired_electrons_A', 'unpaired_electrons_B', 'unpaired_electrons_A-B', 'unpaired_electrons_A+B', 'unpaired_electrons_weighted_A+B', 'unpaired_electrons_weighted_norm_A+B', 'Gilman_A', 'Gilman_B', 'Gilman_A+B', 'Gilman_weighted_A+B', 'Z_eff_A', 'Z_eff_B', 'Z_eff_A-B', 'Z_eff_A/B', 'Z_eff_max', 'Z_eff_min', 'Z_eff_avg', 'Z_eff_weighted_norm_A+B', 'ionization_energy_B', 'ionization_energy_A-B', 'ionization_energy_A/B', 'ionization_energy_avg', 'coordination_number_A', 'coordination_number_B', 'coordination_number_A-B', 'ratio_closest_A', 'ratio_closest_B', 'ratio_closest_min', 'polyhedron_distortion_A', 'polyhedron_distortion_B', 'polyhedron_distortion_max', 'polyhedron_distortion_min', 'polyhedron_distortion_avg', 'CIF_radius_A', 'CIF_radius_B', 'CIF_radius_A/B', 'CIF_radius_A-B', 'CIF_radius_avg', 'CIF_radius_weighted_norm_A+B', 'Pauling_radius_CN12_A', 'Pauling_radius_CN12_A/B', 'Pauling_radius_CN12_A-B', 'Pauling_radius_CN12_avg', 'Pauling_radius_CN12_weighted_norm_A+B', 'Pauling_EN_A', 'Pauling_EN_B', 'Pauling_EN_A-B', 'Pauling_EN_A/B', 'Pauling_EN_max', 'Pauling_EN_min', 'Pauling_EN_avg', 'Pauling_EN_weighted_norm_A+B', 'Martynov_Batsanov_EN_A', 'Martynov_Batsanov_EN_B', 'Martynov_Batsanov_EN_A-B', 'Martynov_Batsanov_EN_A/B', 'Martynov_Batsanov_EN_max', 'Martynov_Batsanov_EN_min', 'Martynov_Batsanov_EN_weighted_norm_A+B', 'melting_point_K_A', 'melting_point_K_A-B', 'melting_point_K_A/B', 'melting_point_K_max', 'melting_point_K_min', 'melting_point_K_avg', 'melting_point_K_weighted_norm_A+B', 'density_A', 'density_B', 'density_A-B', 'density_A/B', 'density_max', 'density_min', 'density_avg', 'density_weighted_norm_A+B', 'specific_heat_A', 'specific_heat_B', 'specific_heat_A-B', 'specific_heat_A/B', 'specific_heat_max', 'specific_heat_avg', 'specific_heat_weighted_norm_A+B', 'cohesive_energy_A', 'cohesive_energy_B', 'cohesive_energy_A-B', 'cohesive_energy_A/B', 'cohesive_energy_max', 'cohesive_energy_avg', 'cohesive_energy_weighted_norm_A+B', 'bulk_modulus_A', 'bulk_modulus_A-B', 'bulk_modulus_A/B', 'bulk_modulus_max', 'bulk_modulus_min', 'bulk_modulus_avg', 'bulk_modulus_weighted_norm_A+B'], \u001b[1mScore = 0.8500\u001b[0m\n",
      "\n",
      "\n",
      "\u001b[1mIteration 17:\u001b[0m \u001b[1mRemoved\u001b[0m 'Martynov_Batsanov_EN_weighted_norm_A+B', \u001b[1mRemaining\u001b[0m = ['index_B', 'normalized_index_A', 'normalized_index_B', 'largest_index', 'smallest_index', 'avg_index', 'atomic_weight_weighted_A+B', 'atomic_weight_A/B', 'atomic_weight_A-B', 'period_B', 'group_A', 'group_B', 'group_A-B', 'Mendeleev_number_A', 'Mendeleev_number_B', 'Mendeleev_number_A-B', 'valencee_total_A', 'valencee_total_B', 'valencee_total_A-B', 'valencee_total_A+B', 'valencee_total_weighted_A+B', 'valencee_total_weighted_norm_A+B', 'unpaired_electrons_A', 'unpaired_electrons_B', 'unpaired_electrons_A-B', 'unpaired_electrons_A+B', 'unpaired_electrons_weighted_A+B', 'unpaired_electrons_weighted_norm_A+B', 'Gilman_A', 'Gilman_B', 'Gilman_A+B', 'Gilman_weighted_A+B', 'Z_eff_A', 'Z_eff_B', 'Z_eff_A-B', 'Z_eff_A/B', 'Z_eff_max', 'Z_eff_min', 'Z_eff_avg', 'Z_eff_weighted_norm_A+B', 'ionization_energy_B', 'ionization_energy_A-B', 'ionization_energy_A/B', 'ionization_energy_avg', 'coordination_number_A', 'coordination_number_B', 'coordination_number_A-B', 'ratio_closest_A', 'ratio_closest_B', 'ratio_closest_min', 'polyhedron_distortion_A', 'polyhedron_distortion_B', 'polyhedron_distortion_max', 'polyhedron_distortion_min', 'polyhedron_distortion_avg', 'CIF_radius_A', 'CIF_radius_B', 'CIF_radius_A/B', 'CIF_radius_A-B', 'CIF_radius_avg', 'CIF_radius_weighted_norm_A+B', 'Pauling_radius_CN12_A', 'Pauling_radius_CN12_A/B', 'Pauling_radius_CN12_A-B', 'Pauling_radius_CN12_avg', 'Pauling_radius_CN12_weighted_norm_A+B', 'Pauling_EN_A', 'Pauling_EN_B', 'Pauling_EN_A-B', 'Pauling_EN_A/B', 'Pauling_EN_max', 'Pauling_EN_min', 'Pauling_EN_avg', 'Pauling_EN_weighted_norm_A+B', 'Martynov_Batsanov_EN_A', 'Martynov_Batsanov_EN_B', 'Martynov_Batsanov_EN_A-B', 'Martynov_Batsanov_EN_A/B', 'Martynov_Batsanov_EN_max', 'Martynov_Batsanov_EN_min', 'melting_point_K_A', 'melting_point_K_A-B', 'melting_point_K_A/B', 'melting_point_K_max', 'melting_point_K_min', 'melting_point_K_avg', 'melting_point_K_weighted_norm_A+B', 'density_A', 'density_B', 'density_A-B', 'density_A/B', 'density_max', 'density_min', 'density_avg', 'density_weighted_norm_A+B', 'specific_heat_A', 'specific_heat_B', 'specific_heat_A-B', 'specific_heat_A/B', 'specific_heat_max', 'specific_heat_avg', 'specific_heat_weighted_norm_A+B', 'cohesive_energy_A', 'cohesive_energy_B', 'cohesive_energy_A-B', 'cohesive_energy_A/B', 'cohesive_energy_max', 'cohesive_energy_avg', 'cohesive_energy_weighted_norm_A+B', 'bulk_modulus_A', 'bulk_modulus_A-B', 'bulk_modulus_A/B', 'bulk_modulus_max', 'bulk_modulus_min', 'bulk_modulus_avg', 'bulk_modulus_weighted_norm_A+B'], \u001b[1mScore = 0.8500\u001b[0m\n",
      "\n",
      "\n",
      "\u001b[1mIteration 18:\u001b[0m \u001b[1mRemoved\u001b[0m 'ratio_closest_A', \u001b[1mRemaining\u001b[0m = ['index_B', 'normalized_index_A', 'normalized_index_B', 'largest_index', 'smallest_index', 'avg_index', 'atomic_weight_weighted_A+B', 'atomic_weight_A/B', 'atomic_weight_A-B', 'period_B', 'group_A', 'group_B', 'group_A-B', 'Mendeleev_number_A', 'Mendeleev_number_B', 'Mendeleev_number_A-B', 'valencee_total_A', 'valencee_total_B', 'valencee_total_A-B', 'valencee_total_A+B', 'valencee_total_weighted_A+B', 'valencee_total_weighted_norm_A+B', 'unpaired_electrons_A', 'unpaired_electrons_B', 'unpaired_electrons_A-B', 'unpaired_electrons_A+B', 'unpaired_electrons_weighted_A+B', 'unpaired_electrons_weighted_norm_A+B', 'Gilman_A', 'Gilman_B', 'Gilman_A+B', 'Gilman_weighted_A+B', 'Z_eff_A', 'Z_eff_B', 'Z_eff_A-B', 'Z_eff_A/B', 'Z_eff_max', 'Z_eff_min', 'Z_eff_avg', 'Z_eff_weighted_norm_A+B', 'ionization_energy_B', 'ionization_energy_A-B', 'ionization_energy_A/B', 'ionization_energy_avg', 'coordination_number_A', 'coordination_number_B', 'coordination_number_A-B', 'ratio_closest_B', 'ratio_closest_min', 'polyhedron_distortion_A', 'polyhedron_distortion_B', 'polyhedron_distortion_max', 'polyhedron_distortion_min', 'polyhedron_distortion_avg', 'CIF_radius_A', 'CIF_radius_B', 'CIF_radius_A/B', 'CIF_radius_A-B', 'CIF_radius_avg', 'CIF_radius_weighted_norm_A+B', 'Pauling_radius_CN12_A', 'Pauling_radius_CN12_A/B', 'Pauling_radius_CN12_A-B', 'Pauling_radius_CN12_avg', 'Pauling_radius_CN12_weighted_norm_A+B', 'Pauling_EN_A', 'Pauling_EN_B', 'Pauling_EN_A-B', 'Pauling_EN_A/B', 'Pauling_EN_max', 'Pauling_EN_min', 'Pauling_EN_avg', 'Pauling_EN_weighted_norm_A+B', 'Martynov_Batsanov_EN_A', 'Martynov_Batsanov_EN_B', 'Martynov_Batsanov_EN_A-B', 'Martynov_Batsanov_EN_A/B', 'Martynov_Batsanov_EN_max', 'Martynov_Batsanov_EN_min', 'melting_point_K_A', 'melting_point_K_A-B', 'melting_point_K_A/B', 'melting_point_K_max', 'melting_point_K_min', 'melting_point_K_avg', 'melting_point_K_weighted_norm_A+B', 'density_A', 'density_B', 'density_A-B', 'density_A/B', 'density_max', 'density_min', 'density_avg', 'density_weighted_norm_A+B', 'specific_heat_A', 'specific_heat_B', 'specific_heat_A-B', 'specific_heat_A/B', 'specific_heat_max', 'specific_heat_avg', 'specific_heat_weighted_norm_A+B', 'cohesive_energy_A', 'cohesive_energy_B', 'cohesive_energy_A-B', 'cohesive_energy_A/B', 'cohesive_energy_max', 'cohesive_energy_avg', 'cohesive_energy_weighted_norm_A+B', 'bulk_modulus_A', 'bulk_modulus_A-B', 'bulk_modulus_A/B', 'bulk_modulus_max', 'bulk_modulus_min', 'bulk_modulus_avg', 'bulk_modulus_weighted_norm_A+B'], \u001b[1mScore = 0.8500\u001b[0m\n",
      "\n",
      "\n",
      "\u001b[1mIteration 19:\u001b[0m \u001b[1mRemoved\u001b[0m 'melting_point_K_A-B', \u001b[1mRemaining\u001b[0m = ['index_B', 'normalized_index_A', 'normalized_index_B', 'largest_index', 'smallest_index', 'avg_index', 'atomic_weight_weighted_A+B', 'atomic_weight_A/B', 'atomic_weight_A-B', 'period_B', 'group_A', 'group_B', 'group_A-B', 'Mendeleev_number_A', 'Mendeleev_number_B', 'Mendeleev_number_A-B', 'valencee_total_A', 'valencee_total_B', 'valencee_total_A-B', 'valencee_total_A+B', 'valencee_total_weighted_A+B', 'valencee_total_weighted_norm_A+B', 'unpaired_electrons_A', 'unpaired_electrons_B', 'unpaired_electrons_A-B', 'unpaired_electrons_A+B', 'unpaired_electrons_weighted_A+B', 'unpaired_electrons_weighted_norm_A+B', 'Gilman_A', 'Gilman_B', 'Gilman_A+B', 'Gilman_weighted_A+B', 'Z_eff_A', 'Z_eff_B', 'Z_eff_A-B', 'Z_eff_A/B', 'Z_eff_max', 'Z_eff_min', 'Z_eff_avg', 'Z_eff_weighted_norm_A+B', 'ionization_energy_B', 'ionization_energy_A-B', 'ionization_energy_A/B', 'ionization_energy_avg', 'coordination_number_A', 'coordination_number_B', 'coordination_number_A-B', 'ratio_closest_B', 'ratio_closest_min', 'polyhedron_distortion_A', 'polyhedron_distortion_B', 'polyhedron_distortion_max', 'polyhedron_distortion_min', 'polyhedron_distortion_avg', 'CIF_radius_A', 'CIF_radius_B', 'CIF_radius_A/B', 'CIF_radius_A-B', 'CIF_radius_avg', 'CIF_radius_weighted_norm_A+B', 'Pauling_radius_CN12_A', 'Pauling_radius_CN12_A/B', 'Pauling_radius_CN12_A-B', 'Pauling_radius_CN12_avg', 'Pauling_radius_CN12_weighted_norm_A+B', 'Pauling_EN_A', 'Pauling_EN_B', 'Pauling_EN_A-B', 'Pauling_EN_A/B', 'Pauling_EN_max', 'Pauling_EN_min', 'Pauling_EN_avg', 'Pauling_EN_weighted_norm_A+B', 'Martynov_Batsanov_EN_A', 'Martynov_Batsanov_EN_B', 'Martynov_Batsanov_EN_A-B', 'Martynov_Batsanov_EN_A/B', 'Martynov_Batsanov_EN_max', 'Martynov_Batsanov_EN_min', 'melting_point_K_A', 'melting_point_K_A/B', 'melting_point_K_max', 'melting_point_K_min', 'melting_point_K_avg', 'melting_point_K_weighted_norm_A+B', 'density_A', 'density_B', 'density_A-B', 'density_A/B', 'density_max', 'density_min', 'density_avg', 'density_weighted_norm_A+B', 'specific_heat_A', 'specific_heat_B', 'specific_heat_A-B', 'specific_heat_A/B', 'specific_heat_max', 'specific_heat_avg', 'specific_heat_weighted_norm_A+B', 'cohesive_energy_A', 'cohesive_energy_B', 'cohesive_energy_A-B', 'cohesive_energy_A/B', 'cohesive_energy_max', 'cohesive_energy_avg', 'cohesive_energy_weighted_norm_A+B', 'bulk_modulus_A', 'bulk_modulus_A-B', 'bulk_modulus_A/B', 'bulk_modulus_max', 'bulk_modulus_min', 'bulk_modulus_avg', 'bulk_modulus_weighted_norm_A+B'], \u001b[1mScore = 0.8500\u001b[0m\n",
      "\n",
      "\n",
      "\u001b[1mIteration 20:\u001b[0m \u001b[1mRemoved\u001b[0m 'Z_eff_B', \u001b[1mRemaining\u001b[0m = ['index_B', 'normalized_index_A', 'normalized_index_B', 'largest_index', 'smallest_index', 'avg_index', 'atomic_weight_weighted_A+B', 'atomic_weight_A/B', 'atomic_weight_A-B', 'period_B', 'group_A', 'group_B', 'group_A-B', 'Mendeleev_number_A', 'Mendeleev_number_B', 'Mendeleev_number_A-B', 'valencee_total_A', 'valencee_total_B', 'valencee_total_A-B', 'valencee_total_A+B', 'valencee_total_weighted_A+B', 'valencee_total_weighted_norm_A+B', 'unpaired_electrons_A', 'unpaired_electrons_B', 'unpaired_electrons_A-B', 'unpaired_electrons_A+B', 'unpaired_electrons_weighted_A+B', 'unpaired_electrons_weighted_norm_A+B', 'Gilman_A', 'Gilman_B', 'Gilman_A+B', 'Gilman_weighted_A+B', 'Z_eff_A', 'Z_eff_A-B', 'Z_eff_A/B', 'Z_eff_max', 'Z_eff_min', 'Z_eff_avg', 'Z_eff_weighted_norm_A+B', 'ionization_energy_B', 'ionization_energy_A-B', 'ionization_energy_A/B', 'ionization_energy_avg', 'coordination_number_A', 'coordination_number_B', 'coordination_number_A-B', 'ratio_closest_B', 'ratio_closest_min', 'polyhedron_distortion_A', 'polyhedron_distortion_B', 'polyhedron_distortion_max', 'polyhedron_distortion_min', 'polyhedron_distortion_avg', 'CIF_radius_A', 'CIF_radius_B', 'CIF_radius_A/B', 'CIF_radius_A-B', 'CIF_radius_avg', 'CIF_radius_weighted_norm_A+B', 'Pauling_radius_CN12_A', 'Pauling_radius_CN12_A/B', 'Pauling_radius_CN12_A-B', 'Pauling_radius_CN12_avg', 'Pauling_radius_CN12_weighted_norm_A+B', 'Pauling_EN_A', 'Pauling_EN_B', 'Pauling_EN_A-B', 'Pauling_EN_A/B', 'Pauling_EN_max', 'Pauling_EN_min', 'Pauling_EN_avg', 'Pauling_EN_weighted_norm_A+B', 'Martynov_Batsanov_EN_A', 'Martynov_Batsanov_EN_B', 'Martynov_Batsanov_EN_A-B', 'Martynov_Batsanov_EN_A/B', 'Martynov_Batsanov_EN_max', 'Martynov_Batsanov_EN_min', 'melting_point_K_A', 'melting_point_K_A/B', 'melting_point_K_max', 'melting_point_K_min', 'melting_point_K_avg', 'melting_point_K_weighted_norm_A+B', 'density_A', 'density_B', 'density_A-B', 'density_A/B', 'density_max', 'density_min', 'density_avg', 'density_weighted_norm_A+B', 'specific_heat_A', 'specific_heat_B', 'specific_heat_A-B', 'specific_heat_A/B', 'specific_heat_max', 'specific_heat_avg', 'specific_heat_weighted_norm_A+B', 'cohesive_energy_A', 'cohesive_energy_B', 'cohesive_energy_A-B', 'cohesive_energy_A/B', 'cohesive_energy_max', 'cohesive_energy_avg', 'cohesive_energy_weighted_norm_A+B', 'bulk_modulus_A', 'bulk_modulus_A-B', 'bulk_modulus_A/B', 'bulk_modulus_max', 'bulk_modulus_min', 'bulk_modulus_avg', 'bulk_modulus_weighted_norm_A+B'], \u001b[1mScore = 0.8500\u001b[0m\n",
      "\n",
      "\n",
      "\u001b[1mIteration 21:\u001b[0m \u001b[1mRemoved\u001b[0m 'specific_heat_A/B', \u001b[1mRemaining\u001b[0m = ['index_B', 'normalized_index_A', 'normalized_index_B', 'largest_index', 'smallest_index', 'avg_index', 'atomic_weight_weighted_A+B', 'atomic_weight_A/B', 'atomic_weight_A-B', 'period_B', 'group_A', 'group_B', 'group_A-B', 'Mendeleev_number_A', 'Mendeleev_number_B', 'Mendeleev_number_A-B', 'valencee_total_A', 'valencee_total_B', 'valencee_total_A-B', 'valencee_total_A+B', 'valencee_total_weighted_A+B', 'valencee_total_weighted_norm_A+B', 'unpaired_electrons_A', 'unpaired_electrons_B', 'unpaired_electrons_A-B', 'unpaired_electrons_A+B', 'unpaired_electrons_weighted_A+B', 'unpaired_electrons_weighted_norm_A+B', 'Gilman_A', 'Gilman_B', 'Gilman_A+B', 'Gilman_weighted_A+B', 'Z_eff_A', 'Z_eff_A-B', 'Z_eff_A/B', 'Z_eff_max', 'Z_eff_min', 'Z_eff_avg', 'Z_eff_weighted_norm_A+B', 'ionization_energy_B', 'ionization_energy_A-B', 'ionization_energy_A/B', 'ionization_energy_avg', 'coordination_number_A', 'coordination_number_B', 'coordination_number_A-B', 'ratio_closest_B', 'ratio_closest_min', 'polyhedron_distortion_A', 'polyhedron_distortion_B', 'polyhedron_distortion_max', 'polyhedron_distortion_min', 'polyhedron_distortion_avg', 'CIF_radius_A', 'CIF_radius_B', 'CIF_radius_A/B', 'CIF_radius_A-B', 'CIF_radius_avg', 'CIF_radius_weighted_norm_A+B', 'Pauling_radius_CN12_A', 'Pauling_radius_CN12_A/B', 'Pauling_radius_CN12_A-B', 'Pauling_radius_CN12_avg', 'Pauling_radius_CN12_weighted_norm_A+B', 'Pauling_EN_A', 'Pauling_EN_B', 'Pauling_EN_A-B', 'Pauling_EN_A/B', 'Pauling_EN_max', 'Pauling_EN_min', 'Pauling_EN_avg', 'Pauling_EN_weighted_norm_A+B', 'Martynov_Batsanov_EN_A', 'Martynov_Batsanov_EN_B', 'Martynov_Batsanov_EN_A-B', 'Martynov_Batsanov_EN_A/B', 'Martynov_Batsanov_EN_max', 'Martynov_Batsanov_EN_min', 'melting_point_K_A', 'melting_point_K_A/B', 'melting_point_K_max', 'melting_point_K_min', 'melting_point_K_avg', 'melting_point_K_weighted_norm_A+B', 'density_A', 'density_B', 'density_A-B', 'density_A/B', 'density_max', 'density_min', 'density_avg', 'density_weighted_norm_A+B', 'specific_heat_A', 'specific_heat_B', 'specific_heat_A-B', 'specific_heat_max', 'specific_heat_avg', 'specific_heat_weighted_norm_A+B', 'cohesive_energy_A', 'cohesive_energy_B', 'cohesive_energy_A-B', 'cohesive_energy_A/B', 'cohesive_energy_max', 'cohesive_energy_avg', 'cohesive_energy_weighted_norm_A+B', 'bulk_modulus_A', 'bulk_modulus_A-B', 'bulk_modulus_A/B', 'bulk_modulus_max', 'bulk_modulus_min', 'bulk_modulus_avg', 'bulk_modulus_weighted_norm_A+B'], \u001b[1mScore = 0.8500\u001b[0m\n",
      "\n",
      "\n",
      "\u001b[1mIteration 22:\u001b[0m \u001b[1mRemoved\u001b[0m 'melting_point_K_min', \u001b[1mRemaining\u001b[0m = ['index_B', 'normalized_index_A', 'normalized_index_B', 'largest_index', 'smallest_index', 'avg_index', 'atomic_weight_weighted_A+B', 'atomic_weight_A/B', 'atomic_weight_A-B', 'period_B', 'group_A', 'group_B', 'group_A-B', 'Mendeleev_number_A', 'Mendeleev_number_B', 'Mendeleev_number_A-B', 'valencee_total_A', 'valencee_total_B', 'valencee_total_A-B', 'valencee_total_A+B', 'valencee_total_weighted_A+B', 'valencee_total_weighted_norm_A+B', 'unpaired_electrons_A', 'unpaired_electrons_B', 'unpaired_electrons_A-B', 'unpaired_electrons_A+B', 'unpaired_electrons_weighted_A+B', 'unpaired_electrons_weighted_norm_A+B', 'Gilman_A', 'Gilman_B', 'Gilman_A+B', 'Gilman_weighted_A+B', 'Z_eff_A', 'Z_eff_A-B', 'Z_eff_A/B', 'Z_eff_max', 'Z_eff_min', 'Z_eff_avg', 'Z_eff_weighted_norm_A+B', 'ionization_energy_B', 'ionization_energy_A-B', 'ionization_energy_A/B', 'ionization_energy_avg', 'coordination_number_A', 'coordination_number_B', 'coordination_number_A-B', 'ratio_closest_B', 'ratio_closest_min', 'polyhedron_distortion_A', 'polyhedron_distortion_B', 'polyhedron_distortion_max', 'polyhedron_distortion_min', 'polyhedron_distortion_avg', 'CIF_radius_A', 'CIF_radius_B', 'CIF_radius_A/B', 'CIF_radius_A-B', 'CIF_radius_avg', 'CIF_radius_weighted_norm_A+B', 'Pauling_radius_CN12_A', 'Pauling_radius_CN12_A/B', 'Pauling_radius_CN12_A-B', 'Pauling_radius_CN12_avg', 'Pauling_radius_CN12_weighted_norm_A+B', 'Pauling_EN_A', 'Pauling_EN_B', 'Pauling_EN_A-B', 'Pauling_EN_A/B', 'Pauling_EN_max', 'Pauling_EN_min', 'Pauling_EN_avg', 'Pauling_EN_weighted_norm_A+B', 'Martynov_Batsanov_EN_A', 'Martynov_Batsanov_EN_B', 'Martynov_Batsanov_EN_A-B', 'Martynov_Batsanov_EN_A/B', 'Martynov_Batsanov_EN_max', 'Martynov_Batsanov_EN_min', 'melting_point_K_A', 'melting_point_K_A/B', 'melting_point_K_max', 'melting_point_K_avg', 'melting_point_K_weighted_norm_A+B', 'density_A', 'density_B', 'density_A-B', 'density_A/B', 'density_max', 'density_min', 'density_avg', 'density_weighted_norm_A+B', 'specific_heat_A', 'specific_heat_B', 'specific_heat_A-B', 'specific_heat_max', 'specific_heat_avg', 'specific_heat_weighted_norm_A+B', 'cohesive_energy_A', 'cohesive_energy_B', 'cohesive_energy_A-B', 'cohesive_energy_A/B', 'cohesive_energy_max', 'cohesive_energy_avg', 'cohesive_energy_weighted_norm_A+B', 'bulk_modulus_A', 'bulk_modulus_A-B', 'bulk_modulus_A/B', 'bulk_modulus_max', 'bulk_modulus_min', 'bulk_modulus_avg', 'bulk_modulus_weighted_norm_A+B'], \u001b[1mScore = 0.8500\u001b[0m\n",
      "\n",
      "\n",
      "\u001b[1mIteration 23:\u001b[0m \u001b[1mRemoved\u001b[0m 'cohesive_energy_A-B', \u001b[1mRemaining\u001b[0m = ['index_B', 'normalized_index_A', 'normalized_index_B', 'largest_index', 'smallest_index', 'avg_index', 'atomic_weight_weighted_A+B', 'atomic_weight_A/B', 'atomic_weight_A-B', 'period_B', 'group_A', 'group_B', 'group_A-B', 'Mendeleev_number_A', 'Mendeleev_number_B', 'Mendeleev_number_A-B', 'valencee_total_A', 'valencee_total_B', 'valencee_total_A-B', 'valencee_total_A+B', 'valencee_total_weighted_A+B', 'valencee_total_weighted_norm_A+B', 'unpaired_electrons_A', 'unpaired_electrons_B', 'unpaired_electrons_A-B', 'unpaired_electrons_A+B', 'unpaired_electrons_weighted_A+B', 'unpaired_electrons_weighted_norm_A+B', 'Gilman_A', 'Gilman_B', 'Gilman_A+B', 'Gilman_weighted_A+B', 'Z_eff_A', 'Z_eff_A-B', 'Z_eff_A/B', 'Z_eff_max', 'Z_eff_min', 'Z_eff_avg', 'Z_eff_weighted_norm_A+B', 'ionization_energy_B', 'ionization_energy_A-B', 'ionization_energy_A/B', 'ionization_energy_avg', 'coordination_number_A', 'coordination_number_B', 'coordination_number_A-B', 'ratio_closest_B', 'ratio_closest_min', 'polyhedron_distortion_A', 'polyhedron_distortion_B', 'polyhedron_distortion_max', 'polyhedron_distortion_min', 'polyhedron_distortion_avg', 'CIF_radius_A', 'CIF_radius_B', 'CIF_radius_A/B', 'CIF_radius_A-B', 'CIF_radius_avg', 'CIF_radius_weighted_norm_A+B', 'Pauling_radius_CN12_A', 'Pauling_radius_CN12_A/B', 'Pauling_radius_CN12_A-B', 'Pauling_radius_CN12_avg', 'Pauling_radius_CN12_weighted_norm_A+B', 'Pauling_EN_A', 'Pauling_EN_B', 'Pauling_EN_A-B', 'Pauling_EN_A/B', 'Pauling_EN_max', 'Pauling_EN_min', 'Pauling_EN_avg', 'Pauling_EN_weighted_norm_A+B', 'Martynov_Batsanov_EN_A', 'Martynov_Batsanov_EN_B', 'Martynov_Batsanov_EN_A-B', 'Martynov_Batsanov_EN_A/B', 'Martynov_Batsanov_EN_max', 'Martynov_Batsanov_EN_min', 'melting_point_K_A', 'melting_point_K_A/B', 'melting_point_K_max', 'melting_point_K_avg', 'melting_point_K_weighted_norm_A+B', 'density_A', 'density_B', 'density_A-B', 'density_A/B', 'density_max', 'density_min', 'density_avg', 'density_weighted_norm_A+B', 'specific_heat_A', 'specific_heat_B', 'specific_heat_A-B', 'specific_heat_max', 'specific_heat_avg', 'specific_heat_weighted_norm_A+B', 'cohesive_energy_A', 'cohesive_energy_B', 'cohesive_energy_A/B', 'cohesive_energy_max', 'cohesive_energy_avg', 'cohesive_energy_weighted_norm_A+B', 'bulk_modulus_A', 'bulk_modulus_A-B', 'bulk_modulus_A/B', 'bulk_modulus_max', 'bulk_modulus_min', 'bulk_modulus_avg', 'bulk_modulus_weighted_norm_A+B'], \u001b[1mScore = 0.8500\u001b[0m\n",
      "\n",
      "\n",
      "\u001b[1mIteration 24:\u001b[0m \u001b[1mRemoved\u001b[0m 'Mendeleev_number_A-B', \u001b[1mRemaining\u001b[0m = ['index_B', 'normalized_index_A', 'normalized_index_B', 'largest_index', 'smallest_index', 'avg_index', 'atomic_weight_weighted_A+B', 'atomic_weight_A/B', 'atomic_weight_A-B', 'period_B', 'group_A', 'group_B', 'group_A-B', 'Mendeleev_number_A', 'Mendeleev_number_B', 'valencee_total_A', 'valencee_total_B', 'valencee_total_A-B', 'valencee_total_A+B', 'valencee_total_weighted_A+B', 'valencee_total_weighted_norm_A+B', 'unpaired_electrons_A', 'unpaired_electrons_B', 'unpaired_electrons_A-B', 'unpaired_electrons_A+B', 'unpaired_electrons_weighted_A+B', 'unpaired_electrons_weighted_norm_A+B', 'Gilman_A', 'Gilman_B', 'Gilman_A+B', 'Gilman_weighted_A+B', 'Z_eff_A', 'Z_eff_A-B', 'Z_eff_A/B', 'Z_eff_max', 'Z_eff_min', 'Z_eff_avg', 'Z_eff_weighted_norm_A+B', 'ionization_energy_B', 'ionization_energy_A-B', 'ionization_energy_A/B', 'ionization_energy_avg', 'coordination_number_A', 'coordination_number_B', 'coordination_number_A-B', 'ratio_closest_B', 'ratio_closest_min', 'polyhedron_distortion_A', 'polyhedron_distortion_B', 'polyhedron_distortion_max', 'polyhedron_distortion_min', 'polyhedron_distortion_avg', 'CIF_radius_A', 'CIF_radius_B', 'CIF_radius_A/B', 'CIF_radius_A-B', 'CIF_radius_avg', 'CIF_radius_weighted_norm_A+B', 'Pauling_radius_CN12_A', 'Pauling_radius_CN12_A/B', 'Pauling_radius_CN12_A-B', 'Pauling_radius_CN12_avg', 'Pauling_radius_CN12_weighted_norm_A+B', 'Pauling_EN_A', 'Pauling_EN_B', 'Pauling_EN_A-B', 'Pauling_EN_A/B', 'Pauling_EN_max', 'Pauling_EN_min', 'Pauling_EN_avg', 'Pauling_EN_weighted_norm_A+B', 'Martynov_Batsanov_EN_A', 'Martynov_Batsanov_EN_B', 'Martynov_Batsanov_EN_A-B', 'Martynov_Batsanov_EN_A/B', 'Martynov_Batsanov_EN_max', 'Martynov_Batsanov_EN_min', 'melting_point_K_A', 'melting_point_K_A/B', 'melting_point_K_max', 'melting_point_K_avg', 'melting_point_K_weighted_norm_A+B', 'density_A', 'density_B', 'density_A-B', 'density_A/B', 'density_max', 'density_min', 'density_avg', 'density_weighted_norm_A+B', 'specific_heat_A', 'specific_heat_B', 'specific_heat_A-B', 'specific_heat_max', 'specific_heat_avg', 'specific_heat_weighted_norm_A+B', 'cohesive_energy_A', 'cohesive_energy_B', 'cohesive_energy_A/B', 'cohesive_energy_max', 'cohesive_energy_avg', 'cohesive_energy_weighted_norm_A+B', 'bulk_modulus_A', 'bulk_modulus_A-B', 'bulk_modulus_A/B', 'bulk_modulus_max', 'bulk_modulus_min', 'bulk_modulus_avg', 'bulk_modulus_weighted_norm_A+B'], \u001b[1mScore = 0.8500\u001b[0m\n",
      "\n",
      "\n",
      "\u001b[1mIteration 25:\u001b[0m \u001b[1mRemoved\u001b[0m 'CIF_radius_avg', \u001b[1mRemaining\u001b[0m = ['index_B', 'normalized_index_A', 'normalized_index_B', 'largest_index', 'smallest_index', 'avg_index', 'atomic_weight_weighted_A+B', 'atomic_weight_A/B', 'atomic_weight_A-B', 'period_B', 'group_A', 'group_B', 'group_A-B', 'Mendeleev_number_A', 'Mendeleev_number_B', 'valencee_total_A', 'valencee_total_B', 'valencee_total_A-B', 'valencee_total_A+B', 'valencee_total_weighted_A+B', 'valencee_total_weighted_norm_A+B', 'unpaired_electrons_A', 'unpaired_electrons_B', 'unpaired_electrons_A-B', 'unpaired_electrons_A+B', 'unpaired_electrons_weighted_A+B', 'unpaired_electrons_weighted_norm_A+B', 'Gilman_A', 'Gilman_B', 'Gilman_A+B', 'Gilman_weighted_A+B', 'Z_eff_A', 'Z_eff_A-B', 'Z_eff_A/B', 'Z_eff_max', 'Z_eff_min', 'Z_eff_avg', 'Z_eff_weighted_norm_A+B', 'ionization_energy_B', 'ionization_energy_A-B', 'ionization_energy_A/B', 'ionization_energy_avg', 'coordination_number_A', 'coordination_number_B', 'coordination_number_A-B', 'ratio_closest_B', 'ratio_closest_min', 'polyhedron_distortion_A', 'polyhedron_distortion_B', 'polyhedron_distortion_max', 'polyhedron_distortion_min', 'polyhedron_distortion_avg', 'CIF_radius_A', 'CIF_radius_B', 'CIF_radius_A/B', 'CIF_radius_A-B', 'CIF_radius_weighted_norm_A+B', 'Pauling_radius_CN12_A', 'Pauling_radius_CN12_A/B', 'Pauling_radius_CN12_A-B', 'Pauling_radius_CN12_avg', 'Pauling_radius_CN12_weighted_norm_A+B', 'Pauling_EN_A', 'Pauling_EN_B', 'Pauling_EN_A-B', 'Pauling_EN_A/B', 'Pauling_EN_max', 'Pauling_EN_min', 'Pauling_EN_avg', 'Pauling_EN_weighted_norm_A+B', 'Martynov_Batsanov_EN_A', 'Martynov_Batsanov_EN_B', 'Martynov_Batsanov_EN_A-B', 'Martynov_Batsanov_EN_A/B', 'Martynov_Batsanov_EN_max', 'Martynov_Batsanov_EN_min', 'melting_point_K_A', 'melting_point_K_A/B', 'melting_point_K_max', 'melting_point_K_avg', 'melting_point_K_weighted_norm_A+B', 'density_A', 'density_B', 'density_A-B', 'density_A/B', 'density_max', 'density_min', 'density_avg', 'density_weighted_norm_A+B', 'specific_heat_A', 'specific_heat_B', 'specific_heat_A-B', 'specific_heat_max', 'specific_heat_avg', 'specific_heat_weighted_norm_A+B', 'cohesive_energy_A', 'cohesive_energy_B', 'cohesive_energy_A/B', 'cohesive_energy_max', 'cohesive_energy_avg', 'cohesive_energy_weighted_norm_A+B', 'bulk_modulus_A', 'bulk_modulus_A-B', 'bulk_modulus_A/B', 'bulk_modulus_max', 'bulk_modulus_min', 'bulk_modulus_avg', 'bulk_modulus_weighted_norm_A+B'], \u001b[1mScore = 0.8500\u001b[0m\n",
      "\n",
      "\n",
      "\u001b[1mIteration 26:\u001b[0m \u001b[1mRemoved\u001b[0m 'ratio_closest_B', \u001b[1mRemaining\u001b[0m = ['index_B', 'normalized_index_A', 'normalized_index_B', 'largest_index', 'smallest_index', 'avg_index', 'atomic_weight_weighted_A+B', 'atomic_weight_A/B', 'atomic_weight_A-B', 'period_B', 'group_A', 'group_B', 'group_A-B', 'Mendeleev_number_A', 'Mendeleev_number_B', 'valencee_total_A', 'valencee_total_B', 'valencee_total_A-B', 'valencee_total_A+B', 'valencee_total_weighted_A+B', 'valencee_total_weighted_norm_A+B', 'unpaired_electrons_A', 'unpaired_electrons_B', 'unpaired_electrons_A-B', 'unpaired_electrons_A+B', 'unpaired_electrons_weighted_A+B', 'unpaired_electrons_weighted_norm_A+B', 'Gilman_A', 'Gilman_B', 'Gilman_A+B', 'Gilman_weighted_A+B', 'Z_eff_A', 'Z_eff_A-B', 'Z_eff_A/B', 'Z_eff_max', 'Z_eff_min', 'Z_eff_avg', 'Z_eff_weighted_norm_A+B', 'ionization_energy_B', 'ionization_energy_A-B', 'ionization_energy_A/B', 'ionization_energy_avg', 'coordination_number_A', 'coordination_number_B', 'coordination_number_A-B', 'ratio_closest_min', 'polyhedron_distortion_A', 'polyhedron_distortion_B', 'polyhedron_distortion_max', 'polyhedron_distortion_min', 'polyhedron_distortion_avg', 'CIF_radius_A', 'CIF_radius_B', 'CIF_radius_A/B', 'CIF_radius_A-B', 'CIF_radius_weighted_norm_A+B', 'Pauling_radius_CN12_A', 'Pauling_radius_CN12_A/B', 'Pauling_radius_CN12_A-B', 'Pauling_radius_CN12_avg', 'Pauling_radius_CN12_weighted_norm_A+B', 'Pauling_EN_A', 'Pauling_EN_B', 'Pauling_EN_A-B', 'Pauling_EN_A/B', 'Pauling_EN_max', 'Pauling_EN_min', 'Pauling_EN_avg', 'Pauling_EN_weighted_norm_A+B', 'Martynov_Batsanov_EN_A', 'Martynov_Batsanov_EN_B', 'Martynov_Batsanov_EN_A-B', 'Martynov_Batsanov_EN_A/B', 'Martynov_Batsanov_EN_max', 'Martynov_Batsanov_EN_min', 'melting_point_K_A', 'melting_point_K_A/B', 'melting_point_K_max', 'melting_point_K_avg', 'melting_point_K_weighted_norm_A+B', 'density_A', 'density_B', 'density_A-B', 'density_A/B', 'density_max', 'density_min', 'density_avg', 'density_weighted_norm_A+B', 'specific_heat_A', 'specific_heat_B', 'specific_heat_A-B', 'specific_heat_max', 'specific_heat_avg', 'specific_heat_weighted_norm_A+B', 'cohesive_energy_A', 'cohesive_energy_B', 'cohesive_energy_A/B', 'cohesive_energy_max', 'cohesive_energy_avg', 'cohesive_energy_weighted_norm_A+B', 'bulk_modulus_A', 'bulk_modulus_A-B', 'bulk_modulus_A/B', 'bulk_modulus_max', 'bulk_modulus_min', 'bulk_modulus_avg', 'bulk_modulus_weighted_norm_A+B'], \u001b[1mScore = 0.8500\u001b[0m\n",
      "\n",
      "\n",
      "\u001b[1mIteration 27:\u001b[0m \u001b[1mRemoved\u001b[0m 'largest_index', \u001b[1mRemaining\u001b[0m = ['index_B', 'normalized_index_A', 'normalized_index_B', 'smallest_index', 'avg_index', 'atomic_weight_weighted_A+B', 'atomic_weight_A/B', 'atomic_weight_A-B', 'period_B', 'group_A', 'group_B', 'group_A-B', 'Mendeleev_number_A', 'Mendeleev_number_B', 'valencee_total_A', 'valencee_total_B', 'valencee_total_A-B', 'valencee_total_A+B', 'valencee_total_weighted_A+B', 'valencee_total_weighted_norm_A+B', 'unpaired_electrons_A', 'unpaired_electrons_B', 'unpaired_electrons_A-B', 'unpaired_electrons_A+B', 'unpaired_electrons_weighted_A+B', 'unpaired_electrons_weighted_norm_A+B', 'Gilman_A', 'Gilman_B', 'Gilman_A+B', 'Gilman_weighted_A+B', 'Z_eff_A', 'Z_eff_A-B', 'Z_eff_A/B', 'Z_eff_max', 'Z_eff_min', 'Z_eff_avg', 'Z_eff_weighted_norm_A+B', 'ionization_energy_B', 'ionization_energy_A-B', 'ionization_energy_A/B', 'ionization_energy_avg', 'coordination_number_A', 'coordination_number_B', 'coordination_number_A-B', 'ratio_closest_min', 'polyhedron_distortion_A', 'polyhedron_distortion_B', 'polyhedron_distortion_max', 'polyhedron_distortion_min', 'polyhedron_distortion_avg', 'CIF_radius_A', 'CIF_radius_B', 'CIF_radius_A/B', 'CIF_radius_A-B', 'CIF_radius_weighted_norm_A+B', 'Pauling_radius_CN12_A', 'Pauling_radius_CN12_A/B', 'Pauling_radius_CN12_A-B', 'Pauling_radius_CN12_avg', 'Pauling_radius_CN12_weighted_norm_A+B', 'Pauling_EN_A', 'Pauling_EN_B', 'Pauling_EN_A-B', 'Pauling_EN_A/B', 'Pauling_EN_max', 'Pauling_EN_min', 'Pauling_EN_avg', 'Pauling_EN_weighted_norm_A+B', 'Martynov_Batsanov_EN_A', 'Martynov_Batsanov_EN_B', 'Martynov_Batsanov_EN_A-B', 'Martynov_Batsanov_EN_A/B', 'Martynov_Batsanov_EN_max', 'Martynov_Batsanov_EN_min', 'melting_point_K_A', 'melting_point_K_A/B', 'melting_point_K_max', 'melting_point_K_avg', 'melting_point_K_weighted_norm_A+B', 'density_A', 'density_B', 'density_A-B', 'density_A/B', 'density_max', 'density_min', 'density_avg', 'density_weighted_norm_A+B', 'specific_heat_A', 'specific_heat_B', 'specific_heat_A-B', 'specific_heat_max', 'specific_heat_avg', 'specific_heat_weighted_norm_A+B', 'cohesive_energy_A', 'cohesive_energy_B', 'cohesive_energy_A/B', 'cohesive_energy_max', 'cohesive_energy_avg', 'cohesive_energy_weighted_norm_A+B', 'bulk_modulus_A', 'bulk_modulus_A-B', 'bulk_modulus_A/B', 'bulk_modulus_max', 'bulk_modulus_min', 'bulk_modulus_avg', 'bulk_modulus_weighted_norm_A+B'], \u001b[1mScore = 0.8500\u001b[0m\n",
      "\n",
      "\n",
      "\u001b[1mIteration 28:\u001b[0m \u001b[1mRemoved\u001b[0m 'melting_point_K_A/B', \u001b[1mRemaining\u001b[0m = ['index_B', 'normalized_index_A', 'normalized_index_B', 'smallest_index', 'avg_index', 'atomic_weight_weighted_A+B', 'atomic_weight_A/B', 'atomic_weight_A-B', 'period_B', 'group_A', 'group_B', 'group_A-B', 'Mendeleev_number_A', 'Mendeleev_number_B', 'valencee_total_A', 'valencee_total_B', 'valencee_total_A-B', 'valencee_total_A+B', 'valencee_total_weighted_A+B', 'valencee_total_weighted_norm_A+B', 'unpaired_electrons_A', 'unpaired_electrons_B', 'unpaired_electrons_A-B', 'unpaired_electrons_A+B', 'unpaired_electrons_weighted_A+B', 'unpaired_electrons_weighted_norm_A+B', 'Gilman_A', 'Gilman_B', 'Gilman_A+B', 'Gilman_weighted_A+B', 'Z_eff_A', 'Z_eff_A-B', 'Z_eff_A/B', 'Z_eff_max', 'Z_eff_min', 'Z_eff_avg', 'Z_eff_weighted_norm_A+B', 'ionization_energy_B', 'ionization_energy_A-B', 'ionization_energy_A/B', 'ionization_energy_avg', 'coordination_number_A', 'coordination_number_B', 'coordination_number_A-B', 'ratio_closest_min', 'polyhedron_distortion_A', 'polyhedron_distortion_B', 'polyhedron_distortion_max', 'polyhedron_distortion_min', 'polyhedron_distortion_avg', 'CIF_radius_A', 'CIF_radius_B', 'CIF_radius_A/B', 'CIF_radius_A-B', 'CIF_radius_weighted_norm_A+B', 'Pauling_radius_CN12_A', 'Pauling_radius_CN12_A/B', 'Pauling_radius_CN12_A-B', 'Pauling_radius_CN12_avg', 'Pauling_radius_CN12_weighted_norm_A+B', 'Pauling_EN_A', 'Pauling_EN_B', 'Pauling_EN_A-B', 'Pauling_EN_A/B', 'Pauling_EN_max', 'Pauling_EN_min', 'Pauling_EN_avg', 'Pauling_EN_weighted_norm_A+B', 'Martynov_Batsanov_EN_A', 'Martynov_Batsanov_EN_B', 'Martynov_Batsanov_EN_A-B', 'Martynov_Batsanov_EN_A/B', 'Martynov_Batsanov_EN_max', 'Martynov_Batsanov_EN_min', 'melting_point_K_A', 'melting_point_K_max', 'melting_point_K_avg', 'melting_point_K_weighted_norm_A+B', 'density_A', 'density_B', 'density_A-B', 'density_A/B', 'density_max', 'density_min', 'density_avg', 'density_weighted_norm_A+B', 'specific_heat_A', 'specific_heat_B', 'specific_heat_A-B', 'specific_heat_max', 'specific_heat_avg', 'specific_heat_weighted_norm_A+B', 'cohesive_energy_A', 'cohesive_energy_B', 'cohesive_energy_A/B', 'cohesive_energy_max', 'cohesive_energy_avg', 'cohesive_energy_weighted_norm_A+B', 'bulk_modulus_A', 'bulk_modulus_A-B', 'bulk_modulus_A/B', 'bulk_modulus_max', 'bulk_modulus_min', 'bulk_modulus_avg', 'bulk_modulus_weighted_norm_A+B'], \u001b[1mScore = 0.8500\u001b[0m\n",
      "\n",
      "\n",
      "\u001b[1mIteration 29:\u001b[0m \u001b[1mRemoved\u001b[0m 'cohesive_energy_weighted_norm_A+B', \u001b[1mRemaining\u001b[0m = ['index_B', 'normalized_index_A', 'normalized_index_B', 'smallest_index', 'avg_index', 'atomic_weight_weighted_A+B', 'atomic_weight_A/B', 'atomic_weight_A-B', 'period_B', 'group_A', 'group_B', 'group_A-B', 'Mendeleev_number_A', 'Mendeleev_number_B', 'valencee_total_A', 'valencee_total_B', 'valencee_total_A-B', 'valencee_total_A+B', 'valencee_total_weighted_A+B', 'valencee_total_weighted_norm_A+B', 'unpaired_electrons_A', 'unpaired_electrons_B', 'unpaired_electrons_A-B', 'unpaired_electrons_A+B', 'unpaired_electrons_weighted_A+B', 'unpaired_electrons_weighted_norm_A+B', 'Gilman_A', 'Gilman_B', 'Gilman_A+B', 'Gilman_weighted_A+B', 'Z_eff_A', 'Z_eff_A-B', 'Z_eff_A/B', 'Z_eff_max', 'Z_eff_min', 'Z_eff_avg', 'Z_eff_weighted_norm_A+B', 'ionization_energy_B', 'ionization_energy_A-B', 'ionization_energy_A/B', 'ionization_energy_avg', 'coordination_number_A', 'coordination_number_B', 'coordination_number_A-B', 'ratio_closest_min', 'polyhedron_distortion_A', 'polyhedron_distortion_B', 'polyhedron_distortion_max', 'polyhedron_distortion_min', 'polyhedron_distortion_avg', 'CIF_radius_A', 'CIF_radius_B', 'CIF_radius_A/B', 'CIF_radius_A-B', 'CIF_radius_weighted_norm_A+B', 'Pauling_radius_CN12_A', 'Pauling_radius_CN12_A/B', 'Pauling_radius_CN12_A-B', 'Pauling_radius_CN12_avg', 'Pauling_radius_CN12_weighted_norm_A+B', 'Pauling_EN_A', 'Pauling_EN_B', 'Pauling_EN_A-B', 'Pauling_EN_A/B', 'Pauling_EN_max', 'Pauling_EN_min', 'Pauling_EN_avg', 'Pauling_EN_weighted_norm_A+B', 'Martynov_Batsanov_EN_A', 'Martynov_Batsanov_EN_B', 'Martynov_Batsanov_EN_A-B', 'Martynov_Batsanov_EN_A/B', 'Martynov_Batsanov_EN_max', 'Martynov_Batsanov_EN_min', 'melting_point_K_A', 'melting_point_K_max', 'melting_point_K_avg', 'melting_point_K_weighted_norm_A+B', 'density_A', 'density_B', 'density_A-B', 'density_A/B', 'density_max', 'density_min', 'density_avg', 'density_weighted_norm_A+B', 'specific_heat_A', 'specific_heat_B', 'specific_heat_A-B', 'specific_heat_max', 'specific_heat_avg', 'specific_heat_weighted_norm_A+B', 'cohesive_energy_A', 'cohesive_energy_B', 'cohesive_energy_A/B', 'cohesive_energy_max', 'cohesive_energy_avg', 'bulk_modulus_A', 'bulk_modulus_A-B', 'bulk_modulus_A/B', 'bulk_modulus_max', 'bulk_modulus_min', 'bulk_modulus_avg', 'bulk_modulus_weighted_norm_A+B'], \u001b[1mScore = 0.8500\u001b[0m\n",
      "\n",
      "\n",
      "\u001b[1mIteration 30:\u001b[0m \u001b[1mRemoved\u001b[0m 'unpaired_electrons_B', \u001b[1mRemaining\u001b[0m = ['index_B', 'normalized_index_A', 'normalized_index_B', 'smallest_index', 'avg_index', 'atomic_weight_weighted_A+B', 'atomic_weight_A/B', 'atomic_weight_A-B', 'period_B', 'group_A', 'group_B', 'group_A-B', 'Mendeleev_number_A', 'Mendeleev_number_B', 'valencee_total_A', 'valencee_total_B', 'valencee_total_A-B', 'valencee_total_A+B', 'valencee_total_weighted_A+B', 'valencee_total_weighted_norm_A+B', 'unpaired_electrons_A', 'unpaired_electrons_A-B', 'unpaired_electrons_A+B', 'unpaired_electrons_weighted_A+B', 'unpaired_electrons_weighted_norm_A+B', 'Gilman_A', 'Gilman_B', 'Gilman_A+B', 'Gilman_weighted_A+B', 'Z_eff_A', 'Z_eff_A-B', 'Z_eff_A/B', 'Z_eff_max', 'Z_eff_min', 'Z_eff_avg', 'Z_eff_weighted_norm_A+B', 'ionization_energy_B', 'ionization_energy_A-B', 'ionization_energy_A/B', 'ionization_energy_avg', 'coordination_number_A', 'coordination_number_B', 'coordination_number_A-B', 'ratio_closest_min', 'polyhedron_distortion_A', 'polyhedron_distortion_B', 'polyhedron_distortion_max', 'polyhedron_distortion_min', 'polyhedron_distortion_avg', 'CIF_radius_A', 'CIF_radius_B', 'CIF_radius_A/B', 'CIF_radius_A-B', 'CIF_radius_weighted_norm_A+B', 'Pauling_radius_CN12_A', 'Pauling_radius_CN12_A/B', 'Pauling_radius_CN12_A-B', 'Pauling_radius_CN12_avg', 'Pauling_radius_CN12_weighted_norm_A+B', 'Pauling_EN_A', 'Pauling_EN_B', 'Pauling_EN_A-B', 'Pauling_EN_A/B', 'Pauling_EN_max', 'Pauling_EN_min', 'Pauling_EN_avg', 'Pauling_EN_weighted_norm_A+B', 'Martynov_Batsanov_EN_A', 'Martynov_Batsanov_EN_B', 'Martynov_Batsanov_EN_A-B', 'Martynov_Batsanov_EN_A/B', 'Martynov_Batsanov_EN_max', 'Martynov_Batsanov_EN_min', 'melting_point_K_A', 'melting_point_K_max', 'melting_point_K_avg', 'melting_point_K_weighted_norm_A+B', 'density_A', 'density_B', 'density_A-B', 'density_A/B', 'density_max', 'density_min', 'density_avg', 'density_weighted_norm_A+B', 'specific_heat_A', 'specific_heat_B', 'specific_heat_A-B', 'specific_heat_max', 'specific_heat_avg', 'specific_heat_weighted_norm_A+B', 'cohesive_energy_A', 'cohesive_energy_B', 'cohesive_energy_A/B', 'cohesive_energy_max', 'cohesive_energy_avg', 'bulk_modulus_A', 'bulk_modulus_A-B', 'bulk_modulus_A/B', 'bulk_modulus_max', 'bulk_modulus_min', 'bulk_modulus_avg', 'bulk_modulus_weighted_norm_A+B'], \u001b[1mScore = 0.8750\u001b[0m\n",
      "\n",
      "\n",
      "\u001b[1mIteration 31:\u001b[0m \u001b[1mRemoved\u001b[0m 'coordination_number_A', \u001b[1mRemaining\u001b[0m = ['index_B', 'normalized_index_A', 'normalized_index_B', 'smallest_index', 'avg_index', 'atomic_weight_weighted_A+B', 'atomic_weight_A/B', 'atomic_weight_A-B', 'period_B', 'group_A', 'group_B', 'group_A-B', 'Mendeleev_number_A', 'Mendeleev_number_B', 'valencee_total_A', 'valencee_total_B', 'valencee_total_A-B', 'valencee_total_A+B', 'valencee_total_weighted_A+B', 'valencee_total_weighted_norm_A+B', 'unpaired_electrons_A', 'unpaired_electrons_A-B', 'unpaired_electrons_A+B', 'unpaired_electrons_weighted_A+B', 'unpaired_electrons_weighted_norm_A+B', 'Gilman_A', 'Gilman_B', 'Gilman_A+B', 'Gilman_weighted_A+B', 'Z_eff_A', 'Z_eff_A-B', 'Z_eff_A/B', 'Z_eff_max', 'Z_eff_min', 'Z_eff_avg', 'Z_eff_weighted_norm_A+B', 'ionization_energy_B', 'ionization_energy_A-B', 'ionization_energy_A/B', 'ionization_energy_avg', 'coordination_number_B', 'coordination_number_A-B', 'ratio_closest_min', 'polyhedron_distortion_A', 'polyhedron_distortion_B', 'polyhedron_distortion_max', 'polyhedron_distortion_min', 'polyhedron_distortion_avg', 'CIF_radius_A', 'CIF_radius_B', 'CIF_radius_A/B', 'CIF_radius_A-B', 'CIF_radius_weighted_norm_A+B', 'Pauling_radius_CN12_A', 'Pauling_radius_CN12_A/B', 'Pauling_radius_CN12_A-B', 'Pauling_radius_CN12_avg', 'Pauling_radius_CN12_weighted_norm_A+B', 'Pauling_EN_A', 'Pauling_EN_B', 'Pauling_EN_A-B', 'Pauling_EN_A/B', 'Pauling_EN_max', 'Pauling_EN_min', 'Pauling_EN_avg', 'Pauling_EN_weighted_norm_A+B', 'Martynov_Batsanov_EN_A', 'Martynov_Batsanov_EN_B', 'Martynov_Batsanov_EN_A-B', 'Martynov_Batsanov_EN_A/B', 'Martynov_Batsanov_EN_max', 'Martynov_Batsanov_EN_min', 'melting_point_K_A', 'melting_point_K_max', 'melting_point_K_avg', 'melting_point_K_weighted_norm_A+B', 'density_A', 'density_B', 'density_A-B', 'density_A/B', 'density_max', 'density_min', 'density_avg', 'density_weighted_norm_A+B', 'specific_heat_A', 'specific_heat_B', 'specific_heat_A-B', 'specific_heat_max', 'specific_heat_avg', 'specific_heat_weighted_norm_A+B', 'cohesive_energy_A', 'cohesive_energy_B', 'cohesive_energy_A/B', 'cohesive_energy_max', 'cohesive_energy_avg', 'bulk_modulus_A', 'bulk_modulus_A-B', 'bulk_modulus_A/B', 'bulk_modulus_max', 'bulk_modulus_min', 'bulk_modulus_avg', 'bulk_modulus_weighted_norm_A+B'], \u001b[1mScore = 0.8750\u001b[0m\n",
      "\n",
      "\n",
      "\u001b[1mIteration 32:\u001b[0m \u001b[1mRemoved\u001b[0m 'smallest_index', \u001b[1mRemaining\u001b[0m = ['index_B', 'normalized_index_A', 'normalized_index_B', 'avg_index', 'atomic_weight_weighted_A+B', 'atomic_weight_A/B', 'atomic_weight_A-B', 'period_B', 'group_A', 'group_B', 'group_A-B', 'Mendeleev_number_A', 'Mendeleev_number_B', 'valencee_total_A', 'valencee_total_B', 'valencee_total_A-B', 'valencee_total_A+B', 'valencee_total_weighted_A+B', 'valencee_total_weighted_norm_A+B', 'unpaired_electrons_A', 'unpaired_electrons_A-B', 'unpaired_electrons_A+B', 'unpaired_electrons_weighted_A+B', 'unpaired_electrons_weighted_norm_A+B', 'Gilman_A', 'Gilman_B', 'Gilman_A+B', 'Gilman_weighted_A+B', 'Z_eff_A', 'Z_eff_A-B', 'Z_eff_A/B', 'Z_eff_max', 'Z_eff_min', 'Z_eff_avg', 'Z_eff_weighted_norm_A+B', 'ionization_energy_B', 'ionization_energy_A-B', 'ionization_energy_A/B', 'ionization_energy_avg', 'coordination_number_B', 'coordination_number_A-B', 'ratio_closest_min', 'polyhedron_distortion_A', 'polyhedron_distortion_B', 'polyhedron_distortion_max', 'polyhedron_distortion_min', 'polyhedron_distortion_avg', 'CIF_radius_A', 'CIF_radius_B', 'CIF_radius_A/B', 'CIF_radius_A-B', 'CIF_radius_weighted_norm_A+B', 'Pauling_radius_CN12_A', 'Pauling_radius_CN12_A/B', 'Pauling_radius_CN12_A-B', 'Pauling_radius_CN12_avg', 'Pauling_radius_CN12_weighted_norm_A+B', 'Pauling_EN_A', 'Pauling_EN_B', 'Pauling_EN_A-B', 'Pauling_EN_A/B', 'Pauling_EN_max', 'Pauling_EN_min', 'Pauling_EN_avg', 'Pauling_EN_weighted_norm_A+B', 'Martynov_Batsanov_EN_A', 'Martynov_Batsanov_EN_B', 'Martynov_Batsanov_EN_A-B', 'Martynov_Batsanov_EN_A/B', 'Martynov_Batsanov_EN_max', 'Martynov_Batsanov_EN_min', 'melting_point_K_A', 'melting_point_K_max', 'melting_point_K_avg', 'melting_point_K_weighted_norm_A+B', 'density_A', 'density_B', 'density_A-B', 'density_A/B', 'density_max', 'density_min', 'density_avg', 'density_weighted_norm_A+B', 'specific_heat_A', 'specific_heat_B', 'specific_heat_A-B', 'specific_heat_max', 'specific_heat_avg', 'specific_heat_weighted_norm_A+B', 'cohesive_energy_A', 'cohesive_energy_B', 'cohesive_energy_A/B', 'cohesive_energy_max', 'cohesive_energy_avg', 'bulk_modulus_A', 'bulk_modulus_A-B', 'bulk_modulus_A/B', 'bulk_modulus_max', 'bulk_modulus_min', 'bulk_modulus_avg', 'bulk_modulus_weighted_norm_A+B'], \u001b[1mScore = 0.8750\u001b[0m\n",
      "\n",
      "\n",
      "\u001b[1mIteration 33:\u001b[0m \u001b[1mRemoved\u001b[0m 'melting_point_K_weighted_norm_A+B', \u001b[1mRemaining\u001b[0m = ['index_B', 'normalized_index_A', 'normalized_index_B', 'avg_index', 'atomic_weight_weighted_A+B', 'atomic_weight_A/B', 'atomic_weight_A-B', 'period_B', 'group_A', 'group_B', 'group_A-B', 'Mendeleev_number_A', 'Mendeleev_number_B', 'valencee_total_A', 'valencee_total_B', 'valencee_total_A-B', 'valencee_total_A+B', 'valencee_total_weighted_A+B', 'valencee_total_weighted_norm_A+B', 'unpaired_electrons_A', 'unpaired_electrons_A-B', 'unpaired_electrons_A+B', 'unpaired_electrons_weighted_A+B', 'unpaired_electrons_weighted_norm_A+B', 'Gilman_A', 'Gilman_B', 'Gilman_A+B', 'Gilman_weighted_A+B', 'Z_eff_A', 'Z_eff_A-B', 'Z_eff_A/B', 'Z_eff_max', 'Z_eff_min', 'Z_eff_avg', 'Z_eff_weighted_norm_A+B', 'ionization_energy_B', 'ionization_energy_A-B', 'ionization_energy_A/B', 'ionization_energy_avg', 'coordination_number_B', 'coordination_number_A-B', 'ratio_closest_min', 'polyhedron_distortion_A', 'polyhedron_distortion_B', 'polyhedron_distortion_max', 'polyhedron_distortion_min', 'polyhedron_distortion_avg', 'CIF_radius_A', 'CIF_radius_B', 'CIF_radius_A/B', 'CIF_radius_A-B', 'CIF_radius_weighted_norm_A+B', 'Pauling_radius_CN12_A', 'Pauling_radius_CN12_A/B', 'Pauling_radius_CN12_A-B', 'Pauling_radius_CN12_avg', 'Pauling_radius_CN12_weighted_norm_A+B', 'Pauling_EN_A', 'Pauling_EN_B', 'Pauling_EN_A-B', 'Pauling_EN_A/B', 'Pauling_EN_max', 'Pauling_EN_min', 'Pauling_EN_avg', 'Pauling_EN_weighted_norm_A+B', 'Martynov_Batsanov_EN_A', 'Martynov_Batsanov_EN_B', 'Martynov_Batsanov_EN_A-B', 'Martynov_Batsanov_EN_A/B', 'Martynov_Batsanov_EN_max', 'Martynov_Batsanov_EN_min', 'melting_point_K_A', 'melting_point_K_max', 'melting_point_K_avg', 'density_A', 'density_B', 'density_A-B', 'density_A/B', 'density_max', 'density_min', 'density_avg', 'density_weighted_norm_A+B', 'specific_heat_A', 'specific_heat_B', 'specific_heat_A-B', 'specific_heat_max', 'specific_heat_avg', 'specific_heat_weighted_norm_A+B', 'cohesive_energy_A', 'cohesive_energy_B', 'cohesive_energy_A/B', 'cohesive_energy_max', 'cohesive_energy_avg', 'bulk_modulus_A', 'bulk_modulus_A-B', 'bulk_modulus_A/B', 'bulk_modulus_max', 'bulk_modulus_min', 'bulk_modulus_avg', 'bulk_modulus_weighted_norm_A+B'], \u001b[1mScore = 0.8750\u001b[0m\n",
      "\n",
      "\n",
      "\u001b[1mIteration 34:\u001b[0m \u001b[1mRemoved\u001b[0m 'bulk_modulus_weighted_norm_A+B', \u001b[1mRemaining\u001b[0m = ['index_B', 'normalized_index_A', 'normalized_index_B', 'avg_index', 'atomic_weight_weighted_A+B', 'atomic_weight_A/B', 'atomic_weight_A-B', 'period_B', 'group_A', 'group_B', 'group_A-B', 'Mendeleev_number_A', 'Mendeleev_number_B', 'valencee_total_A', 'valencee_total_B', 'valencee_total_A-B', 'valencee_total_A+B', 'valencee_total_weighted_A+B', 'valencee_total_weighted_norm_A+B', 'unpaired_electrons_A', 'unpaired_electrons_A-B', 'unpaired_electrons_A+B', 'unpaired_electrons_weighted_A+B', 'unpaired_electrons_weighted_norm_A+B', 'Gilman_A', 'Gilman_B', 'Gilman_A+B', 'Gilman_weighted_A+B', 'Z_eff_A', 'Z_eff_A-B', 'Z_eff_A/B', 'Z_eff_max', 'Z_eff_min', 'Z_eff_avg', 'Z_eff_weighted_norm_A+B', 'ionization_energy_B', 'ionization_energy_A-B', 'ionization_energy_A/B', 'ionization_energy_avg', 'coordination_number_B', 'coordination_number_A-B', 'ratio_closest_min', 'polyhedron_distortion_A', 'polyhedron_distortion_B', 'polyhedron_distortion_max', 'polyhedron_distortion_min', 'polyhedron_distortion_avg', 'CIF_radius_A', 'CIF_radius_B', 'CIF_radius_A/B', 'CIF_radius_A-B', 'CIF_radius_weighted_norm_A+B', 'Pauling_radius_CN12_A', 'Pauling_radius_CN12_A/B', 'Pauling_radius_CN12_A-B', 'Pauling_radius_CN12_avg', 'Pauling_radius_CN12_weighted_norm_A+B', 'Pauling_EN_A', 'Pauling_EN_B', 'Pauling_EN_A-B', 'Pauling_EN_A/B', 'Pauling_EN_max', 'Pauling_EN_min', 'Pauling_EN_avg', 'Pauling_EN_weighted_norm_A+B', 'Martynov_Batsanov_EN_A', 'Martynov_Batsanov_EN_B', 'Martynov_Batsanov_EN_A-B', 'Martynov_Batsanov_EN_A/B', 'Martynov_Batsanov_EN_max', 'Martynov_Batsanov_EN_min', 'melting_point_K_A', 'melting_point_K_max', 'melting_point_K_avg', 'density_A', 'density_B', 'density_A-B', 'density_A/B', 'density_max', 'density_min', 'density_avg', 'density_weighted_norm_A+B', 'specific_heat_A', 'specific_heat_B', 'specific_heat_A-B', 'specific_heat_max', 'specific_heat_avg', 'specific_heat_weighted_norm_A+B', 'cohesive_energy_A', 'cohesive_energy_B', 'cohesive_energy_A/B', 'cohesive_energy_max', 'cohesive_energy_avg', 'bulk_modulus_A', 'bulk_modulus_A-B', 'bulk_modulus_A/B', 'bulk_modulus_max', 'bulk_modulus_min', 'bulk_modulus_avg'], \u001b[1mScore = 0.8750\u001b[0m\n",
      "\n",
      "\n",
      "\u001b[1mIteration 35:\u001b[0m \u001b[1mRemoved\u001b[0m 'valencee_total_A', \u001b[1mRemaining\u001b[0m = ['index_B', 'normalized_index_A', 'normalized_index_B', 'avg_index', 'atomic_weight_weighted_A+B', 'atomic_weight_A/B', 'atomic_weight_A-B', 'period_B', 'group_A', 'group_B', 'group_A-B', 'Mendeleev_number_A', 'Mendeleev_number_B', 'valencee_total_B', 'valencee_total_A-B', 'valencee_total_A+B', 'valencee_total_weighted_A+B', 'valencee_total_weighted_norm_A+B', 'unpaired_electrons_A', 'unpaired_electrons_A-B', 'unpaired_electrons_A+B', 'unpaired_electrons_weighted_A+B', 'unpaired_electrons_weighted_norm_A+B', 'Gilman_A', 'Gilman_B', 'Gilman_A+B', 'Gilman_weighted_A+B', 'Z_eff_A', 'Z_eff_A-B', 'Z_eff_A/B', 'Z_eff_max', 'Z_eff_min', 'Z_eff_avg', 'Z_eff_weighted_norm_A+B', 'ionization_energy_B', 'ionization_energy_A-B', 'ionization_energy_A/B', 'ionization_energy_avg', 'coordination_number_B', 'coordination_number_A-B', 'ratio_closest_min', 'polyhedron_distortion_A', 'polyhedron_distortion_B', 'polyhedron_distortion_max', 'polyhedron_distortion_min', 'polyhedron_distortion_avg', 'CIF_radius_A', 'CIF_radius_B', 'CIF_radius_A/B', 'CIF_radius_A-B', 'CIF_radius_weighted_norm_A+B', 'Pauling_radius_CN12_A', 'Pauling_radius_CN12_A/B', 'Pauling_radius_CN12_A-B', 'Pauling_radius_CN12_avg', 'Pauling_radius_CN12_weighted_norm_A+B', 'Pauling_EN_A', 'Pauling_EN_B', 'Pauling_EN_A-B', 'Pauling_EN_A/B', 'Pauling_EN_max', 'Pauling_EN_min', 'Pauling_EN_avg', 'Pauling_EN_weighted_norm_A+B', 'Martynov_Batsanov_EN_A', 'Martynov_Batsanov_EN_B', 'Martynov_Batsanov_EN_A-B', 'Martynov_Batsanov_EN_A/B', 'Martynov_Batsanov_EN_max', 'Martynov_Batsanov_EN_min', 'melting_point_K_A', 'melting_point_K_max', 'melting_point_K_avg', 'density_A', 'density_B', 'density_A-B', 'density_A/B', 'density_max', 'density_min', 'density_avg', 'density_weighted_norm_A+B', 'specific_heat_A', 'specific_heat_B', 'specific_heat_A-B', 'specific_heat_max', 'specific_heat_avg', 'specific_heat_weighted_norm_A+B', 'cohesive_energy_A', 'cohesive_energy_B', 'cohesive_energy_A/B', 'cohesive_energy_max', 'cohesive_energy_avg', 'bulk_modulus_A', 'bulk_modulus_A-B', 'bulk_modulus_A/B', 'bulk_modulus_max', 'bulk_modulus_min', 'bulk_modulus_avg'], \u001b[1mScore = 0.8750\u001b[0m\n",
      "\n",
      "\n",
      "\u001b[1mIteration 36:\u001b[0m \u001b[1mRemoved\u001b[0m 'period_B', \u001b[1mRemaining\u001b[0m = ['index_B', 'normalized_index_A', 'normalized_index_B', 'avg_index', 'atomic_weight_weighted_A+B', 'atomic_weight_A/B', 'atomic_weight_A-B', 'group_A', 'group_B', 'group_A-B', 'Mendeleev_number_A', 'Mendeleev_number_B', 'valencee_total_B', 'valencee_total_A-B', 'valencee_total_A+B', 'valencee_total_weighted_A+B', 'valencee_total_weighted_norm_A+B', 'unpaired_electrons_A', 'unpaired_electrons_A-B', 'unpaired_electrons_A+B', 'unpaired_electrons_weighted_A+B', 'unpaired_electrons_weighted_norm_A+B', 'Gilman_A', 'Gilman_B', 'Gilman_A+B', 'Gilman_weighted_A+B', 'Z_eff_A', 'Z_eff_A-B', 'Z_eff_A/B', 'Z_eff_max', 'Z_eff_min', 'Z_eff_avg', 'Z_eff_weighted_norm_A+B', 'ionization_energy_B', 'ionization_energy_A-B', 'ionization_energy_A/B', 'ionization_energy_avg', 'coordination_number_B', 'coordination_number_A-B', 'ratio_closest_min', 'polyhedron_distortion_A', 'polyhedron_distortion_B', 'polyhedron_distortion_max', 'polyhedron_distortion_min', 'polyhedron_distortion_avg', 'CIF_radius_A', 'CIF_radius_B', 'CIF_radius_A/B', 'CIF_radius_A-B', 'CIF_radius_weighted_norm_A+B', 'Pauling_radius_CN12_A', 'Pauling_radius_CN12_A/B', 'Pauling_radius_CN12_A-B', 'Pauling_radius_CN12_avg', 'Pauling_radius_CN12_weighted_norm_A+B', 'Pauling_EN_A', 'Pauling_EN_B', 'Pauling_EN_A-B', 'Pauling_EN_A/B', 'Pauling_EN_max', 'Pauling_EN_min', 'Pauling_EN_avg', 'Pauling_EN_weighted_norm_A+B', 'Martynov_Batsanov_EN_A', 'Martynov_Batsanov_EN_B', 'Martynov_Batsanov_EN_A-B', 'Martynov_Batsanov_EN_A/B', 'Martynov_Batsanov_EN_max', 'Martynov_Batsanov_EN_min', 'melting_point_K_A', 'melting_point_K_max', 'melting_point_K_avg', 'density_A', 'density_B', 'density_A-B', 'density_A/B', 'density_max', 'density_min', 'density_avg', 'density_weighted_norm_A+B', 'specific_heat_A', 'specific_heat_B', 'specific_heat_A-B', 'specific_heat_max', 'specific_heat_avg', 'specific_heat_weighted_norm_A+B', 'cohesive_energy_A', 'cohesive_energy_B', 'cohesive_energy_A/B', 'cohesive_energy_max', 'cohesive_energy_avg', 'bulk_modulus_A', 'bulk_modulus_A-B', 'bulk_modulus_A/B', 'bulk_modulus_max', 'bulk_modulus_min', 'bulk_modulus_avg'], \u001b[1mScore = 0.8750\u001b[0m\n",
      "\n",
      "\n",
      "\u001b[1mIteration 37:\u001b[0m \u001b[1mRemoved\u001b[0m 'normalized_index_A', \u001b[1mRemaining\u001b[0m = ['index_B', 'normalized_index_B', 'avg_index', 'atomic_weight_weighted_A+B', 'atomic_weight_A/B', 'atomic_weight_A-B', 'group_A', 'group_B', 'group_A-B', 'Mendeleev_number_A', 'Mendeleev_number_B', 'valencee_total_B', 'valencee_total_A-B', 'valencee_total_A+B', 'valencee_total_weighted_A+B', 'valencee_total_weighted_norm_A+B', 'unpaired_electrons_A', 'unpaired_electrons_A-B', 'unpaired_electrons_A+B', 'unpaired_electrons_weighted_A+B', 'unpaired_electrons_weighted_norm_A+B', 'Gilman_A', 'Gilman_B', 'Gilman_A+B', 'Gilman_weighted_A+B', 'Z_eff_A', 'Z_eff_A-B', 'Z_eff_A/B', 'Z_eff_max', 'Z_eff_min', 'Z_eff_avg', 'Z_eff_weighted_norm_A+B', 'ionization_energy_B', 'ionization_energy_A-B', 'ionization_energy_A/B', 'ionization_energy_avg', 'coordination_number_B', 'coordination_number_A-B', 'ratio_closest_min', 'polyhedron_distortion_A', 'polyhedron_distortion_B', 'polyhedron_distortion_max', 'polyhedron_distortion_min', 'polyhedron_distortion_avg', 'CIF_radius_A', 'CIF_radius_B', 'CIF_radius_A/B', 'CIF_radius_A-B', 'CIF_radius_weighted_norm_A+B', 'Pauling_radius_CN12_A', 'Pauling_radius_CN12_A/B', 'Pauling_radius_CN12_A-B', 'Pauling_radius_CN12_avg', 'Pauling_radius_CN12_weighted_norm_A+B', 'Pauling_EN_A', 'Pauling_EN_B', 'Pauling_EN_A-B', 'Pauling_EN_A/B', 'Pauling_EN_max', 'Pauling_EN_min', 'Pauling_EN_avg', 'Pauling_EN_weighted_norm_A+B', 'Martynov_Batsanov_EN_A', 'Martynov_Batsanov_EN_B', 'Martynov_Batsanov_EN_A-B', 'Martynov_Batsanov_EN_A/B', 'Martynov_Batsanov_EN_max', 'Martynov_Batsanov_EN_min', 'melting_point_K_A', 'melting_point_K_max', 'melting_point_K_avg', 'density_A', 'density_B', 'density_A-B', 'density_A/B', 'density_max', 'density_min', 'density_avg', 'density_weighted_norm_A+B', 'specific_heat_A', 'specific_heat_B', 'specific_heat_A-B', 'specific_heat_max', 'specific_heat_avg', 'specific_heat_weighted_norm_A+B', 'cohesive_energy_A', 'cohesive_energy_B', 'cohesive_energy_A/B', 'cohesive_energy_max', 'cohesive_energy_avg', 'bulk_modulus_A', 'bulk_modulus_A-B', 'bulk_modulus_A/B', 'bulk_modulus_max', 'bulk_modulus_min', 'bulk_modulus_avg'], \u001b[1mScore = 0.8750\u001b[0m\n",
      "\n",
      "\n",
      "\u001b[1mIteration 38:\u001b[0m \u001b[1mRemoved\u001b[0m 'bulk_modulus_max', \u001b[1mRemaining\u001b[0m = ['index_B', 'normalized_index_B', 'avg_index', 'atomic_weight_weighted_A+B', 'atomic_weight_A/B', 'atomic_weight_A-B', 'group_A', 'group_B', 'group_A-B', 'Mendeleev_number_A', 'Mendeleev_number_B', 'valencee_total_B', 'valencee_total_A-B', 'valencee_total_A+B', 'valencee_total_weighted_A+B', 'valencee_total_weighted_norm_A+B', 'unpaired_electrons_A', 'unpaired_electrons_A-B', 'unpaired_electrons_A+B', 'unpaired_electrons_weighted_A+B', 'unpaired_electrons_weighted_norm_A+B', 'Gilman_A', 'Gilman_B', 'Gilman_A+B', 'Gilman_weighted_A+B', 'Z_eff_A', 'Z_eff_A-B', 'Z_eff_A/B', 'Z_eff_max', 'Z_eff_min', 'Z_eff_avg', 'Z_eff_weighted_norm_A+B', 'ionization_energy_B', 'ionization_energy_A-B', 'ionization_energy_A/B', 'ionization_energy_avg', 'coordination_number_B', 'coordination_number_A-B', 'ratio_closest_min', 'polyhedron_distortion_A', 'polyhedron_distortion_B', 'polyhedron_distortion_max', 'polyhedron_distortion_min', 'polyhedron_distortion_avg', 'CIF_radius_A', 'CIF_radius_B', 'CIF_radius_A/B', 'CIF_radius_A-B', 'CIF_radius_weighted_norm_A+B', 'Pauling_radius_CN12_A', 'Pauling_radius_CN12_A/B', 'Pauling_radius_CN12_A-B', 'Pauling_radius_CN12_avg', 'Pauling_radius_CN12_weighted_norm_A+B', 'Pauling_EN_A', 'Pauling_EN_B', 'Pauling_EN_A-B', 'Pauling_EN_A/B', 'Pauling_EN_max', 'Pauling_EN_min', 'Pauling_EN_avg', 'Pauling_EN_weighted_norm_A+B', 'Martynov_Batsanov_EN_A', 'Martynov_Batsanov_EN_B', 'Martynov_Batsanov_EN_A-B', 'Martynov_Batsanov_EN_A/B', 'Martynov_Batsanov_EN_max', 'Martynov_Batsanov_EN_min', 'melting_point_K_A', 'melting_point_K_max', 'melting_point_K_avg', 'density_A', 'density_B', 'density_A-B', 'density_A/B', 'density_max', 'density_min', 'density_avg', 'density_weighted_norm_A+B', 'specific_heat_A', 'specific_heat_B', 'specific_heat_A-B', 'specific_heat_max', 'specific_heat_avg', 'specific_heat_weighted_norm_A+B', 'cohesive_energy_A', 'cohesive_energy_B', 'cohesive_energy_A/B', 'cohesive_energy_max', 'cohesive_energy_avg', 'bulk_modulus_A', 'bulk_modulus_A-B', 'bulk_modulus_A/B', 'bulk_modulus_min', 'bulk_modulus_avg'], \u001b[1mScore = 0.8750\u001b[0m\n",
      "\n",
      "\n",
      "\u001b[1mIteration 39:\u001b[0m \u001b[1mRemoved\u001b[0m 'Gilman_B', \u001b[1mRemaining\u001b[0m = ['index_B', 'normalized_index_B', 'avg_index', 'atomic_weight_weighted_A+B', 'atomic_weight_A/B', 'atomic_weight_A-B', 'group_A', 'group_B', 'group_A-B', 'Mendeleev_number_A', 'Mendeleev_number_B', 'valencee_total_B', 'valencee_total_A-B', 'valencee_total_A+B', 'valencee_total_weighted_A+B', 'valencee_total_weighted_norm_A+B', 'unpaired_electrons_A', 'unpaired_electrons_A-B', 'unpaired_electrons_A+B', 'unpaired_electrons_weighted_A+B', 'unpaired_electrons_weighted_norm_A+B', 'Gilman_A', 'Gilman_A+B', 'Gilman_weighted_A+B', 'Z_eff_A', 'Z_eff_A-B', 'Z_eff_A/B', 'Z_eff_max', 'Z_eff_min', 'Z_eff_avg', 'Z_eff_weighted_norm_A+B', 'ionization_energy_B', 'ionization_energy_A-B', 'ionization_energy_A/B', 'ionization_energy_avg', 'coordination_number_B', 'coordination_number_A-B', 'ratio_closest_min', 'polyhedron_distortion_A', 'polyhedron_distortion_B', 'polyhedron_distortion_max', 'polyhedron_distortion_min', 'polyhedron_distortion_avg', 'CIF_radius_A', 'CIF_radius_B', 'CIF_radius_A/B', 'CIF_radius_A-B', 'CIF_radius_weighted_norm_A+B', 'Pauling_radius_CN12_A', 'Pauling_radius_CN12_A/B', 'Pauling_radius_CN12_A-B', 'Pauling_radius_CN12_avg', 'Pauling_radius_CN12_weighted_norm_A+B', 'Pauling_EN_A', 'Pauling_EN_B', 'Pauling_EN_A-B', 'Pauling_EN_A/B', 'Pauling_EN_max', 'Pauling_EN_min', 'Pauling_EN_avg', 'Pauling_EN_weighted_norm_A+B', 'Martynov_Batsanov_EN_A', 'Martynov_Batsanov_EN_B', 'Martynov_Batsanov_EN_A-B', 'Martynov_Batsanov_EN_A/B', 'Martynov_Batsanov_EN_max', 'Martynov_Batsanov_EN_min', 'melting_point_K_A', 'melting_point_K_max', 'melting_point_K_avg', 'density_A', 'density_B', 'density_A-B', 'density_A/B', 'density_max', 'density_min', 'density_avg', 'density_weighted_norm_A+B', 'specific_heat_A', 'specific_heat_B', 'specific_heat_A-B', 'specific_heat_max', 'specific_heat_avg', 'specific_heat_weighted_norm_A+B', 'cohesive_energy_A', 'cohesive_energy_B', 'cohesive_energy_A/B', 'cohesive_energy_max', 'cohesive_energy_avg', 'bulk_modulus_A', 'bulk_modulus_A-B', 'bulk_modulus_A/B', 'bulk_modulus_min', 'bulk_modulus_avg'], \u001b[1mScore = 0.8750\u001b[0m\n",
      "\n",
      "\n",
      "\u001b[1mIteration 40:\u001b[0m \u001b[1mRemoved\u001b[0m 'Pauling_radius_CN12_A-B', \u001b[1mRemaining\u001b[0m = ['index_B', 'normalized_index_B', 'avg_index', 'atomic_weight_weighted_A+B', 'atomic_weight_A/B', 'atomic_weight_A-B', 'group_A', 'group_B', 'group_A-B', 'Mendeleev_number_A', 'Mendeleev_number_B', 'valencee_total_B', 'valencee_total_A-B', 'valencee_total_A+B', 'valencee_total_weighted_A+B', 'valencee_total_weighted_norm_A+B', 'unpaired_electrons_A', 'unpaired_electrons_A-B', 'unpaired_electrons_A+B', 'unpaired_electrons_weighted_A+B', 'unpaired_electrons_weighted_norm_A+B', 'Gilman_A', 'Gilman_A+B', 'Gilman_weighted_A+B', 'Z_eff_A', 'Z_eff_A-B', 'Z_eff_A/B', 'Z_eff_max', 'Z_eff_min', 'Z_eff_avg', 'Z_eff_weighted_norm_A+B', 'ionization_energy_B', 'ionization_energy_A-B', 'ionization_energy_A/B', 'ionization_energy_avg', 'coordination_number_B', 'coordination_number_A-B', 'ratio_closest_min', 'polyhedron_distortion_A', 'polyhedron_distortion_B', 'polyhedron_distortion_max', 'polyhedron_distortion_min', 'polyhedron_distortion_avg', 'CIF_radius_A', 'CIF_radius_B', 'CIF_radius_A/B', 'CIF_radius_A-B', 'CIF_radius_weighted_norm_A+B', 'Pauling_radius_CN12_A', 'Pauling_radius_CN12_A/B', 'Pauling_radius_CN12_avg', 'Pauling_radius_CN12_weighted_norm_A+B', 'Pauling_EN_A', 'Pauling_EN_B', 'Pauling_EN_A-B', 'Pauling_EN_A/B', 'Pauling_EN_max', 'Pauling_EN_min', 'Pauling_EN_avg', 'Pauling_EN_weighted_norm_A+B', 'Martynov_Batsanov_EN_A', 'Martynov_Batsanov_EN_B', 'Martynov_Batsanov_EN_A-B', 'Martynov_Batsanov_EN_A/B', 'Martynov_Batsanov_EN_max', 'Martynov_Batsanov_EN_min', 'melting_point_K_A', 'melting_point_K_max', 'melting_point_K_avg', 'density_A', 'density_B', 'density_A-B', 'density_A/B', 'density_max', 'density_min', 'density_avg', 'density_weighted_norm_A+B', 'specific_heat_A', 'specific_heat_B', 'specific_heat_A-B', 'specific_heat_max', 'specific_heat_avg', 'specific_heat_weighted_norm_A+B', 'cohesive_energy_A', 'cohesive_energy_B', 'cohesive_energy_A/B', 'cohesive_energy_max', 'cohesive_energy_avg', 'bulk_modulus_A', 'bulk_modulus_A-B', 'bulk_modulus_A/B', 'bulk_modulus_min', 'bulk_modulus_avg'], \u001b[1mScore = 0.8750\u001b[0m\n",
      "\n",
      "\n",
      "\u001b[1mIteration 41:\u001b[0m \u001b[1mRemoved\u001b[0m 'atomic_weight_weighted_A+B', \u001b[1mRemaining\u001b[0m = ['index_B', 'normalized_index_B', 'avg_index', 'atomic_weight_A/B', 'atomic_weight_A-B', 'group_A', 'group_B', 'group_A-B', 'Mendeleev_number_A', 'Mendeleev_number_B', 'valencee_total_B', 'valencee_total_A-B', 'valencee_total_A+B', 'valencee_total_weighted_A+B', 'valencee_total_weighted_norm_A+B', 'unpaired_electrons_A', 'unpaired_electrons_A-B', 'unpaired_electrons_A+B', 'unpaired_electrons_weighted_A+B', 'unpaired_electrons_weighted_norm_A+B', 'Gilman_A', 'Gilman_A+B', 'Gilman_weighted_A+B', 'Z_eff_A', 'Z_eff_A-B', 'Z_eff_A/B', 'Z_eff_max', 'Z_eff_min', 'Z_eff_avg', 'Z_eff_weighted_norm_A+B', 'ionization_energy_B', 'ionization_energy_A-B', 'ionization_energy_A/B', 'ionization_energy_avg', 'coordination_number_B', 'coordination_number_A-B', 'ratio_closest_min', 'polyhedron_distortion_A', 'polyhedron_distortion_B', 'polyhedron_distortion_max', 'polyhedron_distortion_min', 'polyhedron_distortion_avg', 'CIF_radius_A', 'CIF_radius_B', 'CIF_radius_A/B', 'CIF_radius_A-B', 'CIF_radius_weighted_norm_A+B', 'Pauling_radius_CN12_A', 'Pauling_radius_CN12_A/B', 'Pauling_radius_CN12_avg', 'Pauling_radius_CN12_weighted_norm_A+B', 'Pauling_EN_A', 'Pauling_EN_B', 'Pauling_EN_A-B', 'Pauling_EN_A/B', 'Pauling_EN_max', 'Pauling_EN_min', 'Pauling_EN_avg', 'Pauling_EN_weighted_norm_A+B', 'Martynov_Batsanov_EN_A', 'Martynov_Batsanov_EN_B', 'Martynov_Batsanov_EN_A-B', 'Martynov_Batsanov_EN_A/B', 'Martynov_Batsanov_EN_max', 'Martynov_Batsanov_EN_min', 'melting_point_K_A', 'melting_point_K_max', 'melting_point_K_avg', 'density_A', 'density_B', 'density_A-B', 'density_A/B', 'density_max', 'density_min', 'density_avg', 'density_weighted_norm_A+B', 'specific_heat_A', 'specific_heat_B', 'specific_heat_A-B', 'specific_heat_max', 'specific_heat_avg', 'specific_heat_weighted_norm_A+B', 'cohesive_energy_A', 'cohesive_energy_B', 'cohesive_energy_A/B', 'cohesive_energy_max', 'cohesive_energy_avg', 'bulk_modulus_A', 'bulk_modulus_A-B', 'bulk_modulus_A/B', 'bulk_modulus_min', 'bulk_modulus_avg'], \u001b[1mScore = 0.8750\u001b[0m\n",
      "\n",
      "\n",
      "\u001b[1mIteration 42:\u001b[0m \u001b[1mRemoved\u001b[0m 'valencee_total_A+B', \u001b[1mRemaining\u001b[0m = ['index_B', 'normalized_index_B', 'avg_index', 'atomic_weight_A/B', 'atomic_weight_A-B', 'group_A', 'group_B', 'group_A-B', 'Mendeleev_number_A', 'Mendeleev_number_B', 'valencee_total_B', 'valencee_total_A-B', 'valencee_total_weighted_A+B', 'valencee_total_weighted_norm_A+B', 'unpaired_electrons_A', 'unpaired_electrons_A-B', 'unpaired_electrons_A+B', 'unpaired_electrons_weighted_A+B', 'unpaired_electrons_weighted_norm_A+B', 'Gilman_A', 'Gilman_A+B', 'Gilman_weighted_A+B', 'Z_eff_A', 'Z_eff_A-B', 'Z_eff_A/B', 'Z_eff_max', 'Z_eff_min', 'Z_eff_avg', 'Z_eff_weighted_norm_A+B', 'ionization_energy_B', 'ionization_energy_A-B', 'ionization_energy_A/B', 'ionization_energy_avg', 'coordination_number_B', 'coordination_number_A-B', 'ratio_closest_min', 'polyhedron_distortion_A', 'polyhedron_distortion_B', 'polyhedron_distortion_max', 'polyhedron_distortion_min', 'polyhedron_distortion_avg', 'CIF_radius_A', 'CIF_radius_B', 'CIF_radius_A/B', 'CIF_radius_A-B', 'CIF_radius_weighted_norm_A+B', 'Pauling_radius_CN12_A', 'Pauling_radius_CN12_A/B', 'Pauling_radius_CN12_avg', 'Pauling_radius_CN12_weighted_norm_A+B', 'Pauling_EN_A', 'Pauling_EN_B', 'Pauling_EN_A-B', 'Pauling_EN_A/B', 'Pauling_EN_max', 'Pauling_EN_min', 'Pauling_EN_avg', 'Pauling_EN_weighted_norm_A+B', 'Martynov_Batsanov_EN_A', 'Martynov_Batsanov_EN_B', 'Martynov_Batsanov_EN_A-B', 'Martynov_Batsanov_EN_A/B', 'Martynov_Batsanov_EN_max', 'Martynov_Batsanov_EN_min', 'melting_point_K_A', 'melting_point_K_max', 'melting_point_K_avg', 'density_A', 'density_B', 'density_A-B', 'density_A/B', 'density_max', 'density_min', 'density_avg', 'density_weighted_norm_A+B', 'specific_heat_A', 'specific_heat_B', 'specific_heat_A-B', 'specific_heat_max', 'specific_heat_avg', 'specific_heat_weighted_norm_A+B', 'cohesive_energy_A', 'cohesive_energy_B', 'cohesive_energy_A/B', 'cohesive_energy_max', 'cohesive_energy_avg', 'bulk_modulus_A', 'bulk_modulus_A-B', 'bulk_modulus_A/B', 'bulk_modulus_min', 'bulk_modulus_avg'], \u001b[1mScore = 0.8750\u001b[0m\n",
      "\n",
      "\n",
      "\u001b[1mIteration 43:\u001b[0m \u001b[1mRemoved\u001b[0m 'cohesive_energy_max', \u001b[1mRemaining\u001b[0m = ['index_B', 'normalized_index_B', 'avg_index', 'atomic_weight_A/B', 'atomic_weight_A-B', 'group_A', 'group_B', 'group_A-B', 'Mendeleev_number_A', 'Mendeleev_number_B', 'valencee_total_B', 'valencee_total_A-B', 'valencee_total_weighted_A+B', 'valencee_total_weighted_norm_A+B', 'unpaired_electrons_A', 'unpaired_electrons_A-B', 'unpaired_electrons_A+B', 'unpaired_electrons_weighted_A+B', 'unpaired_electrons_weighted_norm_A+B', 'Gilman_A', 'Gilman_A+B', 'Gilman_weighted_A+B', 'Z_eff_A', 'Z_eff_A-B', 'Z_eff_A/B', 'Z_eff_max', 'Z_eff_min', 'Z_eff_avg', 'Z_eff_weighted_norm_A+B', 'ionization_energy_B', 'ionization_energy_A-B', 'ionization_energy_A/B', 'ionization_energy_avg', 'coordination_number_B', 'coordination_number_A-B', 'ratio_closest_min', 'polyhedron_distortion_A', 'polyhedron_distortion_B', 'polyhedron_distortion_max', 'polyhedron_distortion_min', 'polyhedron_distortion_avg', 'CIF_radius_A', 'CIF_radius_B', 'CIF_radius_A/B', 'CIF_radius_A-B', 'CIF_radius_weighted_norm_A+B', 'Pauling_radius_CN12_A', 'Pauling_radius_CN12_A/B', 'Pauling_radius_CN12_avg', 'Pauling_radius_CN12_weighted_norm_A+B', 'Pauling_EN_A', 'Pauling_EN_B', 'Pauling_EN_A-B', 'Pauling_EN_A/B', 'Pauling_EN_max', 'Pauling_EN_min', 'Pauling_EN_avg', 'Pauling_EN_weighted_norm_A+B', 'Martynov_Batsanov_EN_A', 'Martynov_Batsanov_EN_B', 'Martynov_Batsanov_EN_A-B', 'Martynov_Batsanov_EN_A/B', 'Martynov_Batsanov_EN_max', 'Martynov_Batsanov_EN_min', 'melting_point_K_A', 'melting_point_K_max', 'melting_point_K_avg', 'density_A', 'density_B', 'density_A-B', 'density_A/B', 'density_max', 'density_min', 'density_avg', 'density_weighted_norm_A+B', 'specific_heat_A', 'specific_heat_B', 'specific_heat_A-B', 'specific_heat_max', 'specific_heat_avg', 'specific_heat_weighted_norm_A+B', 'cohesive_energy_A', 'cohesive_energy_B', 'cohesive_energy_A/B', 'cohesive_energy_avg', 'bulk_modulus_A', 'bulk_modulus_A-B', 'bulk_modulus_A/B', 'bulk_modulus_min', 'bulk_modulus_avg'], \u001b[1mScore = 0.8750\u001b[0m\n",
      "\n",
      "\n",
      "\u001b[1mIteration 44:\u001b[0m \u001b[1mRemoved\u001b[0m 'bulk_modulus_min', \u001b[1mRemaining\u001b[0m = ['index_B', 'normalized_index_B', 'avg_index', 'atomic_weight_A/B', 'atomic_weight_A-B', 'group_A', 'group_B', 'group_A-B', 'Mendeleev_number_A', 'Mendeleev_number_B', 'valencee_total_B', 'valencee_total_A-B', 'valencee_total_weighted_A+B', 'valencee_total_weighted_norm_A+B', 'unpaired_electrons_A', 'unpaired_electrons_A-B', 'unpaired_electrons_A+B', 'unpaired_electrons_weighted_A+B', 'unpaired_electrons_weighted_norm_A+B', 'Gilman_A', 'Gilman_A+B', 'Gilman_weighted_A+B', 'Z_eff_A', 'Z_eff_A-B', 'Z_eff_A/B', 'Z_eff_max', 'Z_eff_min', 'Z_eff_avg', 'Z_eff_weighted_norm_A+B', 'ionization_energy_B', 'ionization_energy_A-B', 'ionization_energy_A/B', 'ionization_energy_avg', 'coordination_number_B', 'coordination_number_A-B', 'ratio_closest_min', 'polyhedron_distortion_A', 'polyhedron_distortion_B', 'polyhedron_distortion_max', 'polyhedron_distortion_min', 'polyhedron_distortion_avg', 'CIF_radius_A', 'CIF_radius_B', 'CIF_radius_A/B', 'CIF_radius_A-B', 'CIF_radius_weighted_norm_A+B', 'Pauling_radius_CN12_A', 'Pauling_radius_CN12_A/B', 'Pauling_radius_CN12_avg', 'Pauling_radius_CN12_weighted_norm_A+B', 'Pauling_EN_A', 'Pauling_EN_B', 'Pauling_EN_A-B', 'Pauling_EN_A/B', 'Pauling_EN_max', 'Pauling_EN_min', 'Pauling_EN_avg', 'Pauling_EN_weighted_norm_A+B', 'Martynov_Batsanov_EN_A', 'Martynov_Batsanov_EN_B', 'Martynov_Batsanov_EN_A-B', 'Martynov_Batsanov_EN_A/B', 'Martynov_Batsanov_EN_max', 'Martynov_Batsanov_EN_min', 'melting_point_K_A', 'melting_point_K_max', 'melting_point_K_avg', 'density_A', 'density_B', 'density_A-B', 'density_A/B', 'density_max', 'density_min', 'density_avg', 'density_weighted_norm_A+B', 'specific_heat_A', 'specific_heat_B', 'specific_heat_A-B', 'specific_heat_max', 'specific_heat_avg', 'specific_heat_weighted_norm_A+B', 'cohesive_energy_A', 'cohesive_energy_B', 'cohesive_energy_A/B', 'cohesive_energy_avg', 'bulk_modulus_A', 'bulk_modulus_A-B', 'bulk_modulus_A/B', 'bulk_modulus_avg'], \u001b[1mScore = 0.8750\u001b[0m\n",
      "\n",
      "\n",
      "\u001b[1mIteration 45:\u001b[0m \u001b[1mRemoved\u001b[0m 'Pauling_radius_CN12_weighted_norm_A+B', \u001b[1mRemaining\u001b[0m = ['index_B', 'normalized_index_B', 'avg_index', 'atomic_weight_A/B', 'atomic_weight_A-B', 'group_A', 'group_B', 'group_A-B', 'Mendeleev_number_A', 'Mendeleev_number_B', 'valencee_total_B', 'valencee_total_A-B', 'valencee_total_weighted_A+B', 'valencee_total_weighted_norm_A+B', 'unpaired_electrons_A', 'unpaired_electrons_A-B', 'unpaired_electrons_A+B', 'unpaired_electrons_weighted_A+B', 'unpaired_electrons_weighted_norm_A+B', 'Gilman_A', 'Gilman_A+B', 'Gilman_weighted_A+B', 'Z_eff_A', 'Z_eff_A-B', 'Z_eff_A/B', 'Z_eff_max', 'Z_eff_min', 'Z_eff_avg', 'Z_eff_weighted_norm_A+B', 'ionization_energy_B', 'ionization_energy_A-B', 'ionization_energy_A/B', 'ionization_energy_avg', 'coordination_number_B', 'coordination_number_A-B', 'ratio_closest_min', 'polyhedron_distortion_A', 'polyhedron_distortion_B', 'polyhedron_distortion_max', 'polyhedron_distortion_min', 'polyhedron_distortion_avg', 'CIF_radius_A', 'CIF_radius_B', 'CIF_radius_A/B', 'CIF_radius_A-B', 'CIF_radius_weighted_norm_A+B', 'Pauling_radius_CN12_A', 'Pauling_radius_CN12_A/B', 'Pauling_radius_CN12_avg', 'Pauling_EN_A', 'Pauling_EN_B', 'Pauling_EN_A-B', 'Pauling_EN_A/B', 'Pauling_EN_max', 'Pauling_EN_min', 'Pauling_EN_avg', 'Pauling_EN_weighted_norm_A+B', 'Martynov_Batsanov_EN_A', 'Martynov_Batsanov_EN_B', 'Martynov_Batsanov_EN_A-B', 'Martynov_Batsanov_EN_A/B', 'Martynov_Batsanov_EN_max', 'Martynov_Batsanov_EN_min', 'melting_point_K_A', 'melting_point_K_max', 'melting_point_K_avg', 'density_A', 'density_B', 'density_A-B', 'density_A/B', 'density_max', 'density_min', 'density_avg', 'density_weighted_norm_A+B', 'specific_heat_A', 'specific_heat_B', 'specific_heat_A-B', 'specific_heat_max', 'specific_heat_avg', 'specific_heat_weighted_norm_A+B', 'cohesive_energy_A', 'cohesive_energy_B', 'cohesive_energy_A/B', 'cohesive_energy_avg', 'bulk_modulus_A', 'bulk_modulus_A-B', 'bulk_modulus_A/B', 'bulk_modulus_avg'], \u001b[1mScore = 0.8750\u001b[0m\n",
      "\n",
      "\n",
      "\u001b[1mIteration 46:\u001b[0m \u001b[1mRemoved\u001b[0m 'Gilman_A+B', \u001b[1mRemaining\u001b[0m = ['index_B', 'normalized_index_B', 'avg_index', 'atomic_weight_A/B', 'atomic_weight_A-B', 'group_A', 'group_B', 'group_A-B', 'Mendeleev_number_A', 'Mendeleev_number_B', 'valencee_total_B', 'valencee_total_A-B', 'valencee_total_weighted_A+B', 'valencee_total_weighted_norm_A+B', 'unpaired_electrons_A', 'unpaired_electrons_A-B', 'unpaired_electrons_A+B', 'unpaired_electrons_weighted_A+B', 'unpaired_electrons_weighted_norm_A+B', 'Gilman_A', 'Gilman_weighted_A+B', 'Z_eff_A', 'Z_eff_A-B', 'Z_eff_A/B', 'Z_eff_max', 'Z_eff_min', 'Z_eff_avg', 'Z_eff_weighted_norm_A+B', 'ionization_energy_B', 'ionization_energy_A-B', 'ionization_energy_A/B', 'ionization_energy_avg', 'coordination_number_B', 'coordination_number_A-B', 'ratio_closest_min', 'polyhedron_distortion_A', 'polyhedron_distortion_B', 'polyhedron_distortion_max', 'polyhedron_distortion_min', 'polyhedron_distortion_avg', 'CIF_radius_A', 'CIF_radius_B', 'CIF_radius_A/B', 'CIF_radius_A-B', 'CIF_radius_weighted_norm_A+B', 'Pauling_radius_CN12_A', 'Pauling_radius_CN12_A/B', 'Pauling_radius_CN12_avg', 'Pauling_EN_A', 'Pauling_EN_B', 'Pauling_EN_A-B', 'Pauling_EN_A/B', 'Pauling_EN_max', 'Pauling_EN_min', 'Pauling_EN_avg', 'Pauling_EN_weighted_norm_A+B', 'Martynov_Batsanov_EN_A', 'Martynov_Batsanov_EN_B', 'Martynov_Batsanov_EN_A-B', 'Martynov_Batsanov_EN_A/B', 'Martynov_Batsanov_EN_max', 'Martynov_Batsanov_EN_min', 'melting_point_K_A', 'melting_point_K_max', 'melting_point_K_avg', 'density_A', 'density_B', 'density_A-B', 'density_A/B', 'density_max', 'density_min', 'density_avg', 'density_weighted_norm_A+B', 'specific_heat_A', 'specific_heat_B', 'specific_heat_A-B', 'specific_heat_max', 'specific_heat_avg', 'specific_heat_weighted_norm_A+B', 'cohesive_energy_A', 'cohesive_energy_B', 'cohesive_energy_A/B', 'cohesive_energy_avg', 'bulk_modulus_A', 'bulk_modulus_A-B', 'bulk_modulus_A/B', 'bulk_modulus_avg'], \u001b[1mScore = 0.8750\u001b[0m\n",
      "\n",
      "\n",
      "\u001b[1mIteration 47:\u001b[0m \u001b[1mRemoved\u001b[0m 'specific_heat_A', \u001b[1mRemaining\u001b[0m = ['index_B', 'normalized_index_B', 'avg_index', 'atomic_weight_A/B', 'atomic_weight_A-B', 'group_A', 'group_B', 'group_A-B', 'Mendeleev_number_A', 'Mendeleev_number_B', 'valencee_total_B', 'valencee_total_A-B', 'valencee_total_weighted_A+B', 'valencee_total_weighted_norm_A+B', 'unpaired_electrons_A', 'unpaired_electrons_A-B', 'unpaired_electrons_A+B', 'unpaired_electrons_weighted_A+B', 'unpaired_electrons_weighted_norm_A+B', 'Gilman_A', 'Gilman_weighted_A+B', 'Z_eff_A', 'Z_eff_A-B', 'Z_eff_A/B', 'Z_eff_max', 'Z_eff_min', 'Z_eff_avg', 'Z_eff_weighted_norm_A+B', 'ionization_energy_B', 'ionization_energy_A-B', 'ionization_energy_A/B', 'ionization_energy_avg', 'coordination_number_B', 'coordination_number_A-B', 'ratio_closest_min', 'polyhedron_distortion_A', 'polyhedron_distortion_B', 'polyhedron_distortion_max', 'polyhedron_distortion_min', 'polyhedron_distortion_avg', 'CIF_radius_A', 'CIF_radius_B', 'CIF_radius_A/B', 'CIF_radius_A-B', 'CIF_radius_weighted_norm_A+B', 'Pauling_radius_CN12_A', 'Pauling_radius_CN12_A/B', 'Pauling_radius_CN12_avg', 'Pauling_EN_A', 'Pauling_EN_B', 'Pauling_EN_A-B', 'Pauling_EN_A/B', 'Pauling_EN_max', 'Pauling_EN_min', 'Pauling_EN_avg', 'Pauling_EN_weighted_norm_A+B', 'Martynov_Batsanov_EN_A', 'Martynov_Batsanov_EN_B', 'Martynov_Batsanov_EN_A-B', 'Martynov_Batsanov_EN_A/B', 'Martynov_Batsanov_EN_max', 'Martynov_Batsanov_EN_min', 'melting_point_K_A', 'melting_point_K_max', 'melting_point_K_avg', 'density_A', 'density_B', 'density_A-B', 'density_A/B', 'density_max', 'density_min', 'density_avg', 'density_weighted_norm_A+B', 'specific_heat_B', 'specific_heat_A-B', 'specific_heat_max', 'specific_heat_avg', 'specific_heat_weighted_norm_A+B', 'cohesive_energy_A', 'cohesive_energy_B', 'cohesive_energy_A/B', 'cohesive_energy_avg', 'bulk_modulus_A', 'bulk_modulus_A-B', 'bulk_modulus_A/B', 'bulk_modulus_avg'], \u001b[1mScore = 0.8750\u001b[0m\n",
      "\n",
      "\n",
      "\u001b[1mIteration 48:\u001b[0m \u001b[1mRemoved\u001b[0m 'Z_eff_avg', \u001b[1mRemaining\u001b[0m = ['index_B', 'normalized_index_B', 'avg_index', 'atomic_weight_A/B', 'atomic_weight_A-B', 'group_A', 'group_B', 'group_A-B', 'Mendeleev_number_A', 'Mendeleev_number_B', 'valencee_total_B', 'valencee_total_A-B', 'valencee_total_weighted_A+B', 'valencee_total_weighted_norm_A+B', 'unpaired_electrons_A', 'unpaired_electrons_A-B', 'unpaired_electrons_A+B', 'unpaired_electrons_weighted_A+B', 'unpaired_electrons_weighted_norm_A+B', 'Gilman_A', 'Gilman_weighted_A+B', 'Z_eff_A', 'Z_eff_A-B', 'Z_eff_A/B', 'Z_eff_max', 'Z_eff_min', 'Z_eff_weighted_norm_A+B', 'ionization_energy_B', 'ionization_energy_A-B', 'ionization_energy_A/B', 'ionization_energy_avg', 'coordination_number_B', 'coordination_number_A-B', 'ratio_closest_min', 'polyhedron_distortion_A', 'polyhedron_distortion_B', 'polyhedron_distortion_max', 'polyhedron_distortion_min', 'polyhedron_distortion_avg', 'CIF_radius_A', 'CIF_radius_B', 'CIF_radius_A/B', 'CIF_radius_A-B', 'CIF_radius_weighted_norm_A+B', 'Pauling_radius_CN12_A', 'Pauling_radius_CN12_A/B', 'Pauling_radius_CN12_avg', 'Pauling_EN_A', 'Pauling_EN_B', 'Pauling_EN_A-B', 'Pauling_EN_A/B', 'Pauling_EN_max', 'Pauling_EN_min', 'Pauling_EN_avg', 'Pauling_EN_weighted_norm_A+B', 'Martynov_Batsanov_EN_A', 'Martynov_Batsanov_EN_B', 'Martynov_Batsanov_EN_A-B', 'Martynov_Batsanov_EN_A/B', 'Martynov_Batsanov_EN_max', 'Martynov_Batsanov_EN_min', 'melting_point_K_A', 'melting_point_K_max', 'melting_point_K_avg', 'density_A', 'density_B', 'density_A-B', 'density_A/B', 'density_max', 'density_min', 'density_avg', 'density_weighted_norm_A+B', 'specific_heat_B', 'specific_heat_A-B', 'specific_heat_max', 'specific_heat_avg', 'specific_heat_weighted_norm_A+B', 'cohesive_energy_A', 'cohesive_energy_B', 'cohesive_energy_A/B', 'cohesive_energy_avg', 'bulk_modulus_A', 'bulk_modulus_A-B', 'bulk_modulus_A/B', 'bulk_modulus_avg'], \u001b[1mScore = 0.8750\u001b[0m\n",
      "\n",
      "\n",
      "\u001b[1mIteration 49:\u001b[0m \u001b[1mRemoved\u001b[0m 'polyhedron_distortion_A', \u001b[1mRemaining\u001b[0m = ['index_B', 'normalized_index_B', 'avg_index', 'atomic_weight_A/B', 'atomic_weight_A-B', 'group_A', 'group_B', 'group_A-B', 'Mendeleev_number_A', 'Mendeleev_number_B', 'valencee_total_B', 'valencee_total_A-B', 'valencee_total_weighted_A+B', 'valencee_total_weighted_norm_A+B', 'unpaired_electrons_A', 'unpaired_electrons_A-B', 'unpaired_electrons_A+B', 'unpaired_electrons_weighted_A+B', 'unpaired_electrons_weighted_norm_A+B', 'Gilman_A', 'Gilman_weighted_A+B', 'Z_eff_A', 'Z_eff_A-B', 'Z_eff_A/B', 'Z_eff_max', 'Z_eff_min', 'Z_eff_weighted_norm_A+B', 'ionization_energy_B', 'ionization_energy_A-B', 'ionization_energy_A/B', 'ionization_energy_avg', 'coordination_number_B', 'coordination_number_A-B', 'ratio_closest_min', 'polyhedron_distortion_B', 'polyhedron_distortion_max', 'polyhedron_distortion_min', 'polyhedron_distortion_avg', 'CIF_radius_A', 'CIF_radius_B', 'CIF_radius_A/B', 'CIF_radius_A-B', 'CIF_radius_weighted_norm_A+B', 'Pauling_radius_CN12_A', 'Pauling_radius_CN12_A/B', 'Pauling_radius_CN12_avg', 'Pauling_EN_A', 'Pauling_EN_B', 'Pauling_EN_A-B', 'Pauling_EN_A/B', 'Pauling_EN_max', 'Pauling_EN_min', 'Pauling_EN_avg', 'Pauling_EN_weighted_norm_A+B', 'Martynov_Batsanov_EN_A', 'Martynov_Batsanov_EN_B', 'Martynov_Batsanov_EN_A-B', 'Martynov_Batsanov_EN_A/B', 'Martynov_Batsanov_EN_max', 'Martynov_Batsanov_EN_min', 'melting_point_K_A', 'melting_point_K_max', 'melting_point_K_avg', 'density_A', 'density_B', 'density_A-B', 'density_A/B', 'density_max', 'density_min', 'density_avg', 'density_weighted_norm_A+B', 'specific_heat_B', 'specific_heat_A-B', 'specific_heat_max', 'specific_heat_avg', 'specific_heat_weighted_norm_A+B', 'cohesive_energy_A', 'cohesive_energy_B', 'cohesive_energy_A/B', 'cohesive_energy_avg', 'bulk_modulus_A', 'bulk_modulus_A-B', 'bulk_modulus_A/B', 'bulk_modulus_avg'], \u001b[1mScore = 0.8750\u001b[0m\n",
      "\n",
      "\n",
      "\u001b[1mIteration 50:\u001b[0m \u001b[1mRemoved\u001b[0m 'index_B', \u001b[1mRemaining\u001b[0m = ['normalized_index_B', 'avg_index', 'atomic_weight_A/B', 'atomic_weight_A-B', 'group_A', 'group_B', 'group_A-B', 'Mendeleev_number_A', 'Mendeleev_number_B', 'valencee_total_B', 'valencee_total_A-B', 'valencee_total_weighted_A+B', 'valencee_total_weighted_norm_A+B', 'unpaired_electrons_A', 'unpaired_electrons_A-B', 'unpaired_electrons_A+B', 'unpaired_electrons_weighted_A+B', 'unpaired_electrons_weighted_norm_A+B', 'Gilman_A', 'Gilman_weighted_A+B', 'Z_eff_A', 'Z_eff_A-B', 'Z_eff_A/B', 'Z_eff_max', 'Z_eff_min', 'Z_eff_weighted_norm_A+B', 'ionization_energy_B', 'ionization_energy_A-B', 'ionization_energy_A/B', 'ionization_energy_avg', 'coordination_number_B', 'coordination_number_A-B', 'ratio_closest_min', 'polyhedron_distortion_B', 'polyhedron_distortion_max', 'polyhedron_distortion_min', 'polyhedron_distortion_avg', 'CIF_radius_A', 'CIF_radius_B', 'CIF_radius_A/B', 'CIF_radius_A-B', 'CIF_radius_weighted_norm_A+B', 'Pauling_radius_CN12_A', 'Pauling_radius_CN12_A/B', 'Pauling_radius_CN12_avg', 'Pauling_EN_A', 'Pauling_EN_B', 'Pauling_EN_A-B', 'Pauling_EN_A/B', 'Pauling_EN_max', 'Pauling_EN_min', 'Pauling_EN_avg', 'Pauling_EN_weighted_norm_A+B', 'Martynov_Batsanov_EN_A', 'Martynov_Batsanov_EN_B', 'Martynov_Batsanov_EN_A-B', 'Martynov_Batsanov_EN_A/B', 'Martynov_Batsanov_EN_max', 'Martynov_Batsanov_EN_min', 'melting_point_K_A', 'melting_point_K_max', 'melting_point_K_avg', 'density_A', 'density_B', 'density_A-B', 'density_A/B', 'density_max', 'density_min', 'density_avg', 'density_weighted_norm_A+B', 'specific_heat_B', 'specific_heat_A-B', 'specific_heat_max', 'specific_heat_avg', 'specific_heat_weighted_norm_A+B', 'cohesive_energy_A', 'cohesive_energy_B', 'cohesive_energy_A/B', 'cohesive_energy_avg', 'bulk_modulus_A', 'bulk_modulus_A-B', 'bulk_modulus_A/B', 'bulk_modulus_avg'], \u001b[1mScore = 0.8750\u001b[0m\n",
      "\n",
      "\n",
      "\u001b[1mIteration 51:\u001b[0m \u001b[1mRemoved\u001b[0m 'Pauling_EN_A/B', \u001b[1mRemaining\u001b[0m = ['normalized_index_B', 'avg_index', 'atomic_weight_A/B', 'atomic_weight_A-B', 'group_A', 'group_B', 'group_A-B', 'Mendeleev_number_A', 'Mendeleev_number_B', 'valencee_total_B', 'valencee_total_A-B', 'valencee_total_weighted_A+B', 'valencee_total_weighted_norm_A+B', 'unpaired_electrons_A', 'unpaired_electrons_A-B', 'unpaired_electrons_A+B', 'unpaired_electrons_weighted_A+B', 'unpaired_electrons_weighted_norm_A+B', 'Gilman_A', 'Gilman_weighted_A+B', 'Z_eff_A', 'Z_eff_A-B', 'Z_eff_A/B', 'Z_eff_max', 'Z_eff_min', 'Z_eff_weighted_norm_A+B', 'ionization_energy_B', 'ionization_energy_A-B', 'ionization_energy_A/B', 'ionization_energy_avg', 'coordination_number_B', 'coordination_number_A-B', 'ratio_closest_min', 'polyhedron_distortion_B', 'polyhedron_distortion_max', 'polyhedron_distortion_min', 'polyhedron_distortion_avg', 'CIF_radius_A', 'CIF_radius_B', 'CIF_radius_A/B', 'CIF_radius_A-B', 'CIF_radius_weighted_norm_A+B', 'Pauling_radius_CN12_A', 'Pauling_radius_CN12_A/B', 'Pauling_radius_CN12_avg', 'Pauling_EN_A', 'Pauling_EN_B', 'Pauling_EN_A-B', 'Pauling_EN_max', 'Pauling_EN_min', 'Pauling_EN_avg', 'Pauling_EN_weighted_norm_A+B', 'Martynov_Batsanov_EN_A', 'Martynov_Batsanov_EN_B', 'Martynov_Batsanov_EN_A-B', 'Martynov_Batsanov_EN_A/B', 'Martynov_Batsanov_EN_max', 'Martynov_Batsanov_EN_min', 'melting_point_K_A', 'melting_point_K_max', 'melting_point_K_avg', 'density_A', 'density_B', 'density_A-B', 'density_A/B', 'density_max', 'density_min', 'density_avg', 'density_weighted_norm_A+B', 'specific_heat_B', 'specific_heat_A-B', 'specific_heat_max', 'specific_heat_avg', 'specific_heat_weighted_norm_A+B', 'cohesive_energy_A', 'cohesive_energy_B', 'cohesive_energy_A/B', 'cohesive_energy_avg', 'bulk_modulus_A', 'bulk_modulus_A-B', 'bulk_modulus_A/B', 'bulk_modulus_avg'], \u001b[1mScore = 0.8750\u001b[0m\n",
      "\n",
      "\n",
      "\u001b[1mIteration 52:\u001b[0m \u001b[1mRemoved\u001b[0m 'coordination_number_A-B', \u001b[1mRemaining\u001b[0m = ['normalized_index_B', 'avg_index', 'atomic_weight_A/B', 'atomic_weight_A-B', 'group_A', 'group_B', 'group_A-B', 'Mendeleev_number_A', 'Mendeleev_number_B', 'valencee_total_B', 'valencee_total_A-B', 'valencee_total_weighted_A+B', 'valencee_total_weighted_norm_A+B', 'unpaired_electrons_A', 'unpaired_electrons_A-B', 'unpaired_electrons_A+B', 'unpaired_electrons_weighted_A+B', 'unpaired_electrons_weighted_norm_A+B', 'Gilman_A', 'Gilman_weighted_A+B', 'Z_eff_A', 'Z_eff_A-B', 'Z_eff_A/B', 'Z_eff_max', 'Z_eff_min', 'Z_eff_weighted_norm_A+B', 'ionization_energy_B', 'ionization_energy_A-B', 'ionization_energy_A/B', 'ionization_energy_avg', 'coordination_number_B', 'ratio_closest_min', 'polyhedron_distortion_B', 'polyhedron_distortion_max', 'polyhedron_distortion_min', 'polyhedron_distortion_avg', 'CIF_radius_A', 'CIF_radius_B', 'CIF_radius_A/B', 'CIF_radius_A-B', 'CIF_radius_weighted_norm_A+B', 'Pauling_radius_CN12_A', 'Pauling_radius_CN12_A/B', 'Pauling_radius_CN12_avg', 'Pauling_EN_A', 'Pauling_EN_B', 'Pauling_EN_A-B', 'Pauling_EN_max', 'Pauling_EN_min', 'Pauling_EN_avg', 'Pauling_EN_weighted_norm_A+B', 'Martynov_Batsanov_EN_A', 'Martynov_Batsanov_EN_B', 'Martynov_Batsanov_EN_A-B', 'Martynov_Batsanov_EN_A/B', 'Martynov_Batsanov_EN_max', 'Martynov_Batsanov_EN_min', 'melting_point_K_A', 'melting_point_K_max', 'melting_point_K_avg', 'density_A', 'density_B', 'density_A-B', 'density_A/B', 'density_max', 'density_min', 'density_avg', 'density_weighted_norm_A+B', 'specific_heat_B', 'specific_heat_A-B', 'specific_heat_max', 'specific_heat_avg', 'specific_heat_weighted_norm_A+B', 'cohesive_energy_A', 'cohesive_energy_B', 'cohesive_energy_A/B', 'cohesive_energy_avg', 'bulk_modulus_A', 'bulk_modulus_A-B', 'bulk_modulus_A/B', 'bulk_modulus_avg'], \u001b[1mScore = 0.8750\u001b[0m\n",
      "\n",
      "\n",
      "\u001b[1mIteration 53:\u001b[0m \u001b[1mRemoved\u001b[0m 'CIF_radius_A/B', \u001b[1mRemaining\u001b[0m = ['normalized_index_B', 'avg_index', 'atomic_weight_A/B', 'atomic_weight_A-B', 'group_A', 'group_B', 'group_A-B', 'Mendeleev_number_A', 'Mendeleev_number_B', 'valencee_total_B', 'valencee_total_A-B', 'valencee_total_weighted_A+B', 'valencee_total_weighted_norm_A+B', 'unpaired_electrons_A', 'unpaired_electrons_A-B', 'unpaired_electrons_A+B', 'unpaired_electrons_weighted_A+B', 'unpaired_electrons_weighted_norm_A+B', 'Gilman_A', 'Gilman_weighted_A+B', 'Z_eff_A', 'Z_eff_A-B', 'Z_eff_A/B', 'Z_eff_max', 'Z_eff_min', 'Z_eff_weighted_norm_A+B', 'ionization_energy_B', 'ionization_energy_A-B', 'ionization_energy_A/B', 'ionization_energy_avg', 'coordination_number_B', 'ratio_closest_min', 'polyhedron_distortion_B', 'polyhedron_distortion_max', 'polyhedron_distortion_min', 'polyhedron_distortion_avg', 'CIF_radius_A', 'CIF_radius_B', 'CIF_radius_A-B', 'CIF_radius_weighted_norm_A+B', 'Pauling_radius_CN12_A', 'Pauling_radius_CN12_A/B', 'Pauling_radius_CN12_avg', 'Pauling_EN_A', 'Pauling_EN_B', 'Pauling_EN_A-B', 'Pauling_EN_max', 'Pauling_EN_min', 'Pauling_EN_avg', 'Pauling_EN_weighted_norm_A+B', 'Martynov_Batsanov_EN_A', 'Martynov_Batsanov_EN_B', 'Martynov_Batsanov_EN_A-B', 'Martynov_Batsanov_EN_A/B', 'Martynov_Batsanov_EN_max', 'Martynov_Batsanov_EN_min', 'melting_point_K_A', 'melting_point_K_max', 'melting_point_K_avg', 'density_A', 'density_B', 'density_A-B', 'density_A/B', 'density_max', 'density_min', 'density_avg', 'density_weighted_norm_A+B', 'specific_heat_B', 'specific_heat_A-B', 'specific_heat_max', 'specific_heat_avg', 'specific_heat_weighted_norm_A+B', 'cohesive_energy_A', 'cohesive_energy_B', 'cohesive_energy_A/B', 'cohesive_energy_avg', 'bulk_modulus_A', 'bulk_modulus_A-B', 'bulk_modulus_A/B', 'bulk_modulus_avg'], \u001b[1mScore = 0.8750\u001b[0m\n",
      "\n",
      "\n",
      "\u001b[1mIteration 54:\u001b[0m \u001b[1mRemoved\u001b[0m 'coordination_number_B', \u001b[1mRemaining\u001b[0m = ['normalized_index_B', 'avg_index', 'atomic_weight_A/B', 'atomic_weight_A-B', 'group_A', 'group_B', 'group_A-B', 'Mendeleev_number_A', 'Mendeleev_number_B', 'valencee_total_B', 'valencee_total_A-B', 'valencee_total_weighted_A+B', 'valencee_total_weighted_norm_A+B', 'unpaired_electrons_A', 'unpaired_electrons_A-B', 'unpaired_electrons_A+B', 'unpaired_electrons_weighted_A+B', 'unpaired_electrons_weighted_norm_A+B', 'Gilman_A', 'Gilman_weighted_A+B', 'Z_eff_A', 'Z_eff_A-B', 'Z_eff_A/B', 'Z_eff_max', 'Z_eff_min', 'Z_eff_weighted_norm_A+B', 'ionization_energy_B', 'ionization_energy_A-B', 'ionization_energy_A/B', 'ionization_energy_avg', 'ratio_closest_min', 'polyhedron_distortion_B', 'polyhedron_distortion_max', 'polyhedron_distortion_min', 'polyhedron_distortion_avg', 'CIF_radius_A', 'CIF_radius_B', 'CIF_radius_A-B', 'CIF_radius_weighted_norm_A+B', 'Pauling_radius_CN12_A', 'Pauling_radius_CN12_A/B', 'Pauling_radius_CN12_avg', 'Pauling_EN_A', 'Pauling_EN_B', 'Pauling_EN_A-B', 'Pauling_EN_max', 'Pauling_EN_min', 'Pauling_EN_avg', 'Pauling_EN_weighted_norm_A+B', 'Martynov_Batsanov_EN_A', 'Martynov_Batsanov_EN_B', 'Martynov_Batsanov_EN_A-B', 'Martynov_Batsanov_EN_A/B', 'Martynov_Batsanov_EN_max', 'Martynov_Batsanov_EN_min', 'melting_point_K_A', 'melting_point_K_max', 'melting_point_K_avg', 'density_A', 'density_B', 'density_A-B', 'density_A/B', 'density_max', 'density_min', 'density_avg', 'density_weighted_norm_A+B', 'specific_heat_B', 'specific_heat_A-B', 'specific_heat_max', 'specific_heat_avg', 'specific_heat_weighted_norm_A+B', 'cohesive_energy_A', 'cohesive_energy_B', 'cohesive_energy_A/B', 'cohesive_energy_avg', 'bulk_modulus_A', 'bulk_modulus_A-B', 'bulk_modulus_A/B', 'bulk_modulus_avg'], \u001b[1mScore = 0.8750\u001b[0m\n",
      "\n",
      "\n",
      "\u001b[1mIteration 55:\u001b[0m \u001b[1mRemoved\u001b[0m 'Pauling_EN_avg', \u001b[1mRemaining\u001b[0m = ['normalized_index_B', 'avg_index', 'atomic_weight_A/B', 'atomic_weight_A-B', 'group_A', 'group_B', 'group_A-B', 'Mendeleev_number_A', 'Mendeleev_number_B', 'valencee_total_B', 'valencee_total_A-B', 'valencee_total_weighted_A+B', 'valencee_total_weighted_norm_A+B', 'unpaired_electrons_A', 'unpaired_electrons_A-B', 'unpaired_electrons_A+B', 'unpaired_electrons_weighted_A+B', 'unpaired_electrons_weighted_norm_A+B', 'Gilman_A', 'Gilman_weighted_A+B', 'Z_eff_A', 'Z_eff_A-B', 'Z_eff_A/B', 'Z_eff_max', 'Z_eff_min', 'Z_eff_weighted_norm_A+B', 'ionization_energy_B', 'ionization_energy_A-B', 'ionization_energy_A/B', 'ionization_energy_avg', 'ratio_closest_min', 'polyhedron_distortion_B', 'polyhedron_distortion_max', 'polyhedron_distortion_min', 'polyhedron_distortion_avg', 'CIF_radius_A', 'CIF_radius_B', 'CIF_radius_A-B', 'CIF_radius_weighted_norm_A+B', 'Pauling_radius_CN12_A', 'Pauling_radius_CN12_A/B', 'Pauling_radius_CN12_avg', 'Pauling_EN_A', 'Pauling_EN_B', 'Pauling_EN_A-B', 'Pauling_EN_max', 'Pauling_EN_min', 'Pauling_EN_weighted_norm_A+B', 'Martynov_Batsanov_EN_A', 'Martynov_Batsanov_EN_B', 'Martynov_Batsanov_EN_A-B', 'Martynov_Batsanov_EN_A/B', 'Martynov_Batsanov_EN_max', 'Martynov_Batsanov_EN_min', 'melting_point_K_A', 'melting_point_K_max', 'melting_point_K_avg', 'density_A', 'density_B', 'density_A-B', 'density_A/B', 'density_max', 'density_min', 'density_avg', 'density_weighted_norm_A+B', 'specific_heat_B', 'specific_heat_A-B', 'specific_heat_max', 'specific_heat_avg', 'specific_heat_weighted_norm_A+B', 'cohesive_energy_A', 'cohesive_energy_B', 'cohesive_energy_A/B', 'cohesive_energy_avg', 'bulk_modulus_A', 'bulk_modulus_A-B', 'bulk_modulus_A/B', 'bulk_modulus_avg'], \u001b[1mScore = 0.8750\u001b[0m\n",
      "\n",
      "\n",
      "\u001b[1mIteration 56:\u001b[0m \u001b[1mRemoved\u001b[0m 'Pauling_radius_CN12_A/B', \u001b[1mRemaining\u001b[0m = ['normalized_index_B', 'avg_index', 'atomic_weight_A/B', 'atomic_weight_A-B', 'group_A', 'group_B', 'group_A-B', 'Mendeleev_number_A', 'Mendeleev_number_B', 'valencee_total_B', 'valencee_total_A-B', 'valencee_total_weighted_A+B', 'valencee_total_weighted_norm_A+B', 'unpaired_electrons_A', 'unpaired_electrons_A-B', 'unpaired_electrons_A+B', 'unpaired_electrons_weighted_A+B', 'unpaired_electrons_weighted_norm_A+B', 'Gilman_A', 'Gilman_weighted_A+B', 'Z_eff_A', 'Z_eff_A-B', 'Z_eff_A/B', 'Z_eff_max', 'Z_eff_min', 'Z_eff_weighted_norm_A+B', 'ionization_energy_B', 'ionization_energy_A-B', 'ionization_energy_A/B', 'ionization_energy_avg', 'ratio_closest_min', 'polyhedron_distortion_B', 'polyhedron_distortion_max', 'polyhedron_distortion_min', 'polyhedron_distortion_avg', 'CIF_radius_A', 'CIF_radius_B', 'CIF_radius_A-B', 'CIF_radius_weighted_norm_A+B', 'Pauling_radius_CN12_A', 'Pauling_radius_CN12_avg', 'Pauling_EN_A', 'Pauling_EN_B', 'Pauling_EN_A-B', 'Pauling_EN_max', 'Pauling_EN_min', 'Pauling_EN_weighted_norm_A+B', 'Martynov_Batsanov_EN_A', 'Martynov_Batsanov_EN_B', 'Martynov_Batsanov_EN_A-B', 'Martynov_Batsanov_EN_A/B', 'Martynov_Batsanov_EN_max', 'Martynov_Batsanov_EN_min', 'melting_point_K_A', 'melting_point_K_max', 'melting_point_K_avg', 'density_A', 'density_B', 'density_A-B', 'density_A/B', 'density_max', 'density_min', 'density_avg', 'density_weighted_norm_A+B', 'specific_heat_B', 'specific_heat_A-B', 'specific_heat_max', 'specific_heat_avg', 'specific_heat_weighted_norm_A+B', 'cohesive_energy_A', 'cohesive_energy_B', 'cohesive_energy_A/B', 'cohesive_energy_avg', 'bulk_modulus_A', 'bulk_modulus_A-B', 'bulk_modulus_A/B', 'bulk_modulus_avg'], \u001b[1mScore = 0.8750\u001b[0m\n",
      "\n",
      "\n",
      "\u001b[1mIteration 57:\u001b[0m \u001b[1mRemoved\u001b[0m 'unpaired_electrons_weighted_A+B', \u001b[1mRemaining\u001b[0m = ['normalized_index_B', 'avg_index', 'atomic_weight_A/B', 'atomic_weight_A-B', 'group_A', 'group_B', 'group_A-B', 'Mendeleev_number_A', 'Mendeleev_number_B', 'valencee_total_B', 'valencee_total_A-B', 'valencee_total_weighted_A+B', 'valencee_total_weighted_norm_A+B', 'unpaired_electrons_A', 'unpaired_electrons_A-B', 'unpaired_electrons_A+B', 'unpaired_electrons_weighted_norm_A+B', 'Gilman_A', 'Gilman_weighted_A+B', 'Z_eff_A', 'Z_eff_A-B', 'Z_eff_A/B', 'Z_eff_max', 'Z_eff_min', 'Z_eff_weighted_norm_A+B', 'ionization_energy_B', 'ionization_energy_A-B', 'ionization_energy_A/B', 'ionization_energy_avg', 'ratio_closest_min', 'polyhedron_distortion_B', 'polyhedron_distortion_max', 'polyhedron_distortion_min', 'polyhedron_distortion_avg', 'CIF_radius_A', 'CIF_radius_B', 'CIF_radius_A-B', 'CIF_radius_weighted_norm_A+B', 'Pauling_radius_CN12_A', 'Pauling_radius_CN12_avg', 'Pauling_EN_A', 'Pauling_EN_B', 'Pauling_EN_A-B', 'Pauling_EN_max', 'Pauling_EN_min', 'Pauling_EN_weighted_norm_A+B', 'Martynov_Batsanov_EN_A', 'Martynov_Batsanov_EN_B', 'Martynov_Batsanov_EN_A-B', 'Martynov_Batsanov_EN_A/B', 'Martynov_Batsanov_EN_max', 'Martynov_Batsanov_EN_min', 'melting_point_K_A', 'melting_point_K_max', 'melting_point_K_avg', 'density_A', 'density_B', 'density_A-B', 'density_A/B', 'density_max', 'density_min', 'density_avg', 'density_weighted_norm_A+B', 'specific_heat_B', 'specific_heat_A-B', 'specific_heat_max', 'specific_heat_avg', 'specific_heat_weighted_norm_A+B', 'cohesive_energy_A', 'cohesive_energy_B', 'cohesive_energy_A/B', 'cohesive_energy_avg', 'bulk_modulus_A', 'bulk_modulus_A-B', 'bulk_modulus_A/B', 'bulk_modulus_avg'], \u001b[1mScore = 0.8750\u001b[0m\n",
      "\n",
      "\n",
      "\u001b[1mIteration 58:\u001b[0m \u001b[1mRemoved\u001b[0m 'melting_point_K_avg', \u001b[1mRemaining\u001b[0m = ['normalized_index_B', 'avg_index', 'atomic_weight_A/B', 'atomic_weight_A-B', 'group_A', 'group_B', 'group_A-B', 'Mendeleev_number_A', 'Mendeleev_number_B', 'valencee_total_B', 'valencee_total_A-B', 'valencee_total_weighted_A+B', 'valencee_total_weighted_norm_A+B', 'unpaired_electrons_A', 'unpaired_electrons_A-B', 'unpaired_electrons_A+B', 'unpaired_electrons_weighted_norm_A+B', 'Gilman_A', 'Gilman_weighted_A+B', 'Z_eff_A', 'Z_eff_A-B', 'Z_eff_A/B', 'Z_eff_max', 'Z_eff_min', 'Z_eff_weighted_norm_A+B', 'ionization_energy_B', 'ionization_energy_A-B', 'ionization_energy_A/B', 'ionization_energy_avg', 'ratio_closest_min', 'polyhedron_distortion_B', 'polyhedron_distortion_max', 'polyhedron_distortion_min', 'polyhedron_distortion_avg', 'CIF_radius_A', 'CIF_radius_B', 'CIF_radius_A-B', 'CIF_radius_weighted_norm_A+B', 'Pauling_radius_CN12_A', 'Pauling_radius_CN12_avg', 'Pauling_EN_A', 'Pauling_EN_B', 'Pauling_EN_A-B', 'Pauling_EN_max', 'Pauling_EN_min', 'Pauling_EN_weighted_norm_A+B', 'Martynov_Batsanov_EN_A', 'Martynov_Batsanov_EN_B', 'Martynov_Batsanov_EN_A-B', 'Martynov_Batsanov_EN_A/B', 'Martynov_Batsanov_EN_max', 'Martynov_Batsanov_EN_min', 'melting_point_K_A', 'melting_point_K_max', 'density_A', 'density_B', 'density_A-B', 'density_A/B', 'density_max', 'density_min', 'density_avg', 'density_weighted_norm_A+B', 'specific_heat_B', 'specific_heat_A-B', 'specific_heat_max', 'specific_heat_avg', 'specific_heat_weighted_norm_A+B', 'cohesive_energy_A', 'cohesive_energy_B', 'cohesive_energy_A/B', 'cohesive_energy_avg', 'bulk_modulus_A', 'bulk_modulus_A-B', 'bulk_modulus_A/B', 'bulk_modulus_avg'], \u001b[1mScore = 0.8750\u001b[0m\n",
      "\n",
      "\n",
      "\u001b[1mIteration 59:\u001b[0m \u001b[1mRemoved\u001b[0m 'specific_heat_B', \u001b[1mRemaining\u001b[0m = ['normalized_index_B', 'avg_index', 'atomic_weight_A/B', 'atomic_weight_A-B', 'group_A', 'group_B', 'group_A-B', 'Mendeleev_number_A', 'Mendeleev_number_B', 'valencee_total_B', 'valencee_total_A-B', 'valencee_total_weighted_A+B', 'valencee_total_weighted_norm_A+B', 'unpaired_electrons_A', 'unpaired_electrons_A-B', 'unpaired_electrons_A+B', 'unpaired_electrons_weighted_norm_A+B', 'Gilman_A', 'Gilman_weighted_A+B', 'Z_eff_A', 'Z_eff_A-B', 'Z_eff_A/B', 'Z_eff_max', 'Z_eff_min', 'Z_eff_weighted_norm_A+B', 'ionization_energy_B', 'ionization_energy_A-B', 'ionization_energy_A/B', 'ionization_energy_avg', 'ratio_closest_min', 'polyhedron_distortion_B', 'polyhedron_distortion_max', 'polyhedron_distortion_min', 'polyhedron_distortion_avg', 'CIF_radius_A', 'CIF_radius_B', 'CIF_radius_A-B', 'CIF_radius_weighted_norm_A+B', 'Pauling_radius_CN12_A', 'Pauling_radius_CN12_avg', 'Pauling_EN_A', 'Pauling_EN_B', 'Pauling_EN_A-B', 'Pauling_EN_max', 'Pauling_EN_min', 'Pauling_EN_weighted_norm_A+B', 'Martynov_Batsanov_EN_A', 'Martynov_Batsanov_EN_B', 'Martynov_Batsanov_EN_A-B', 'Martynov_Batsanov_EN_A/B', 'Martynov_Batsanov_EN_max', 'Martynov_Batsanov_EN_min', 'melting_point_K_A', 'melting_point_K_max', 'density_A', 'density_B', 'density_A-B', 'density_A/B', 'density_max', 'density_min', 'density_avg', 'density_weighted_norm_A+B', 'specific_heat_A-B', 'specific_heat_max', 'specific_heat_avg', 'specific_heat_weighted_norm_A+B', 'cohesive_energy_A', 'cohesive_energy_B', 'cohesive_energy_A/B', 'cohesive_energy_avg', 'bulk_modulus_A', 'bulk_modulus_A-B', 'bulk_modulus_A/B', 'bulk_modulus_avg'], \u001b[1mScore = 0.8750\u001b[0m\n",
      "\n",
      "\n",
      "\u001b[1mIteration 60:\u001b[0m \u001b[1mRemoved\u001b[0m 'bulk_modulus_A-B', \u001b[1mRemaining\u001b[0m = ['normalized_index_B', 'avg_index', 'atomic_weight_A/B', 'atomic_weight_A-B', 'group_A', 'group_B', 'group_A-B', 'Mendeleev_number_A', 'Mendeleev_number_B', 'valencee_total_B', 'valencee_total_A-B', 'valencee_total_weighted_A+B', 'valencee_total_weighted_norm_A+B', 'unpaired_electrons_A', 'unpaired_electrons_A-B', 'unpaired_electrons_A+B', 'unpaired_electrons_weighted_norm_A+B', 'Gilman_A', 'Gilman_weighted_A+B', 'Z_eff_A', 'Z_eff_A-B', 'Z_eff_A/B', 'Z_eff_max', 'Z_eff_min', 'Z_eff_weighted_norm_A+B', 'ionization_energy_B', 'ionization_energy_A-B', 'ionization_energy_A/B', 'ionization_energy_avg', 'ratio_closest_min', 'polyhedron_distortion_B', 'polyhedron_distortion_max', 'polyhedron_distortion_min', 'polyhedron_distortion_avg', 'CIF_radius_A', 'CIF_radius_B', 'CIF_radius_A-B', 'CIF_radius_weighted_norm_A+B', 'Pauling_radius_CN12_A', 'Pauling_radius_CN12_avg', 'Pauling_EN_A', 'Pauling_EN_B', 'Pauling_EN_A-B', 'Pauling_EN_max', 'Pauling_EN_min', 'Pauling_EN_weighted_norm_A+B', 'Martynov_Batsanov_EN_A', 'Martynov_Batsanov_EN_B', 'Martynov_Batsanov_EN_A-B', 'Martynov_Batsanov_EN_A/B', 'Martynov_Batsanov_EN_max', 'Martynov_Batsanov_EN_min', 'melting_point_K_A', 'melting_point_K_max', 'density_A', 'density_B', 'density_A-B', 'density_A/B', 'density_max', 'density_min', 'density_avg', 'density_weighted_norm_A+B', 'specific_heat_A-B', 'specific_heat_max', 'specific_heat_avg', 'specific_heat_weighted_norm_A+B', 'cohesive_energy_A', 'cohesive_energy_B', 'cohesive_energy_A/B', 'cohesive_energy_avg', 'bulk_modulus_A', 'bulk_modulus_A/B', 'bulk_modulus_avg'], \u001b[1mScore = 0.8750\u001b[0m\n",
      "\n",
      "\n",
      "\u001b[1mIteration 61:\u001b[0m \u001b[1mRemoved\u001b[0m 'density_A/B', \u001b[1mRemaining\u001b[0m = ['normalized_index_B', 'avg_index', 'atomic_weight_A/B', 'atomic_weight_A-B', 'group_A', 'group_B', 'group_A-B', 'Mendeleev_number_A', 'Mendeleev_number_B', 'valencee_total_B', 'valencee_total_A-B', 'valencee_total_weighted_A+B', 'valencee_total_weighted_norm_A+B', 'unpaired_electrons_A', 'unpaired_electrons_A-B', 'unpaired_electrons_A+B', 'unpaired_electrons_weighted_norm_A+B', 'Gilman_A', 'Gilman_weighted_A+B', 'Z_eff_A', 'Z_eff_A-B', 'Z_eff_A/B', 'Z_eff_max', 'Z_eff_min', 'Z_eff_weighted_norm_A+B', 'ionization_energy_B', 'ionization_energy_A-B', 'ionization_energy_A/B', 'ionization_energy_avg', 'ratio_closest_min', 'polyhedron_distortion_B', 'polyhedron_distortion_max', 'polyhedron_distortion_min', 'polyhedron_distortion_avg', 'CIF_radius_A', 'CIF_radius_B', 'CIF_radius_A-B', 'CIF_radius_weighted_norm_A+B', 'Pauling_radius_CN12_A', 'Pauling_radius_CN12_avg', 'Pauling_EN_A', 'Pauling_EN_B', 'Pauling_EN_A-B', 'Pauling_EN_max', 'Pauling_EN_min', 'Pauling_EN_weighted_norm_A+B', 'Martynov_Batsanov_EN_A', 'Martynov_Batsanov_EN_B', 'Martynov_Batsanov_EN_A-B', 'Martynov_Batsanov_EN_A/B', 'Martynov_Batsanov_EN_max', 'Martynov_Batsanov_EN_min', 'melting_point_K_A', 'melting_point_K_max', 'density_A', 'density_B', 'density_A-B', 'density_max', 'density_min', 'density_avg', 'density_weighted_norm_A+B', 'specific_heat_A-B', 'specific_heat_max', 'specific_heat_avg', 'specific_heat_weighted_norm_A+B', 'cohesive_energy_A', 'cohesive_energy_B', 'cohesive_energy_A/B', 'cohesive_energy_avg', 'bulk_modulus_A', 'bulk_modulus_A/B', 'bulk_modulus_avg'], \u001b[1mScore = 0.8750\u001b[0m\n",
      "\n",
      "\n",
      "\u001b[1mIteration 62:\u001b[0m \u001b[1mRemoved\u001b[0m 'Gilman_weighted_A+B', \u001b[1mRemaining\u001b[0m = ['normalized_index_B', 'avg_index', 'atomic_weight_A/B', 'atomic_weight_A-B', 'group_A', 'group_B', 'group_A-B', 'Mendeleev_number_A', 'Mendeleev_number_B', 'valencee_total_B', 'valencee_total_A-B', 'valencee_total_weighted_A+B', 'valencee_total_weighted_norm_A+B', 'unpaired_electrons_A', 'unpaired_electrons_A-B', 'unpaired_electrons_A+B', 'unpaired_electrons_weighted_norm_A+B', 'Gilman_A', 'Z_eff_A', 'Z_eff_A-B', 'Z_eff_A/B', 'Z_eff_max', 'Z_eff_min', 'Z_eff_weighted_norm_A+B', 'ionization_energy_B', 'ionization_energy_A-B', 'ionization_energy_A/B', 'ionization_energy_avg', 'ratio_closest_min', 'polyhedron_distortion_B', 'polyhedron_distortion_max', 'polyhedron_distortion_min', 'polyhedron_distortion_avg', 'CIF_radius_A', 'CIF_radius_B', 'CIF_radius_A-B', 'CIF_radius_weighted_norm_A+B', 'Pauling_radius_CN12_A', 'Pauling_radius_CN12_avg', 'Pauling_EN_A', 'Pauling_EN_B', 'Pauling_EN_A-B', 'Pauling_EN_max', 'Pauling_EN_min', 'Pauling_EN_weighted_norm_A+B', 'Martynov_Batsanov_EN_A', 'Martynov_Batsanov_EN_B', 'Martynov_Batsanov_EN_A-B', 'Martynov_Batsanov_EN_A/B', 'Martynov_Batsanov_EN_max', 'Martynov_Batsanov_EN_min', 'melting_point_K_A', 'melting_point_K_max', 'density_A', 'density_B', 'density_A-B', 'density_max', 'density_min', 'density_avg', 'density_weighted_norm_A+B', 'specific_heat_A-B', 'specific_heat_max', 'specific_heat_avg', 'specific_heat_weighted_norm_A+B', 'cohesive_energy_A', 'cohesive_energy_B', 'cohesive_energy_A/B', 'cohesive_energy_avg', 'bulk_modulus_A', 'bulk_modulus_A/B', 'bulk_modulus_avg'], \u001b[1mScore = 0.8750\u001b[0m\n",
      "\n",
      "\n",
      "\u001b[1mIteration 63:\u001b[0m \u001b[1mRemoved\u001b[0m 'density_weighted_norm_A+B', \u001b[1mRemaining\u001b[0m = ['normalized_index_B', 'avg_index', 'atomic_weight_A/B', 'atomic_weight_A-B', 'group_A', 'group_B', 'group_A-B', 'Mendeleev_number_A', 'Mendeleev_number_B', 'valencee_total_B', 'valencee_total_A-B', 'valencee_total_weighted_A+B', 'valencee_total_weighted_norm_A+B', 'unpaired_electrons_A', 'unpaired_electrons_A-B', 'unpaired_electrons_A+B', 'unpaired_electrons_weighted_norm_A+B', 'Gilman_A', 'Z_eff_A', 'Z_eff_A-B', 'Z_eff_A/B', 'Z_eff_max', 'Z_eff_min', 'Z_eff_weighted_norm_A+B', 'ionization_energy_B', 'ionization_energy_A-B', 'ionization_energy_A/B', 'ionization_energy_avg', 'ratio_closest_min', 'polyhedron_distortion_B', 'polyhedron_distortion_max', 'polyhedron_distortion_min', 'polyhedron_distortion_avg', 'CIF_radius_A', 'CIF_radius_B', 'CIF_radius_A-B', 'CIF_radius_weighted_norm_A+B', 'Pauling_radius_CN12_A', 'Pauling_radius_CN12_avg', 'Pauling_EN_A', 'Pauling_EN_B', 'Pauling_EN_A-B', 'Pauling_EN_max', 'Pauling_EN_min', 'Pauling_EN_weighted_norm_A+B', 'Martynov_Batsanov_EN_A', 'Martynov_Batsanov_EN_B', 'Martynov_Batsanov_EN_A-B', 'Martynov_Batsanov_EN_A/B', 'Martynov_Batsanov_EN_max', 'Martynov_Batsanov_EN_min', 'melting_point_K_A', 'melting_point_K_max', 'density_A', 'density_B', 'density_A-B', 'density_max', 'density_min', 'density_avg', 'specific_heat_A-B', 'specific_heat_max', 'specific_heat_avg', 'specific_heat_weighted_norm_A+B', 'cohesive_energy_A', 'cohesive_energy_B', 'cohesive_energy_A/B', 'cohesive_energy_avg', 'bulk_modulus_A', 'bulk_modulus_A/B', 'bulk_modulus_avg'], \u001b[1mScore = 0.8750\u001b[0m\n",
      "\n",
      "\n",
      "\u001b[1mIteration 64:\u001b[0m \u001b[1mRemoved\u001b[0m 'ratio_closest_min', \u001b[1mRemaining\u001b[0m = ['normalized_index_B', 'avg_index', 'atomic_weight_A/B', 'atomic_weight_A-B', 'group_A', 'group_B', 'group_A-B', 'Mendeleev_number_A', 'Mendeleev_number_B', 'valencee_total_B', 'valencee_total_A-B', 'valencee_total_weighted_A+B', 'valencee_total_weighted_norm_A+B', 'unpaired_electrons_A', 'unpaired_electrons_A-B', 'unpaired_electrons_A+B', 'unpaired_electrons_weighted_norm_A+B', 'Gilman_A', 'Z_eff_A', 'Z_eff_A-B', 'Z_eff_A/B', 'Z_eff_max', 'Z_eff_min', 'Z_eff_weighted_norm_A+B', 'ionization_energy_B', 'ionization_energy_A-B', 'ionization_energy_A/B', 'ionization_energy_avg', 'polyhedron_distortion_B', 'polyhedron_distortion_max', 'polyhedron_distortion_min', 'polyhedron_distortion_avg', 'CIF_radius_A', 'CIF_radius_B', 'CIF_radius_A-B', 'CIF_radius_weighted_norm_A+B', 'Pauling_radius_CN12_A', 'Pauling_radius_CN12_avg', 'Pauling_EN_A', 'Pauling_EN_B', 'Pauling_EN_A-B', 'Pauling_EN_max', 'Pauling_EN_min', 'Pauling_EN_weighted_norm_A+B', 'Martynov_Batsanov_EN_A', 'Martynov_Batsanov_EN_B', 'Martynov_Batsanov_EN_A-B', 'Martynov_Batsanov_EN_A/B', 'Martynov_Batsanov_EN_max', 'Martynov_Batsanov_EN_min', 'melting_point_K_A', 'melting_point_K_max', 'density_A', 'density_B', 'density_A-B', 'density_max', 'density_min', 'density_avg', 'specific_heat_A-B', 'specific_heat_max', 'specific_heat_avg', 'specific_heat_weighted_norm_A+B', 'cohesive_energy_A', 'cohesive_energy_B', 'cohesive_energy_A/B', 'cohesive_energy_avg', 'bulk_modulus_A', 'bulk_modulus_A/B', 'bulk_modulus_avg'], \u001b[1mScore = 0.8750\u001b[0m\n",
      "\n",
      "\n",
      "\u001b[1mIteration 65:\u001b[0m \u001b[1mRemoved\u001b[0m 'Pauling_radius_CN12_A', \u001b[1mRemaining\u001b[0m = ['normalized_index_B', 'avg_index', 'atomic_weight_A/B', 'atomic_weight_A-B', 'group_A', 'group_B', 'group_A-B', 'Mendeleev_number_A', 'Mendeleev_number_B', 'valencee_total_B', 'valencee_total_A-B', 'valencee_total_weighted_A+B', 'valencee_total_weighted_norm_A+B', 'unpaired_electrons_A', 'unpaired_electrons_A-B', 'unpaired_electrons_A+B', 'unpaired_electrons_weighted_norm_A+B', 'Gilman_A', 'Z_eff_A', 'Z_eff_A-B', 'Z_eff_A/B', 'Z_eff_max', 'Z_eff_min', 'Z_eff_weighted_norm_A+B', 'ionization_energy_B', 'ionization_energy_A-B', 'ionization_energy_A/B', 'ionization_energy_avg', 'polyhedron_distortion_B', 'polyhedron_distortion_max', 'polyhedron_distortion_min', 'polyhedron_distortion_avg', 'CIF_radius_A', 'CIF_radius_B', 'CIF_radius_A-B', 'CIF_radius_weighted_norm_A+B', 'Pauling_radius_CN12_avg', 'Pauling_EN_A', 'Pauling_EN_B', 'Pauling_EN_A-B', 'Pauling_EN_max', 'Pauling_EN_min', 'Pauling_EN_weighted_norm_A+B', 'Martynov_Batsanov_EN_A', 'Martynov_Batsanov_EN_B', 'Martynov_Batsanov_EN_A-B', 'Martynov_Batsanov_EN_A/B', 'Martynov_Batsanov_EN_max', 'Martynov_Batsanov_EN_min', 'melting_point_K_A', 'melting_point_K_max', 'density_A', 'density_B', 'density_A-B', 'density_max', 'density_min', 'density_avg', 'specific_heat_A-B', 'specific_heat_max', 'specific_heat_avg', 'specific_heat_weighted_norm_A+B', 'cohesive_energy_A', 'cohesive_energy_B', 'cohesive_energy_A/B', 'cohesive_energy_avg', 'bulk_modulus_A', 'bulk_modulus_A/B', 'bulk_modulus_avg'], \u001b[1mScore = 0.8750\u001b[0m\n",
      "\n",
      "\n",
      "\u001b[1mIteration 66:\u001b[0m \u001b[1mRemoved\u001b[0m 'avg_index', \u001b[1mRemaining\u001b[0m = ['normalized_index_B', 'atomic_weight_A/B', 'atomic_weight_A-B', 'group_A', 'group_B', 'group_A-B', 'Mendeleev_number_A', 'Mendeleev_number_B', 'valencee_total_B', 'valencee_total_A-B', 'valencee_total_weighted_A+B', 'valencee_total_weighted_norm_A+B', 'unpaired_electrons_A', 'unpaired_electrons_A-B', 'unpaired_electrons_A+B', 'unpaired_electrons_weighted_norm_A+B', 'Gilman_A', 'Z_eff_A', 'Z_eff_A-B', 'Z_eff_A/B', 'Z_eff_max', 'Z_eff_min', 'Z_eff_weighted_norm_A+B', 'ionization_energy_B', 'ionization_energy_A-B', 'ionization_energy_A/B', 'ionization_energy_avg', 'polyhedron_distortion_B', 'polyhedron_distortion_max', 'polyhedron_distortion_min', 'polyhedron_distortion_avg', 'CIF_radius_A', 'CIF_radius_B', 'CIF_radius_A-B', 'CIF_radius_weighted_norm_A+B', 'Pauling_radius_CN12_avg', 'Pauling_EN_A', 'Pauling_EN_B', 'Pauling_EN_A-B', 'Pauling_EN_max', 'Pauling_EN_min', 'Pauling_EN_weighted_norm_A+B', 'Martynov_Batsanov_EN_A', 'Martynov_Batsanov_EN_B', 'Martynov_Batsanov_EN_A-B', 'Martynov_Batsanov_EN_A/B', 'Martynov_Batsanov_EN_max', 'Martynov_Batsanov_EN_min', 'melting_point_K_A', 'melting_point_K_max', 'density_A', 'density_B', 'density_A-B', 'density_max', 'density_min', 'density_avg', 'specific_heat_A-B', 'specific_heat_max', 'specific_heat_avg', 'specific_heat_weighted_norm_A+B', 'cohesive_energy_A', 'cohesive_energy_B', 'cohesive_energy_A/B', 'cohesive_energy_avg', 'bulk_modulus_A', 'bulk_modulus_A/B', 'bulk_modulus_avg'], \u001b[1mScore = 0.8750\u001b[0m\n",
      "\n",
      "\n",
      "\u001b[1mIteration 67:\u001b[0m \u001b[1mRemoved\u001b[0m 'Z_eff_A/B', \u001b[1mRemaining\u001b[0m = ['normalized_index_B', 'atomic_weight_A/B', 'atomic_weight_A-B', 'group_A', 'group_B', 'group_A-B', 'Mendeleev_number_A', 'Mendeleev_number_B', 'valencee_total_B', 'valencee_total_A-B', 'valencee_total_weighted_A+B', 'valencee_total_weighted_norm_A+B', 'unpaired_electrons_A', 'unpaired_electrons_A-B', 'unpaired_electrons_A+B', 'unpaired_electrons_weighted_norm_A+B', 'Gilman_A', 'Z_eff_A', 'Z_eff_A-B', 'Z_eff_max', 'Z_eff_min', 'Z_eff_weighted_norm_A+B', 'ionization_energy_B', 'ionization_energy_A-B', 'ionization_energy_A/B', 'ionization_energy_avg', 'polyhedron_distortion_B', 'polyhedron_distortion_max', 'polyhedron_distortion_min', 'polyhedron_distortion_avg', 'CIF_radius_A', 'CIF_radius_B', 'CIF_radius_A-B', 'CIF_radius_weighted_norm_A+B', 'Pauling_radius_CN12_avg', 'Pauling_EN_A', 'Pauling_EN_B', 'Pauling_EN_A-B', 'Pauling_EN_max', 'Pauling_EN_min', 'Pauling_EN_weighted_norm_A+B', 'Martynov_Batsanov_EN_A', 'Martynov_Batsanov_EN_B', 'Martynov_Batsanov_EN_A-B', 'Martynov_Batsanov_EN_A/B', 'Martynov_Batsanov_EN_max', 'Martynov_Batsanov_EN_min', 'melting_point_K_A', 'melting_point_K_max', 'density_A', 'density_B', 'density_A-B', 'density_max', 'density_min', 'density_avg', 'specific_heat_A-B', 'specific_heat_max', 'specific_heat_avg', 'specific_heat_weighted_norm_A+B', 'cohesive_energy_A', 'cohesive_energy_B', 'cohesive_energy_A/B', 'cohesive_energy_avg', 'bulk_modulus_A', 'bulk_modulus_A/B', 'bulk_modulus_avg'], \u001b[1mScore = 0.8750\u001b[0m\n",
      "\n",
      "\n",
      "\u001b[1mIteration 68:\u001b[0m \u001b[1mRemoved\u001b[0m 'cohesive_energy_B', \u001b[1mRemaining\u001b[0m = ['normalized_index_B', 'atomic_weight_A/B', 'atomic_weight_A-B', 'group_A', 'group_B', 'group_A-B', 'Mendeleev_number_A', 'Mendeleev_number_B', 'valencee_total_B', 'valencee_total_A-B', 'valencee_total_weighted_A+B', 'valencee_total_weighted_norm_A+B', 'unpaired_electrons_A', 'unpaired_electrons_A-B', 'unpaired_electrons_A+B', 'unpaired_electrons_weighted_norm_A+B', 'Gilman_A', 'Z_eff_A', 'Z_eff_A-B', 'Z_eff_max', 'Z_eff_min', 'Z_eff_weighted_norm_A+B', 'ionization_energy_B', 'ionization_energy_A-B', 'ionization_energy_A/B', 'ionization_energy_avg', 'polyhedron_distortion_B', 'polyhedron_distortion_max', 'polyhedron_distortion_min', 'polyhedron_distortion_avg', 'CIF_radius_A', 'CIF_radius_B', 'CIF_radius_A-B', 'CIF_radius_weighted_norm_A+B', 'Pauling_radius_CN12_avg', 'Pauling_EN_A', 'Pauling_EN_B', 'Pauling_EN_A-B', 'Pauling_EN_max', 'Pauling_EN_min', 'Pauling_EN_weighted_norm_A+B', 'Martynov_Batsanov_EN_A', 'Martynov_Batsanov_EN_B', 'Martynov_Batsanov_EN_A-B', 'Martynov_Batsanov_EN_A/B', 'Martynov_Batsanov_EN_max', 'Martynov_Batsanov_EN_min', 'melting_point_K_A', 'melting_point_K_max', 'density_A', 'density_B', 'density_A-B', 'density_max', 'density_min', 'density_avg', 'specific_heat_A-B', 'specific_heat_max', 'specific_heat_avg', 'specific_heat_weighted_norm_A+B', 'cohesive_energy_A', 'cohesive_energy_A/B', 'cohesive_energy_avg', 'bulk_modulus_A', 'bulk_modulus_A/B', 'bulk_modulus_avg'], \u001b[1mScore = 0.8750\u001b[0m\n",
      "\n",
      "\n",
      "\u001b[1mIteration 69:\u001b[0m \u001b[1mRemoved\u001b[0m 'bulk_modulus_avg', \u001b[1mRemaining\u001b[0m = ['normalized_index_B', 'atomic_weight_A/B', 'atomic_weight_A-B', 'group_A', 'group_B', 'group_A-B', 'Mendeleev_number_A', 'Mendeleev_number_B', 'valencee_total_B', 'valencee_total_A-B', 'valencee_total_weighted_A+B', 'valencee_total_weighted_norm_A+B', 'unpaired_electrons_A', 'unpaired_electrons_A-B', 'unpaired_electrons_A+B', 'unpaired_electrons_weighted_norm_A+B', 'Gilman_A', 'Z_eff_A', 'Z_eff_A-B', 'Z_eff_max', 'Z_eff_min', 'Z_eff_weighted_norm_A+B', 'ionization_energy_B', 'ionization_energy_A-B', 'ionization_energy_A/B', 'ionization_energy_avg', 'polyhedron_distortion_B', 'polyhedron_distortion_max', 'polyhedron_distortion_min', 'polyhedron_distortion_avg', 'CIF_radius_A', 'CIF_radius_B', 'CIF_radius_A-B', 'CIF_radius_weighted_norm_A+B', 'Pauling_radius_CN12_avg', 'Pauling_EN_A', 'Pauling_EN_B', 'Pauling_EN_A-B', 'Pauling_EN_max', 'Pauling_EN_min', 'Pauling_EN_weighted_norm_A+B', 'Martynov_Batsanov_EN_A', 'Martynov_Batsanov_EN_B', 'Martynov_Batsanov_EN_A-B', 'Martynov_Batsanov_EN_A/B', 'Martynov_Batsanov_EN_max', 'Martynov_Batsanov_EN_min', 'melting_point_K_A', 'melting_point_K_max', 'density_A', 'density_B', 'density_A-B', 'density_max', 'density_min', 'density_avg', 'specific_heat_A-B', 'specific_heat_max', 'specific_heat_avg', 'specific_heat_weighted_norm_A+B', 'cohesive_energy_A', 'cohesive_energy_A/B', 'cohesive_energy_avg', 'bulk_modulus_A', 'bulk_modulus_A/B'], \u001b[1mScore = 0.8750\u001b[0m\n",
      "\n",
      "\n",
      "\u001b[1mIteration 70:\u001b[0m \u001b[1mRemoved\u001b[0m 'unpaired_electrons_A+B', \u001b[1mRemaining\u001b[0m = ['normalized_index_B', 'atomic_weight_A/B', 'atomic_weight_A-B', 'group_A', 'group_B', 'group_A-B', 'Mendeleev_number_A', 'Mendeleev_number_B', 'valencee_total_B', 'valencee_total_A-B', 'valencee_total_weighted_A+B', 'valencee_total_weighted_norm_A+B', 'unpaired_electrons_A', 'unpaired_electrons_A-B', 'unpaired_electrons_weighted_norm_A+B', 'Gilman_A', 'Z_eff_A', 'Z_eff_A-B', 'Z_eff_max', 'Z_eff_min', 'Z_eff_weighted_norm_A+B', 'ionization_energy_B', 'ionization_energy_A-B', 'ionization_energy_A/B', 'ionization_energy_avg', 'polyhedron_distortion_B', 'polyhedron_distortion_max', 'polyhedron_distortion_min', 'polyhedron_distortion_avg', 'CIF_radius_A', 'CIF_radius_B', 'CIF_radius_A-B', 'CIF_radius_weighted_norm_A+B', 'Pauling_radius_CN12_avg', 'Pauling_EN_A', 'Pauling_EN_B', 'Pauling_EN_A-B', 'Pauling_EN_max', 'Pauling_EN_min', 'Pauling_EN_weighted_norm_A+B', 'Martynov_Batsanov_EN_A', 'Martynov_Batsanov_EN_B', 'Martynov_Batsanov_EN_A-B', 'Martynov_Batsanov_EN_A/B', 'Martynov_Batsanov_EN_max', 'Martynov_Batsanov_EN_min', 'melting_point_K_A', 'melting_point_K_max', 'density_A', 'density_B', 'density_A-B', 'density_max', 'density_min', 'density_avg', 'specific_heat_A-B', 'specific_heat_max', 'specific_heat_avg', 'specific_heat_weighted_norm_A+B', 'cohesive_energy_A', 'cohesive_energy_A/B', 'cohesive_energy_avg', 'bulk_modulus_A', 'bulk_modulus_A/B'], \u001b[1mScore = 0.8750\u001b[0m\n",
      "\n",
      "\n",
      "\u001b[1mIteration 71:\u001b[0m \u001b[1mRemoved\u001b[0m 'bulk_modulus_A', \u001b[1mRemaining\u001b[0m = ['normalized_index_B', 'atomic_weight_A/B', 'atomic_weight_A-B', 'group_A', 'group_B', 'group_A-B', 'Mendeleev_number_A', 'Mendeleev_number_B', 'valencee_total_B', 'valencee_total_A-B', 'valencee_total_weighted_A+B', 'valencee_total_weighted_norm_A+B', 'unpaired_electrons_A', 'unpaired_electrons_A-B', 'unpaired_electrons_weighted_norm_A+B', 'Gilman_A', 'Z_eff_A', 'Z_eff_A-B', 'Z_eff_max', 'Z_eff_min', 'Z_eff_weighted_norm_A+B', 'ionization_energy_B', 'ionization_energy_A-B', 'ionization_energy_A/B', 'ionization_energy_avg', 'polyhedron_distortion_B', 'polyhedron_distortion_max', 'polyhedron_distortion_min', 'polyhedron_distortion_avg', 'CIF_radius_A', 'CIF_radius_B', 'CIF_radius_A-B', 'CIF_radius_weighted_norm_A+B', 'Pauling_radius_CN12_avg', 'Pauling_EN_A', 'Pauling_EN_B', 'Pauling_EN_A-B', 'Pauling_EN_max', 'Pauling_EN_min', 'Pauling_EN_weighted_norm_A+B', 'Martynov_Batsanov_EN_A', 'Martynov_Batsanov_EN_B', 'Martynov_Batsanov_EN_A-B', 'Martynov_Batsanov_EN_A/B', 'Martynov_Batsanov_EN_max', 'Martynov_Batsanov_EN_min', 'melting_point_K_A', 'melting_point_K_max', 'density_A', 'density_B', 'density_A-B', 'density_max', 'density_min', 'density_avg', 'specific_heat_A-B', 'specific_heat_max', 'specific_heat_avg', 'specific_heat_weighted_norm_A+B', 'cohesive_energy_A', 'cohesive_energy_A/B', 'cohesive_energy_avg', 'bulk_modulus_A/B'], \u001b[1mScore = 0.8750\u001b[0m\n",
      "\n",
      "\n",
      "\u001b[1mIteration 72:\u001b[0m \u001b[1mRemoved\u001b[0m 'polyhedron_distortion_max', \u001b[1mRemaining\u001b[0m = ['normalized_index_B', 'atomic_weight_A/B', 'atomic_weight_A-B', 'group_A', 'group_B', 'group_A-B', 'Mendeleev_number_A', 'Mendeleev_number_B', 'valencee_total_B', 'valencee_total_A-B', 'valencee_total_weighted_A+B', 'valencee_total_weighted_norm_A+B', 'unpaired_electrons_A', 'unpaired_electrons_A-B', 'unpaired_electrons_weighted_norm_A+B', 'Gilman_A', 'Z_eff_A', 'Z_eff_A-B', 'Z_eff_max', 'Z_eff_min', 'Z_eff_weighted_norm_A+B', 'ionization_energy_B', 'ionization_energy_A-B', 'ionization_energy_A/B', 'ionization_energy_avg', 'polyhedron_distortion_B', 'polyhedron_distortion_min', 'polyhedron_distortion_avg', 'CIF_radius_A', 'CIF_radius_B', 'CIF_radius_A-B', 'CIF_radius_weighted_norm_A+B', 'Pauling_radius_CN12_avg', 'Pauling_EN_A', 'Pauling_EN_B', 'Pauling_EN_A-B', 'Pauling_EN_max', 'Pauling_EN_min', 'Pauling_EN_weighted_norm_A+B', 'Martynov_Batsanov_EN_A', 'Martynov_Batsanov_EN_B', 'Martynov_Batsanov_EN_A-B', 'Martynov_Batsanov_EN_A/B', 'Martynov_Batsanov_EN_max', 'Martynov_Batsanov_EN_min', 'melting_point_K_A', 'melting_point_K_max', 'density_A', 'density_B', 'density_A-B', 'density_max', 'density_min', 'density_avg', 'specific_heat_A-B', 'specific_heat_max', 'specific_heat_avg', 'specific_heat_weighted_norm_A+B', 'cohesive_energy_A', 'cohesive_energy_A/B', 'cohesive_energy_avg', 'bulk_modulus_A/B'], \u001b[1mScore = 0.8750\u001b[0m\n",
      "\n",
      "\n",
      "\u001b[1mIteration 73:\u001b[0m \u001b[1mRemoved\u001b[0m 'specific_heat_avg', \u001b[1mRemaining\u001b[0m = ['normalized_index_B', 'atomic_weight_A/B', 'atomic_weight_A-B', 'group_A', 'group_B', 'group_A-B', 'Mendeleev_number_A', 'Mendeleev_number_B', 'valencee_total_B', 'valencee_total_A-B', 'valencee_total_weighted_A+B', 'valencee_total_weighted_norm_A+B', 'unpaired_electrons_A', 'unpaired_electrons_A-B', 'unpaired_electrons_weighted_norm_A+B', 'Gilman_A', 'Z_eff_A', 'Z_eff_A-B', 'Z_eff_max', 'Z_eff_min', 'Z_eff_weighted_norm_A+B', 'ionization_energy_B', 'ionization_energy_A-B', 'ionization_energy_A/B', 'ionization_energy_avg', 'polyhedron_distortion_B', 'polyhedron_distortion_min', 'polyhedron_distortion_avg', 'CIF_radius_A', 'CIF_radius_B', 'CIF_radius_A-B', 'CIF_radius_weighted_norm_A+B', 'Pauling_radius_CN12_avg', 'Pauling_EN_A', 'Pauling_EN_B', 'Pauling_EN_A-B', 'Pauling_EN_max', 'Pauling_EN_min', 'Pauling_EN_weighted_norm_A+B', 'Martynov_Batsanov_EN_A', 'Martynov_Batsanov_EN_B', 'Martynov_Batsanov_EN_A-B', 'Martynov_Batsanov_EN_A/B', 'Martynov_Batsanov_EN_max', 'Martynov_Batsanov_EN_min', 'melting_point_K_A', 'melting_point_K_max', 'density_A', 'density_B', 'density_A-B', 'density_max', 'density_min', 'density_avg', 'specific_heat_A-B', 'specific_heat_max', 'specific_heat_weighted_norm_A+B', 'cohesive_energy_A', 'cohesive_energy_A/B', 'cohesive_energy_avg', 'bulk_modulus_A/B'], \u001b[1mScore = 0.8750\u001b[0m\n",
      "\n",
      "\n",
      "\u001b[1mIteration 74:\u001b[0m \u001b[1mRemoved\u001b[0m 'specific_heat_weighted_norm_A+B', \u001b[1mRemaining\u001b[0m = ['normalized_index_B', 'atomic_weight_A/B', 'atomic_weight_A-B', 'group_A', 'group_B', 'group_A-B', 'Mendeleev_number_A', 'Mendeleev_number_B', 'valencee_total_B', 'valencee_total_A-B', 'valencee_total_weighted_A+B', 'valencee_total_weighted_norm_A+B', 'unpaired_electrons_A', 'unpaired_electrons_A-B', 'unpaired_electrons_weighted_norm_A+B', 'Gilman_A', 'Z_eff_A', 'Z_eff_A-B', 'Z_eff_max', 'Z_eff_min', 'Z_eff_weighted_norm_A+B', 'ionization_energy_B', 'ionization_energy_A-B', 'ionization_energy_A/B', 'ionization_energy_avg', 'polyhedron_distortion_B', 'polyhedron_distortion_min', 'polyhedron_distortion_avg', 'CIF_radius_A', 'CIF_radius_B', 'CIF_radius_A-B', 'CIF_radius_weighted_norm_A+B', 'Pauling_radius_CN12_avg', 'Pauling_EN_A', 'Pauling_EN_B', 'Pauling_EN_A-B', 'Pauling_EN_max', 'Pauling_EN_min', 'Pauling_EN_weighted_norm_A+B', 'Martynov_Batsanov_EN_A', 'Martynov_Batsanov_EN_B', 'Martynov_Batsanov_EN_A-B', 'Martynov_Batsanov_EN_A/B', 'Martynov_Batsanov_EN_max', 'Martynov_Batsanov_EN_min', 'melting_point_K_A', 'melting_point_K_max', 'density_A', 'density_B', 'density_A-B', 'density_max', 'density_min', 'density_avg', 'specific_heat_A-B', 'specific_heat_max', 'cohesive_energy_A', 'cohesive_energy_A/B', 'cohesive_energy_avg', 'bulk_modulus_A/B'], \u001b[1mScore = 0.8750\u001b[0m\n",
      "\n",
      "\n",
      "\u001b[1mIteration 75:\u001b[0m \u001b[1mRemoved\u001b[0m 'Martynov_Batsanov_EN_A/B', \u001b[1mRemaining\u001b[0m = ['normalized_index_B', 'atomic_weight_A/B', 'atomic_weight_A-B', 'group_A', 'group_B', 'group_A-B', 'Mendeleev_number_A', 'Mendeleev_number_B', 'valencee_total_B', 'valencee_total_A-B', 'valencee_total_weighted_A+B', 'valencee_total_weighted_norm_A+B', 'unpaired_electrons_A', 'unpaired_electrons_A-B', 'unpaired_electrons_weighted_norm_A+B', 'Gilman_A', 'Z_eff_A', 'Z_eff_A-B', 'Z_eff_max', 'Z_eff_min', 'Z_eff_weighted_norm_A+B', 'ionization_energy_B', 'ionization_energy_A-B', 'ionization_energy_A/B', 'ionization_energy_avg', 'polyhedron_distortion_B', 'polyhedron_distortion_min', 'polyhedron_distortion_avg', 'CIF_radius_A', 'CIF_radius_B', 'CIF_radius_A-B', 'CIF_radius_weighted_norm_A+B', 'Pauling_radius_CN12_avg', 'Pauling_EN_A', 'Pauling_EN_B', 'Pauling_EN_A-B', 'Pauling_EN_max', 'Pauling_EN_min', 'Pauling_EN_weighted_norm_A+B', 'Martynov_Batsanov_EN_A', 'Martynov_Batsanov_EN_B', 'Martynov_Batsanov_EN_A-B', 'Martynov_Batsanov_EN_max', 'Martynov_Batsanov_EN_min', 'melting_point_K_A', 'melting_point_K_max', 'density_A', 'density_B', 'density_A-B', 'density_max', 'density_min', 'density_avg', 'specific_heat_A-B', 'specific_heat_max', 'cohesive_energy_A', 'cohesive_energy_A/B', 'cohesive_energy_avg', 'bulk_modulus_A/B'], \u001b[1mScore = 0.8750\u001b[0m\n",
      "\n",
      "\n",
      "\u001b[1mIteration 76:\u001b[0m \u001b[1mRemoved\u001b[0m 'normalized_index_B', \u001b[1mRemaining\u001b[0m = ['atomic_weight_A/B', 'atomic_weight_A-B', 'group_A', 'group_B', 'group_A-B', 'Mendeleev_number_A', 'Mendeleev_number_B', 'valencee_total_B', 'valencee_total_A-B', 'valencee_total_weighted_A+B', 'valencee_total_weighted_norm_A+B', 'unpaired_electrons_A', 'unpaired_electrons_A-B', 'unpaired_electrons_weighted_norm_A+B', 'Gilman_A', 'Z_eff_A', 'Z_eff_A-B', 'Z_eff_max', 'Z_eff_min', 'Z_eff_weighted_norm_A+B', 'ionization_energy_B', 'ionization_energy_A-B', 'ionization_energy_A/B', 'ionization_energy_avg', 'polyhedron_distortion_B', 'polyhedron_distortion_min', 'polyhedron_distortion_avg', 'CIF_radius_A', 'CIF_radius_B', 'CIF_radius_A-B', 'CIF_radius_weighted_norm_A+B', 'Pauling_radius_CN12_avg', 'Pauling_EN_A', 'Pauling_EN_B', 'Pauling_EN_A-B', 'Pauling_EN_max', 'Pauling_EN_min', 'Pauling_EN_weighted_norm_A+B', 'Martynov_Batsanov_EN_A', 'Martynov_Batsanov_EN_B', 'Martynov_Batsanov_EN_A-B', 'Martynov_Batsanov_EN_max', 'Martynov_Batsanov_EN_min', 'melting_point_K_A', 'melting_point_K_max', 'density_A', 'density_B', 'density_A-B', 'density_max', 'density_min', 'density_avg', 'specific_heat_A-B', 'specific_heat_max', 'cohesive_energy_A', 'cohesive_energy_A/B', 'cohesive_energy_avg', 'bulk_modulus_A/B'], \u001b[1mScore = 0.8750\u001b[0m\n",
      "\n",
      "\n",
      "\u001b[1mIteration 77:\u001b[0m \u001b[1mRemoved\u001b[0m 'group_A-B', \u001b[1mRemaining\u001b[0m = ['atomic_weight_A/B', 'atomic_weight_A-B', 'group_A', 'group_B', 'Mendeleev_number_A', 'Mendeleev_number_B', 'valencee_total_B', 'valencee_total_A-B', 'valencee_total_weighted_A+B', 'valencee_total_weighted_norm_A+B', 'unpaired_electrons_A', 'unpaired_electrons_A-B', 'unpaired_electrons_weighted_norm_A+B', 'Gilman_A', 'Z_eff_A', 'Z_eff_A-B', 'Z_eff_max', 'Z_eff_min', 'Z_eff_weighted_norm_A+B', 'ionization_energy_B', 'ionization_energy_A-B', 'ionization_energy_A/B', 'ionization_energy_avg', 'polyhedron_distortion_B', 'polyhedron_distortion_min', 'polyhedron_distortion_avg', 'CIF_radius_A', 'CIF_radius_B', 'CIF_radius_A-B', 'CIF_radius_weighted_norm_A+B', 'Pauling_radius_CN12_avg', 'Pauling_EN_A', 'Pauling_EN_B', 'Pauling_EN_A-B', 'Pauling_EN_max', 'Pauling_EN_min', 'Pauling_EN_weighted_norm_A+B', 'Martynov_Batsanov_EN_A', 'Martynov_Batsanov_EN_B', 'Martynov_Batsanov_EN_A-B', 'Martynov_Batsanov_EN_max', 'Martynov_Batsanov_EN_min', 'melting_point_K_A', 'melting_point_K_max', 'density_A', 'density_B', 'density_A-B', 'density_max', 'density_min', 'density_avg', 'specific_heat_A-B', 'specific_heat_max', 'cohesive_energy_A', 'cohesive_energy_A/B', 'cohesive_energy_avg', 'bulk_modulus_A/B'], \u001b[1mScore = 0.8750\u001b[0m\n",
      "\n",
      "\n",
      "\u001b[1mIteration 78:\u001b[0m \u001b[1mRemoved\u001b[0m 'density_min', \u001b[1mRemaining\u001b[0m = ['atomic_weight_A/B', 'atomic_weight_A-B', 'group_A', 'group_B', 'Mendeleev_number_A', 'Mendeleev_number_B', 'valencee_total_B', 'valencee_total_A-B', 'valencee_total_weighted_A+B', 'valencee_total_weighted_norm_A+B', 'unpaired_electrons_A', 'unpaired_electrons_A-B', 'unpaired_electrons_weighted_norm_A+B', 'Gilman_A', 'Z_eff_A', 'Z_eff_A-B', 'Z_eff_max', 'Z_eff_min', 'Z_eff_weighted_norm_A+B', 'ionization_energy_B', 'ionization_energy_A-B', 'ionization_energy_A/B', 'ionization_energy_avg', 'polyhedron_distortion_B', 'polyhedron_distortion_min', 'polyhedron_distortion_avg', 'CIF_radius_A', 'CIF_radius_B', 'CIF_radius_A-B', 'CIF_radius_weighted_norm_A+B', 'Pauling_radius_CN12_avg', 'Pauling_EN_A', 'Pauling_EN_B', 'Pauling_EN_A-B', 'Pauling_EN_max', 'Pauling_EN_min', 'Pauling_EN_weighted_norm_A+B', 'Martynov_Batsanov_EN_A', 'Martynov_Batsanov_EN_B', 'Martynov_Batsanov_EN_A-B', 'Martynov_Batsanov_EN_max', 'Martynov_Batsanov_EN_min', 'melting_point_K_A', 'melting_point_K_max', 'density_A', 'density_B', 'density_A-B', 'density_max', 'density_avg', 'specific_heat_A-B', 'specific_heat_max', 'cohesive_energy_A', 'cohesive_energy_A/B', 'cohesive_energy_avg', 'bulk_modulus_A/B'], \u001b[1mScore = 0.8750\u001b[0m\n",
      "\n",
      "\n",
      "\u001b[1mIteration 79:\u001b[0m \u001b[1mRemoved\u001b[0m 'Martynov_Batsanov_EN_A-B', \u001b[1mRemaining\u001b[0m = ['atomic_weight_A/B', 'atomic_weight_A-B', 'group_A', 'group_B', 'Mendeleev_number_A', 'Mendeleev_number_B', 'valencee_total_B', 'valencee_total_A-B', 'valencee_total_weighted_A+B', 'valencee_total_weighted_norm_A+B', 'unpaired_electrons_A', 'unpaired_electrons_A-B', 'unpaired_electrons_weighted_norm_A+B', 'Gilman_A', 'Z_eff_A', 'Z_eff_A-B', 'Z_eff_max', 'Z_eff_min', 'Z_eff_weighted_norm_A+B', 'ionization_energy_B', 'ionization_energy_A-B', 'ionization_energy_A/B', 'ionization_energy_avg', 'polyhedron_distortion_B', 'polyhedron_distortion_min', 'polyhedron_distortion_avg', 'CIF_radius_A', 'CIF_radius_B', 'CIF_radius_A-B', 'CIF_radius_weighted_norm_A+B', 'Pauling_radius_CN12_avg', 'Pauling_EN_A', 'Pauling_EN_B', 'Pauling_EN_A-B', 'Pauling_EN_max', 'Pauling_EN_min', 'Pauling_EN_weighted_norm_A+B', 'Martynov_Batsanov_EN_A', 'Martynov_Batsanov_EN_B', 'Martynov_Batsanov_EN_max', 'Martynov_Batsanov_EN_min', 'melting_point_K_A', 'melting_point_K_max', 'density_A', 'density_B', 'density_A-B', 'density_max', 'density_avg', 'specific_heat_A-B', 'specific_heat_max', 'cohesive_energy_A', 'cohesive_energy_A/B', 'cohesive_energy_avg', 'bulk_modulus_A/B'], \u001b[1mScore = 0.8750\u001b[0m\n",
      "\n",
      "\n",
      "\u001b[1mIteration 80:\u001b[0m \u001b[1mRemoved\u001b[0m 'melting_point_K_A', \u001b[1mRemaining\u001b[0m = ['atomic_weight_A/B', 'atomic_weight_A-B', 'group_A', 'group_B', 'Mendeleev_number_A', 'Mendeleev_number_B', 'valencee_total_B', 'valencee_total_A-B', 'valencee_total_weighted_A+B', 'valencee_total_weighted_norm_A+B', 'unpaired_electrons_A', 'unpaired_electrons_A-B', 'unpaired_electrons_weighted_norm_A+B', 'Gilman_A', 'Z_eff_A', 'Z_eff_A-B', 'Z_eff_max', 'Z_eff_min', 'Z_eff_weighted_norm_A+B', 'ionization_energy_B', 'ionization_energy_A-B', 'ionization_energy_A/B', 'ionization_energy_avg', 'polyhedron_distortion_B', 'polyhedron_distortion_min', 'polyhedron_distortion_avg', 'CIF_radius_A', 'CIF_radius_B', 'CIF_radius_A-B', 'CIF_radius_weighted_norm_A+B', 'Pauling_radius_CN12_avg', 'Pauling_EN_A', 'Pauling_EN_B', 'Pauling_EN_A-B', 'Pauling_EN_max', 'Pauling_EN_min', 'Pauling_EN_weighted_norm_A+B', 'Martynov_Batsanov_EN_A', 'Martynov_Batsanov_EN_B', 'Martynov_Batsanov_EN_max', 'Martynov_Batsanov_EN_min', 'melting_point_K_max', 'density_A', 'density_B', 'density_A-B', 'density_max', 'density_avg', 'specific_heat_A-B', 'specific_heat_max', 'cohesive_energy_A', 'cohesive_energy_A/B', 'cohesive_energy_avg', 'bulk_modulus_A/B'], \u001b[1mScore = 0.8750\u001b[0m\n",
      "\n",
      "\n",
      "\u001b[1mIteration 81:\u001b[0m \u001b[1mRemoved\u001b[0m 'unpaired_electrons_weighted_norm_A+B', \u001b[1mRemaining\u001b[0m = ['atomic_weight_A/B', 'atomic_weight_A-B', 'group_A', 'group_B', 'Mendeleev_number_A', 'Mendeleev_number_B', 'valencee_total_B', 'valencee_total_A-B', 'valencee_total_weighted_A+B', 'valencee_total_weighted_norm_A+B', 'unpaired_electrons_A', 'unpaired_electrons_A-B', 'Gilman_A', 'Z_eff_A', 'Z_eff_A-B', 'Z_eff_max', 'Z_eff_min', 'Z_eff_weighted_norm_A+B', 'ionization_energy_B', 'ionization_energy_A-B', 'ionization_energy_A/B', 'ionization_energy_avg', 'polyhedron_distortion_B', 'polyhedron_distortion_min', 'polyhedron_distortion_avg', 'CIF_radius_A', 'CIF_radius_B', 'CIF_radius_A-B', 'CIF_radius_weighted_norm_A+B', 'Pauling_radius_CN12_avg', 'Pauling_EN_A', 'Pauling_EN_B', 'Pauling_EN_A-B', 'Pauling_EN_max', 'Pauling_EN_min', 'Pauling_EN_weighted_norm_A+B', 'Martynov_Batsanov_EN_A', 'Martynov_Batsanov_EN_B', 'Martynov_Batsanov_EN_max', 'Martynov_Batsanov_EN_min', 'melting_point_K_max', 'density_A', 'density_B', 'density_A-B', 'density_max', 'density_avg', 'specific_heat_A-B', 'specific_heat_max', 'cohesive_energy_A', 'cohesive_energy_A/B', 'cohesive_energy_avg', 'bulk_modulus_A/B'], \u001b[1mScore = 0.8750\u001b[0m\n",
      "\n",
      "\n",
      "\u001b[1mIteration 82:\u001b[0m \u001b[1mRemoved\u001b[0m 'valencee_total_B', \u001b[1mRemaining\u001b[0m = ['atomic_weight_A/B', 'atomic_weight_A-B', 'group_A', 'group_B', 'Mendeleev_number_A', 'Mendeleev_number_B', 'valencee_total_A-B', 'valencee_total_weighted_A+B', 'valencee_total_weighted_norm_A+B', 'unpaired_electrons_A', 'unpaired_electrons_A-B', 'Gilman_A', 'Z_eff_A', 'Z_eff_A-B', 'Z_eff_max', 'Z_eff_min', 'Z_eff_weighted_norm_A+B', 'ionization_energy_B', 'ionization_energy_A-B', 'ionization_energy_A/B', 'ionization_energy_avg', 'polyhedron_distortion_B', 'polyhedron_distortion_min', 'polyhedron_distortion_avg', 'CIF_radius_A', 'CIF_radius_B', 'CIF_radius_A-B', 'CIF_radius_weighted_norm_A+B', 'Pauling_radius_CN12_avg', 'Pauling_EN_A', 'Pauling_EN_B', 'Pauling_EN_A-B', 'Pauling_EN_max', 'Pauling_EN_min', 'Pauling_EN_weighted_norm_A+B', 'Martynov_Batsanov_EN_A', 'Martynov_Batsanov_EN_B', 'Martynov_Batsanov_EN_max', 'Martynov_Batsanov_EN_min', 'melting_point_K_max', 'density_A', 'density_B', 'density_A-B', 'density_max', 'density_avg', 'specific_heat_A-B', 'specific_heat_max', 'cohesive_energy_A', 'cohesive_energy_A/B', 'cohesive_energy_avg', 'bulk_modulus_A/B'], \u001b[1mScore = 0.8750\u001b[0m\n",
      "\n",
      "\n",
      "\u001b[1mIteration 83:\u001b[0m \u001b[1mRemoved\u001b[0m 'polyhedron_distortion_avg', \u001b[1mRemaining\u001b[0m = ['atomic_weight_A/B', 'atomic_weight_A-B', 'group_A', 'group_B', 'Mendeleev_number_A', 'Mendeleev_number_B', 'valencee_total_A-B', 'valencee_total_weighted_A+B', 'valencee_total_weighted_norm_A+B', 'unpaired_electrons_A', 'unpaired_electrons_A-B', 'Gilman_A', 'Z_eff_A', 'Z_eff_A-B', 'Z_eff_max', 'Z_eff_min', 'Z_eff_weighted_norm_A+B', 'ionization_energy_B', 'ionization_energy_A-B', 'ionization_energy_A/B', 'ionization_energy_avg', 'polyhedron_distortion_B', 'polyhedron_distortion_min', 'CIF_radius_A', 'CIF_radius_B', 'CIF_radius_A-B', 'CIF_radius_weighted_norm_A+B', 'Pauling_radius_CN12_avg', 'Pauling_EN_A', 'Pauling_EN_B', 'Pauling_EN_A-B', 'Pauling_EN_max', 'Pauling_EN_min', 'Pauling_EN_weighted_norm_A+B', 'Martynov_Batsanov_EN_A', 'Martynov_Batsanov_EN_B', 'Martynov_Batsanov_EN_max', 'Martynov_Batsanov_EN_min', 'melting_point_K_max', 'density_A', 'density_B', 'density_A-B', 'density_max', 'density_avg', 'specific_heat_A-B', 'specific_heat_max', 'cohesive_energy_A', 'cohesive_energy_A/B', 'cohesive_energy_avg', 'bulk_modulus_A/B'], \u001b[1mScore = 0.8750\u001b[0m\n",
      "\n",
      "\n",
      "\u001b[1mIteration 84:\u001b[0m \u001b[1mRemoved\u001b[0m 'Z_eff_max', \u001b[1mRemaining\u001b[0m = ['atomic_weight_A/B', 'atomic_weight_A-B', 'group_A', 'group_B', 'Mendeleev_number_A', 'Mendeleev_number_B', 'valencee_total_A-B', 'valencee_total_weighted_A+B', 'valencee_total_weighted_norm_A+B', 'unpaired_electrons_A', 'unpaired_electrons_A-B', 'Gilman_A', 'Z_eff_A', 'Z_eff_A-B', 'Z_eff_min', 'Z_eff_weighted_norm_A+B', 'ionization_energy_B', 'ionization_energy_A-B', 'ionization_energy_A/B', 'ionization_energy_avg', 'polyhedron_distortion_B', 'polyhedron_distortion_min', 'CIF_radius_A', 'CIF_radius_B', 'CIF_radius_A-B', 'CIF_radius_weighted_norm_A+B', 'Pauling_radius_CN12_avg', 'Pauling_EN_A', 'Pauling_EN_B', 'Pauling_EN_A-B', 'Pauling_EN_max', 'Pauling_EN_min', 'Pauling_EN_weighted_norm_A+B', 'Martynov_Batsanov_EN_A', 'Martynov_Batsanov_EN_B', 'Martynov_Batsanov_EN_max', 'Martynov_Batsanov_EN_min', 'melting_point_K_max', 'density_A', 'density_B', 'density_A-B', 'density_max', 'density_avg', 'specific_heat_A-B', 'specific_heat_max', 'cohesive_energy_A', 'cohesive_energy_A/B', 'cohesive_energy_avg', 'bulk_modulus_A/B'], \u001b[1mScore = 0.8750\u001b[0m\n",
      "\n",
      "\n",
      "\u001b[1mIteration 85:\u001b[0m \u001b[1mRemoved\u001b[0m 'melting_point_K_max', \u001b[1mRemaining\u001b[0m = ['atomic_weight_A/B', 'atomic_weight_A-B', 'group_A', 'group_B', 'Mendeleev_number_A', 'Mendeleev_number_B', 'valencee_total_A-B', 'valencee_total_weighted_A+B', 'valencee_total_weighted_norm_A+B', 'unpaired_electrons_A', 'unpaired_electrons_A-B', 'Gilman_A', 'Z_eff_A', 'Z_eff_A-B', 'Z_eff_min', 'Z_eff_weighted_norm_A+B', 'ionization_energy_B', 'ionization_energy_A-B', 'ionization_energy_A/B', 'ionization_energy_avg', 'polyhedron_distortion_B', 'polyhedron_distortion_min', 'CIF_radius_A', 'CIF_radius_B', 'CIF_radius_A-B', 'CIF_radius_weighted_norm_A+B', 'Pauling_radius_CN12_avg', 'Pauling_EN_A', 'Pauling_EN_B', 'Pauling_EN_A-B', 'Pauling_EN_max', 'Pauling_EN_min', 'Pauling_EN_weighted_norm_A+B', 'Martynov_Batsanov_EN_A', 'Martynov_Batsanov_EN_B', 'Martynov_Batsanov_EN_max', 'Martynov_Batsanov_EN_min', 'density_A', 'density_B', 'density_A-B', 'density_max', 'density_avg', 'specific_heat_A-B', 'specific_heat_max', 'cohesive_energy_A', 'cohesive_energy_A/B', 'cohesive_energy_avg', 'bulk_modulus_A/B'], \u001b[1mScore = 0.8750\u001b[0m\n",
      "\n",
      "\n",
      "\u001b[1mIteration 86:\u001b[0m \u001b[1mRemoved\u001b[0m 'Martynov_Batsanov_EN_max', \u001b[1mRemaining\u001b[0m = ['atomic_weight_A/B', 'atomic_weight_A-B', 'group_A', 'group_B', 'Mendeleev_number_A', 'Mendeleev_number_B', 'valencee_total_A-B', 'valencee_total_weighted_A+B', 'valencee_total_weighted_norm_A+B', 'unpaired_electrons_A', 'unpaired_electrons_A-B', 'Gilman_A', 'Z_eff_A', 'Z_eff_A-B', 'Z_eff_min', 'Z_eff_weighted_norm_A+B', 'ionization_energy_B', 'ionization_energy_A-B', 'ionization_energy_A/B', 'ionization_energy_avg', 'polyhedron_distortion_B', 'polyhedron_distortion_min', 'CIF_radius_A', 'CIF_radius_B', 'CIF_radius_A-B', 'CIF_radius_weighted_norm_A+B', 'Pauling_radius_CN12_avg', 'Pauling_EN_A', 'Pauling_EN_B', 'Pauling_EN_A-B', 'Pauling_EN_max', 'Pauling_EN_min', 'Pauling_EN_weighted_norm_A+B', 'Martynov_Batsanov_EN_A', 'Martynov_Batsanov_EN_B', 'Martynov_Batsanov_EN_min', 'density_A', 'density_B', 'density_A-B', 'density_max', 'density_avg', 'specific_heat_A-B', 'specific_heat_max', 'cohesive_energy_A', 'cohesive_energy_A/B', 'cohesive_energy_avg', 'bulk_modulus_A/B'], \u001b[1mScore = 0.8750\u001b[0m\n",
      "\n",
      "\n",
      "\u001b[1mIteration 87:\u001b[0m \u001b[1mRemoved\u001b[0m 'valencee_total_A-B', \u001b[1mRemaining\u001b[0m = ['atomic_weight_A/B', 'atomic_weight_A-B', 'group_A', 'group_B', 'Mendeleev_number_A', 'Mendeleev_number_B', 'valencee_total_weighted_A+B', 'valencee_total_weighted_norm_A+B', 'unpaired_electrons_A', 'unpaired_electrons_A-B', 'Gilman_A', 'Z_eff_A', 'Z_eff_A-B', 'Z_eff_min', 'Z_eff_weighted_norm_A+B', 'ionization_energy_B', 'ionization_energy_A-B', 'ionization_energy_A/B', 'ionization_energy_avg', 'polyhedron_distortion_B', 'polyhedron_distortion_min', 'CIF_radius_A', 'CIF_radius_B', 'CIF_radius_A-B', 'CIF_radius_weighted_norm_A+B', 'Pauling_radius_CN12_avg', 'Pauling_EN_A', 'Pauling_EN_B', 'Pauling_EN_A-B', 'Pauling_EN_max', 'Pauling_EN_min', 'Pauling_EN_weighted_norm_A+B', 'Martynov_Batsanov_EN_A', 'Martynov_Batsanov_EN_B', 'Martynov_Batsanov_EN_min', 'density_A', 'density_B', 'density_A-B', 'density_max', 'density_avg', 'specific_heat_A-B', 'specific_heat_max', 'cohesive_energy_A', 'cohesive_energy_A/B', 'cohesive_energy_avg', 'bulk_modulus_A/B'], \u001b[1mScore = 0.8750\u001b[0m\n",
      "\n",
      "\n",
      "\u001b[1mIteration 88:\u001b[0m \u001b[1mRemoved\u001b[0m 'Pauling_EN_A-B', \u001b[1mRemaining\u001b[0m = ['atomic_weight_A/B', 'atomic_weight_A-B', 'group_A', 'group_B', 'Mendeleev_number_A', 'Mendeleev_number_B', 'valencee_total_weighted_A+B', 'valencee_total_weighted_norm_A+B', 'unpaired_electrons_A', 'unpaired_electrons_A-B', 'Gilman_A', 'Z_eff_A', 'Z_eff_A-B', 'Z_eff_min', 'Z_eff_weighted_norm_A+B', 'ionization_energy_B', 'ionization_energy_A-B', 'ionization_energy_A/B', 'ionization_energy_avg', 'polyhedron_distortion_B', 'polyhedron_distortion_min', 'CIF_radius_A', 'CIF_radius_B', 'CIF_radius_A-B', 'CIF_radius_weighted_norm_A+B', 'Pauling_radius_CN12_avg', 'Pauling_EN_A', 'Pauling_EN_B', 'Pauling_EN_max', 'Pauling_EN_min', 'Pauling_EN_weighted_norm_A+B', 'Martynov_Batsanov_EN_A', 'Martynov_Batsanov_EN_B', 'Martynov_Batsanov_EN_min', 'density_A', 'density_B', 'density_A-B', 'density_max', 'density_avg', 'specific_heat_A-B', 'specific_heat_max', 'cohesive_energy_A', 'cohesive_energy_A/B', 'cohesive_energy_avg', 'bulk_modulus_A/B'], \u001b[1mScore = 0.8750\u001b[0m\n",
      "\n",
      "\n",
      "\u001b[1mIteration 89:\u001b[0m \u001b[1mRemoved\u001b[0m 'atomic_weight_A/B', \u001b[1mRemaining\u001b[0m = ['atomic_weight_A-B', 'group_A', 'group_B', 'Mendeleev_number_A', 'Mendeleev_number_B', 'valencee_total_weighted_A+B', 'valencee_total_weighted_norm_A+B', 'unpaired_electrons_A', 'unpaired_electrons_A-B', 'Gilman_A', 'Z_eff_A', 'Z_eff_A-B', 'Z_eff_min', 'Z_eff_weighted_norm_A+B', 'ionization_energy_B', 'ionization_energy_A-B', 'ionization_energy_A/B', 'ionization_energy_avg', 'polyhedron_distortion_B', 'polyhedron_distortion_min', 'CIF_radius_A', 'CIF_radius_B', 'CIF_radius_A-B', 'CIF_radius_weighted_norm_A+B', 'Pauling_radius_CN12_avg', 'Pauling_EN_A', 'Pauling_EN_B', 'Pauling_EN_max', 'Pauling_EN_min', 'Pauling_EN_weighted_norm_A+B', 'Martynov_Batsanov_EN_A', 'Martynov_Batsanov_EN_B', 'Martynov_Batsanov_EN_min', 'density_A', 'density_B', 'density_A-B', 'density_max', 'density_avg', 'specific_heat_A-B', 'specific_heat_max', 'cohesive_energy_A', 'cohesive_energy_A/B', 'cohesive_energy_avg', 'bulk_modulus_A/B'], \u001b[1mScore = 0.8750\u001b[0m\n",
      "\n",
      "\n",
      "\u001b[1mIteration 90:\u001b[0m \u001b[1mRemoved\u001b[0m 'ionization_energy_A-B', \u001b[1mRemaining\u001b[0m = ['atomic_weight_A-B', 'group_A', 'group_B', 'Mendeleev_number_A', 'Mendeleev_number_B', 'valencee_total_weighted_A+B', 'valencee_total_weighted_norm_A+B', 'unpaired_electrons_A', 'unpaired_electrons_A-B', 'Gilman_A', 'Z_eff_A', 'Z_eff_A-B', 'Z_eff_min', 'Z_eff_weighted_norm_A+B', 'ionization_energy_B', 'ionization_energy_A/B', 'ionization_energy_avg', 'polyhedron_distortion_B', 'polyhedron_distortion_min', 'CIF_radius_A', 'CIF_radius_B', 'CIF_radius_A-B', 'CIF_radius_weighted_norm_A+B', 'Pauling_radius_CN12_avg', 'Pauling_EN_A', 'Pauling_EN_B', 'Pauling_EN_max', 'Pauling_EN_min', 'Pauling_EN_weighted_norm_A+B', 'Martynov_Batsanov_EN_A', 'Martynov_Batsanov_EN_B', 'Martynov_Batsanov_EN_min', 'density_A', 'density_B', 'density_A-B', 'density_max', 'density_avg', 'specific_heat_A-B', 'specific_heat_max', 'cohesive_energy_A', 'cohesive_energy_A/B', 'cohesive_energy_avg', 'bulk_modulus_A/B'], \u001b[1mScore = 0.9000\u001b[0m\n",
      "\n",
      "\n",
      "\u001b[1mIteration 91:\u001b[0m \u001b[1mRemoved\u001b[0m 'Martynov_Batsanov_EN_B', \u001b[1mRemaining\u001b[0m = ['atomic_weight_A-B', 'group_A', 'group_B', 'Mendeleev_number_A', 'Mendeleev_number_B', 'valencee_total_weighted_A+B', 'valencee_total_weighted_norm_A+B', 'unpaired_electrons_A', 'unpaired_electrons_A-B', 'Gilman_A', 'Z_eff_A', 'Z_eff_A-B', 'Z_eff_min', 'Z_eff_weighted_norm_A+B', 'ionization_energy_B', 'ionization_energy_A/B', 'ionization_energy_avg', 'polyhedron_distortion_B', 'polyhedron_distortion_min', 'CIF_radius_A', 'CIF_radius_B', 'CIF_radius_A-B', 'CIF_radius_weighted_norm_A+B', 'Pauling_radius_CN12_avg', 'Pauling_EN_A', 'Pauling_EN_B', 'Pauling_EN_max', 'Pauling_EN_min', 'Pauling_EN_weighted_norm_A+B', 'Martynov_Batsanov_EN_A', 'Martynov_Batsanov_EN_min', 'density_A', 'density_B', 'density_A-B', 'density_max', 'density_avg', 'specific_heat_A-B', 'specific_heat_max', 'cohesive_energy_A', 'cohesive_energy_A/B', 'cohesive_energy_avg', 'bulk_modulus_A/B'], \u001b[1mScore = 0.9000\u001b[0m\n",
      "\n",
      "\n",
      "\u001b[1mIteration 92:\u001b[0m \u001b[1mRemoved\u001b[0m 'group_B', \u001b[1mRemaining\u001b[0m = ['atomic_weight_A-B', 'group_A', 'Mendeleev_number_A', 'Mendeleev_number_B', 'valencee_total_weighted_A+B', 'valencee_total_weighted_norm_A+B', 'unpaired_electrons_A', 'unpaired_electrons_A-B', 'Gilman_A', 'Z_eff_A', 'Z_eff_A-B', 'Z_eff_min', 'Z_eff_weighted_norm_A+B', 'ionization_energy_B', 'ionization_energy_A/B', 'ionization_energy_avg', 'polyhedron_distortion_B', 'polyhedron_distortion_min', 'CIF_radius_A', 'CIF_radius_B', 'CIF_radius_A-B', 'CIF_radius_weighted_norm_A+B', 'Pauling_radius_CN12_avg', 'Pauling_EN_A', 'Pauling_EN_B', 'Pauling_EN_max', 'Pauling_EN_min', 'Pauling_EN_weighted_norm_A+B', 'Martynov_Batsanov_EN_A', 'Martynov_Batsanov_EN_min', 'density_A', 'density_B', 'density_A-B', 'density_max', 'density_avg', 'specific_heat_A-B', 'specific_heat_max', 'cohesive_energy_A', 'cohesive_energy_A/B', 'cohesive_energy_avg', 'bulk_modulus_A/B'], \u001b[1mScore = 0.9000\u001b[0m\n",
      "\n",
      "\n",
      "\u001b[1mIteration 93:\u001b[0m \u001b[1mRemoved\u001b[0m 'bulk_modulus_A/B', \u001b[1mRemaining\u001b[0m = ['atomic_weight_A-B', 'group_A', 'Mendeleev_number_A', 'Mendeleev_number_B', 'valencee_total_weighted_A+B', 'valencee_total_weighted_norm_A+B', 'unpaired_electrons_A', 'unpaired_electrons_A-B', 'Gilman_A', 'Z_eff_A', 'Z_eff_A-B', 'Z_eff_min', 'Z_eff_weighted_norm_A+B', 'ionization_energy_B', 'ionization_energy_A/B', 'ionization_energy_avg', 'polyhedron_distortion_B', 'polyhedron_distortion_min', 'CIF_radius_A', 'CIF_radius_B', 'CIF_radius_A-B', 'CIF_radius_weighted_norm_A+B', 'Pauling_radius_CN12_avg', 'Pauling_EN_A', 'Pauling_EN_B', 'Pauling_EN_max', 'Pauling_EN_min', 'Pauling_EN_weighted_norm_A+B', 'Martynov_Batsanov_EN_A', 'Martynov_Batsanov_EN_min', 'density_A', 'density_B', 'density_A-B', 'density_max', 'density_avg', 'specific_heat_A-B', 'specific_heat_max', 'cohesive_energy_A', 'cohesive_energy_A/B', 'cohesive_energy_avg'], \u001b[1mScore = 0.9000\u001b[0m\n",
      "\n",
      "\n",
      "\u001b[1mIteration 94:\u001b[0m \u001b[1mRemoved\u001b[0m 'polyhedron_distortion_min', \u001b[1mRemaining\u001b[0m = ['atomic_weight_A-B', 'group_A', 'Mendeleev_number_A', 'Mendeleev_number_B', 'valencee_total_weighted_A+B', 'valencee_total_weighted_norm_A+B', 'unpaired_electrons_A', 'unpaired_electrons_A-B', 'Gilman_A', 'Z_eff_A', 'Z_eff_A-B', 'Z_eff_min', 'Z_eff_weighted_norm_A+B', 'ionization_energy_B', 'ionization_energy_A/B', 'ionization_energy_avg', 'polyhedron_distortion_B', 'CIF_radius_A', 'CIF_radius_B', 'CIF_radius_A-B', 'CIF_radius_weighted_norm_A+B', 'Pauling_radius_CN12_avg', 'Pauling_EN_A', 'Pauling_EN_B', 'Pauling_EN_max', 'Pauling_EN_min', 'Pauling_EN_weighted_norm_A+B', 'Martynov_Batsanov_EN_A', 'Martynov_Batsanov_EN_min', 'density_A', 'density_B', 'density_A-B', 'density_max', 'density_avg', 'specific_heat_A-B', 'specific_heat_max', 'cohesive_energy_A', 'cohesive_energy_A/B', 'cohesive_energy_avg'], \u001b[1mScore = 0.9250\u001b[0m\n",
      "\n",
      "\n",
      "\u001b[1mIteration 95:\u001b[0m \u001b[1mRemoved\u001b[0m 'density_max', \u001b[1mRemaining\u001b[0m = ['atomic_weight_A-B', 'group_A', 'Mendeleev_number_A', 'Mendeleev_number_B', 'valencee_total_weighted_A+B', 'valencee_total_weighted_norm_A+B', 'unpaired_electrons_A', 'unpaired_electrons_A-B', 'Gilman_A', 'Z_eff_A', 'Z_eff_A-B', 'Z_eff_min', 'Z_eff_weighted_norm_A+B', 'ionization_energy_B', 'ionization_energy_A/B', 'ionization_energy_avg', 'polyhedron_distortion_B', 'CIF_radius_A', 'CIF_radius_B', 'CIF_radius_A-B', 'CIF_radius_weighted_norm_A+B', 'Pauling_radius_CN12_avg', 'Pauling_EN_A', 'Pauling_EN_B', 'Pauling_EN_max', 'Pauling_EN_min', 'Pauling_EN_weighted_norm_A+B', 'Martynov_Batsanov_EN_A', 'Martynov_Batsanov_EN_min', 'density_A', 'density_B', 'density_A-B', 'density_avg', 'specific_heat_A-B', 'specific_heat_max', 'cohesive_energy_A', 'cohesive_energy_A/B', 'cohesive_energy_avg'], \u001b[1mScore = 0.9250\u001b[0m\n",
      "\n",
      "\n",
      "\u001b[1mIteration 96:\u001b[0m \u001b[1mRemoved\u001b[0m 'Pauling_radius_CN12_avg', \u001b[1mRemaining\u001b[0m = ['atomic_weight_A-B', 'group_A', 'Mendeleev_number_A', 'Mendeleev_number_B', 'valencee_total_weighted_A+B', 'valencee_total_weighted_norm_A+B', 'unpaired_electrons_A', 'unpaired_electrons_A-B', 'Gilman_A', 'Z_eff_A', 'Z_eff_A-B', 'Z_eff_min', 'Z_eff_weighted_norm_A+B', 'ionization_energy_B', 'ionization_energy_A/B', 'ionization_energy_avg', 'polyhedron_distortion_B', 'CIF_radius_A', 'CIF_radius_B', 'CIF_radius_A-B', 'CIF_radius_weighted_norm_A+B', 'Pauling_EN_A', 'Pauling_EN_B', 'Pauling_EN_max', 'Pauling_EN_min', 'Pauling_EN_weighted_norm_A+B', 'Martynov_Batsanov_EN_A', 'Martynov_Batsanov_EN_min', 'density_A', 'density_B', 'density_A-B', 'density_avg', 'specific_heat_A-B', 'specific_heat_max', 'cohesive_energy_A', 'cohesive_energy_A/B', 'cohesive_energy_avg'], \u001b[1mScore = 0.9250\u001b[0m\n",
      "\n",
      "\n",
      "Final remaining features: ['atomic_weight_A-B', 'group_A', 'Mendeleev_number_A', 'Mendeleev_number_B', 'valencee_total_weighted_A+B', 'valencee_total_weighted_norm_A+B', 'unpaired_electrons_A', 'unpaired_electrons_A-B', 'Gilman_A', 'Z_eff_A', 'Z_eff_A-B', 'Z_eff_min', 'Z_eff_weighted_norm_A+B', 'ionization_energy_B', 'ionization_energy_A/B', 'ionization_energy_avg', 'polyhedron_distortion_B', 'CIF_radius_A', 'CIF_radius_B', 'CIF_radius_A-B', 'CIF_radius_weighted_norm_A+B', 'Pauling_EN_A', 'Pauling_EN_B', 'Pauling_EN_max', 'Pauling_EN_min', 'Pauling_EN_weighted_norm_A+B', 'Martynov_Batsanov_EN_A', 'Martynov_Batsanov_EN_min', 'density_A', 'density_B', 'density_A-B', 'density_avg', 'specific_heat_A-B', 'specific_heat_max', 'cohesive_energy_A', 'cohesive_energy_A/B', 'cohesive_energy_avg']\n"
     ]
    },
    {
     "data": {
      "application/vnd.plotly.v1+json": {
       "config": {
        "plotlyServerURL": "https://plot.ly"
       },
       "data": [
        {
         "mode": "lines+markers",
         "name": "Performance",
         "type": "scatter",
         "x": [
          133,
          132,
          131,
          130,
          129,
          128,
          127,
          126,
          125,
          124,
          123,
          122,
          121,
          120,
          119,
          118,
          117,
          116,
          115,
          114,
          113,
          112,
          111,
          110,
          109,
          108,
          107,
          106,
          105,
          104,
          103,
          102,
          101,
          100,
          99,
          98,
          97,
          96,
          95,
          94,
          93,
          92,
          91,
          90,
          89,
          88,
          87,
          86,
          85,
          84,
          83,
          82,
          81,
          80,
          79,
          78,
          77,
          76,
          75,
          74,
          73,
          72,
          71,
          70,
          69,
          68,
          67,
          66,
          65,
          64,
          63,
          62,
          61,
          60,
          59,
          58,
          57,
          56,
          55,
          54,
          53,
          52,
          51,
          50,
          49,
          48,
          47,
          46,
          45,
          44,
          43,
          42,
          41,
          40,
          39,
          38,
          37
         ],
         "y": [
          0.8,
          0.8,
          0.8,
          0.825,
          0.825,
          0.825,
          0.85,
          0.85,
          0.85,
          0.85,
          0.85,
          0.85,
          0.85,
          0.85,
          0.85,
          0.85,
          0.85,
          0.85,
          0.85,
          0.85,
          0.85,
          0.85,
          0.85,
          0.85,
          0.85,
          0.85,
          0.85,
          0.85,
          0.85,
          0.85,
          0.875,
          0.875,
          0.875,
          0.875,
          0.875,
          0.875,
          0.875,
          0.875,
          0.875,
          0.875,
          0.875,
          0.875,
          0.875,
          0.875,
          0.875,
          0.875,
          0.875,
          0.875,
          0.875,
          0.875,
          0.875,
          0.875,
          0.875,
          0.875,
          0.875,
          0.875,
          0.875,
          0.875,
          0.875,
          0.875,
          0.875,
          0.875,
          0.875,
          0.875,
          0.875,
          0.875,
          0.875,
          0.875,
          0.875,
          0.875,
          0.875,
          0.875,
          0.875,
          0.875,
          0.875,
          0.875,
          0.875,
          0.875,
          0.875,
          0.875,
          0.875,
          0.875,
          0.875,
          0.875,
          0.875,
          0.875,
          0.875,
          0.875,
          0.875,
          0.875,
          0.9,
          0.9,
          0.9,
          0.9,
          0.925,
          0.925,
          0.925
         ]
        }
       ],
       "layout": {
        "font": {
         "size": 26
        },
        "template": {
         "data": {
          "bar": [
           {
            "error_x": {
             "color": "rgb(51,51,51)"
            },
            "error_y": {
             "color": "rgb(51,51,51)"
            },
            "marker": {
             "line": {
              "color": "rgb(237,237,237)",
              "width": 0.5
             },
             "pattern": {
              "fillmode": "overlay",
              "size": 10,
              "solidity": 0.2
             }
            },
            "type": "bar"
           }
          ],
          "barpolar": [
           {
            "marker": {
             "line": {
              "color": "rgb(237,237,237)",
              "width": 0.5
             },
             "pattern": {
              "fillmode": "overlay",
              "size": 10,
              "solidity": 0.2
             }
            },
            "type": "barpolar"
           }
          ],
          "carpet": [
           {
            "aaxis": {
             "endlinecolor": "rgb(51,51,51)",
             "gridcolor": "white",
             "linecolor": "white",
             "minorgridcolor": "white",
             "startlinecolor": "rgb(51,51,51)"
            },
            "baxis": {
             "endlinecolor": "rgb(51,51,51)",
             "gridcolor": "white",
             "linecolor": "white",
             "minorgridcolor": "white",
             "startlinecolor": "rgb(51,51,51)"
            },
            "type": "carpet"
           }
          ],
          "choropleth": [
           {
            "colorbar": {
             "outlinewidth": 0,
             "tickcolor": "rgb(237,237,237)",
             "ticklen": 6,
             "ticks": "inside"
            },
            "type": "choropleth"
           }
          ],
          "contour": [
           {
            "colorbar": {
             "outlinewidth": 0,
             "tickcolor": "rgb(237,237,237)",
             "ticklen": 6,
             "ticks": "inside"
            },
            "colorscale": [
             [
              0,
              "rgb(20,44,66)"
             ],
             [
              1,
              "rgb(90,179,244)"
             ]
            ],
            "type": "contour"
           }
          ],
          "contourcarpet": [
           {
            "colorbar": {
             "outlinewidth": 0,
             "tickcolor": "rgb(237,237,237)",
             "ticklen": 6,
             "ticks": "inside"
            },
            "type": "contourcarpet"
           }
          ],
          "heatmap": [
           {
            "colorbar": {
             "outlinewidth": 0,
             "tickcolor": "rgb(237,237,237)",
             "ticklen": 6,
             "ticks": "inside"
            },
            "colorscale": [
             [
              0,
              "rgb(20,44,66)"
             ],
             [
              1,
              "rgb(90,179,244)"
             ]
            ],
            "type": "heatmap"
           }
          ],
          "histogram": [
           {
            "marker": {
             "pattern": {
              "fillmode": "overlay",
              "size": 10,
              "solidity": 0.2
             }
            },
            "type": "histogram"
           }
          ],
          "histogram2d": [
           {
            "colorbar": {
             "outlinewidth": 0,
             "tickcolor": "rgb(237,237,237)",
             "ticklen": 6,
             "ticks": "inside"
            },
            "colorscale": [
             [
              0,
              "rgb(20,44,66)"
             ],
             [
              1,
              "rgb(90,179,244)"
             ]
            ],
            "type": "histogram2d"
           }
          ],
          "histogram2dcontour": [
           {
            "colorbar": {
             "outlinewidth": 0,
             "tickcolor": "rgb(237,237,237)",
             "ticklen": 6,
             "ticks": "inside"
            },
            "colorscale": [
             [
              0,
              "rgb(20,44,66)"
             ],
             [
              1,
              "rgb(90,179,244)"
             ]
            ],
            "type": "histogram2dcontour"
           }
          ],
          "mesh3d": [
           {
            "colorbar": {
             "outlinewidth": 0,
             "tickcolor": "rgb(237,237,237)",
             "ticklen": 6,
             "ticks": "inside"
            },
            "type": "mesh3d"
           }
          ],
          "parcoords": [
           {
            "line": {
             "colorbar": {
              "outlinewidth": 0,
              "tickcolor": "rgb(237,237,237)",
              "ticklen": 6,
              "ticks": "inside"
             }
            },
            "type": "parcoords"
           }
          ],
          "pie": [
           {
            "automargin": true,
            "type": "pie"
           }
          ],
          "scatter": [
           {
            "fillpattern": {
             "fillmode": "overlay",
             "size": 10,
             "solidity": 0.2
            },
            "type": "scatter"
           }
          ],
          "scatter3d": [
           {
            "line": {
             "colorbar": {
              "outlinewidth": 0,
              "tickcolor": "rgb(237,237,237)",
              "ticklen": 6,
              "ticks": "inside"
             }
            },
            "marker": {
             "colorbar": {
              "outlinewidth": 0,
              "tickcolor": "rgb(237,237,237)",
              "ticklen": 6,
              "ticks": "inside"
             }
            },
            "type": "scatter3d"
           }
          ],
          "scattercarpet": [
           {
            "marker": {
             "colorbar": {
              "outlinewidth": 0,
              "tickcolor": "rgb(237,237,237)",
              "ticklen": 6,
              "ticks": "inside"
             }
            },
            "type": "scattercarpet"
           }
          ],
          "scattergeo": [
           {
            "marker": {
             "colorbar": {
              "outlinewidth": 0,
              "tickcolor": "rgb(237,237,237)",
              "ticklen": 6,
              "ticks": "inside"
             }
            },
            "type": "scattergeo"
           }
          ],
          "scattergl": [
           {
            "marker": {
             "colorbar": {
              "outlinewidth": 0,
              "tickcolor": "rgb(237,237,237)",
              "ticklen": 6,
              "ticks": "inside"
             }
            },
            "type": "scattergl"
           }
          ],
          "scattermap": [
           {
            "marker": {
             "colorbar": {
              "outlinewidth": 0,
              "tickcolor": "rgb(237,237,237)",
              "ticklen": 6,
              "ticks": "inside"
             }
            },
            "type": "scattermap"
           }
          ],
          "scattermapbox": [
           {
            "marker": {
             "colorbar": {
              "outlinewidth": 0,
              "tickcolor": "rgb(237,237,237)",
              "ticklen": 6,
              "ticks": "inside"
             }
            },
            "type": "scattermapbox"
           }
          ],
          "scatterpolar": [
           {
            "marker": {
             "colorbar": {
              "outlinewidth": 0,
              "tickcolor": "rgb(237,237,237)",
              "ticklen": 6,
              "ticks": "inside"
             }
            },
            "type": "scatterpolar"
           }
          ],
          "scatterpolargl": [
           {
            "marker": {
             "colorbar": {
              "outlinewidth": 0,
              "tickcolor": "rgb(237,237,237)",
              "ticklen": 6,
              "ticks": "inside"
             }
            },
            "type": "scatterpolargl"
           }
          ],
          "scatterternary": [
           {
            "marker": {
             "colorbar": {
              "outlinewidth": 0,
              "tickcolor": "rgb(237,237,237)",
              "ticklen": 6,
              "ticks": "inside"
             }
            },
            "type": "scatterternary"
           }
          ],
          "surface": [
           {
            "colorbar": {
             "outlinewidth": 0,
             "tickcolor": "rgb(237,237,237)",
             "ticklen": 6,
             "ticks": "inside"
            },
            "colorscale": [
             [
              0,
              "rgb(20,44,66)"
             ],
             [
              1,
              "rgb(90,179,244)"
             ]
            ],
            "type": "surface"
           }
          ],
          "table": [
           {
            "cells": {
             "fill": {
              "color": "rgb(237,237,237)"
             },
             "line": {
              "color": "white"
             }
            },
            "header": {
             "fill": {
              "color": "rgb(217,217,217)"
             },
             "line": {
              "color": "white"
             }
            },
            "type": "table"
           }
          ]
         },
         "layout": {
          "annotationdefaults": {
           "arrowhead": 0,
           "arrowwidth": 1
          },
          "autotypenumbers": "strict",
          "coloraxis": {
           "colorbar": {
            "outlinewidth": 0,
            "tickcolor": "rgb(237,237,237)",
            "ticklen": 6,
            "ticks": "inside"
           }
          },
          "colorscale": {
           "sequential": [
            [
             0,
             "rgb(20,44,66)"
            ],
            [
             1,
             "rgb(90,179,244)"
            ]
           ],
           "sequentialminus": [
            [
             0,
             "rgb(20,44,66)"
            ],
            [
             1,
             "rgb(90,179,244)"
            ]
           ]
          },
          "colorway": [
           "#F8766D",
           "#A3A500",
           "#00BF7D",
           "#00B0F6",
           "#E76BF3"
          ],
          "font": {
           "color": "rgb(51,51,51)"
          },
          "geo": {
           "bgcolor": "white",
           "lakecolor": "white",
           "landcolor": "rgb(237,237,237)",
           "showlakes": true,
           "showland": true,
           "subunitcolor": "white"
          },
          "hoverlabel": {
           "align": "left"
          },
          "hovermode": "closest",
          "paper_bgcolor": "white",
          "plot_bgcolor": "rgb(237,237,237)",
          "polar": {
           "angularaxis": {
            "gridcolor": "white",
            "linecolor": "white",
            "showgrid": true,
            "tickcolor": "rgb(51,51,51)",
            "ticks": "outside"
           },
           "bgcolor": "rgb(237,237,237)",
           "radialaxis": {
            "gridcolor": "white",
            "linecolor": "white",
            "showgrid": true,
            "tickcolor": "rgb(51,51,51)",
            "ticks": "outside"
           }
          },
          "scene": {
           "xaxis": {
            "backgroundcolor": "rgb(237,237,237)",
            "gridcolor": "white",
            "gridwidth": 2,
            "linecolor": "white",
            "showbackground": true,
            "showgrid": true,
            "tickcolor": "rgb(51,51,51)",
            "ticks": "outside",
            "zerolinecolor": "white"
           },
           "yaxis": {
            "backgroundcolor": "rgb(237,237,237)",
            "gridcolor": "white",
            "gridwidth": 2,
            "linecolor": "white",
            "showbackground": true,
            "showgrid": true,
            "tickcolor": "rgb(51,51,51)",
            "ticks": "outside",
            "zerolinecolor": "white"
           },
           "zaxis": {
            "backgroundcolor": "rgb(237,237,237)",
            "gridcolor": "white",
            "gridwidth": 2,
            "linecolor": "white",
            "showbackground": true,
            "showgrid": true,
            "tickcolor": "rgb(51,51,51)",
            "ticks": "outside",
            "zerolinecolor": "white"
           }
          },
          "shapedefaults": {
           "fillcolor": "black",
           "line": {
            "width": 0
           },
           "opacity": 0.3
          },
          "ternary": {
           "aaxis": {
            "gridcolor": "white",
            "linecolor": "white",
            "showgrid": true,
            "tickcolor": "rgb(51,51,51)",
            "ticks": "outside"
           },
           "baxis": {
            "gridcolor": "white",
            "linecolor": "white",
            "showgrid": true,
            "tickcolor": "rgb(51,51,51)",
            "ticks": "outside"
           },
           "bgcolor": "rgb(237,237,237)",
           "caxis": {
            "gridcolor": "white",
            "linecolor": "white",
            "showgrid": true,
            "tickcolor": "rgb(51,51,51)",
            "ticks": "outside"
           }
          },
          "xaxis": {
           "automargin": true,
           "gridcolor": "white",
           "linecolor": "white",
           "showgrid": true,
           "tickcolor": "rgb(51,51,51)",
           "ticks": "outside",
           "title": {
            "standoff": 15
           },
           "zerolinecolor": "white"
          },
          "yaxis": {
           "automargin": true,
           "gridcolor": "white",
           "linecolor": "white",
           "showgrid": true,
           "tickcolor": "rgb(51,51,51)",
           "ticks": "outside",
           "title": {
            "standoff": 15
           },
           "zerolinecolor": "white"
          }
         }
        },
        "title": {
         "text": "Backward Elimination Performance"
        },
        "xaxis": {
         "autorange": "reversed",
         "title": {
          "text": "Number of Features"
         }
        },
        "yaxis": {
         "title": {
          "text": "CV Accuracy Score"
         }
        }
       }
      }
     },
     "metadata": {},
     "output_type": "display_data"
    },
    {
     "data": {
      "application/vnd.jupyter.widget-view+json": {
       "model_id": "db7f4e457e474e87ad8427ed025462f2",
       "version_major": 2,
       "version_minor": 0
      },
      "text/plain": [
       "IntSlider(value=0, description='Step', max=96)"
      ]
     },
     "metadata": {},
     "output_type": "display_data"
    },
    {
     "data": {
      "application/vnd.jupyter.widget-view+json": {
       "model_id": "50d1317fb4e0400c9e6a21c90958ab75",
       "version_major": 2,
       "version_minor": 0
      },
      "text/plain": [
       "Output()"
      ]
     },
     "metadata": {},
     "output_type": "display_data"
    },
    {
     "name": "stdout",
     "output_type": "stream",
     "text": [
      "Remaining features via backward elimination: ['atomic_weight_A-B', 'group_A', 'Mendeleev_number_A', 'Mendeleev_number_B', 'valencee_total_weighted_A+B', 'valencee_total_weighted_norm_A+B', 'unpaired_electrons_A', 'unpaired_electrons_A-B', 'Gilman_A', 'Z_eff_A', 'Z_eff_A-B', 'Z_eff_min', 'Z_eff_weighted_norm_A+B', 'ionization_energy_B', 'ionization_energy_A/B', 'ionization_energy_avg', 'polyhedron_distortion_B', 'CIF_radius_A', 'CIF_radius_B', 'CIF_radius_A-B', 'CIF_radius_weighted_norm_A+B', 'Pauling_EN_A', 'Pauling_EN_B', 'Pauling_EN_max', 'Pauling_EN_min', 'Pauling_EN_weighted_norm_A+B', 'Martynov_Batsanov_EN_A', 'Martynov_Batsanov_EN_min', 'density_A', 'density_B', 'density_A-B', 'density_avg', 'specific_heat_A-B', 'specific_heat_max', 'cohesive_energy_A', 'cohesive_energy_A/B', 'cohesive_energy_avg']\n"
     ]
    }
   ],
   "source": [
    "# Backward elimination example:\n",
    "remaining_feats, perf_hist_back = backward_elimination_plsda(\n",
    "    filepath, \n",
    "    target_column=\"Class\", \n",
    "    min_features=5, \n",
    "    n_components=2,\n",
    "    scoring='accuracy', \n",
    "    verbose=True, \n",
    "    visualize=True,\n",
    "    interactive_scatter=True\n",
    ")\n",
    "print(\"Remaining features via backward elimination:\", remaining_feats)"
   ]
  },
  {
   "cell_type": "markdown",
   "metadata": {},
   "source": [
    "Use your chemistry background and curiosity to experiment with the data. The more you test, the more connections you’ll discover between descriptors and structure — turning chemical knowledge into predictive power."
   ]
  }
 ],
 "metadata": {
  "kernelspec": {
   "display_name": "pca_plsda",
   "language": "python",
   "name": "python3"
  },
  "language_info": {
   "codemirror_mode": {
    "name": "ipython",
    "version": 3
   },
   "file_extension": ".py",
   "mimetype": "text/x-python",
   "name": "python",
   "nbconvert_exporter": "python",
   "pygments_lexer": "ipython3",
   "version": "3.12.9"
  }
 },
 "nbformat": 4,
 "nbformat_minor": 4
}
