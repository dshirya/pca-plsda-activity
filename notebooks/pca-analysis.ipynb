{
 "cells": [
  {
   "cell_type": "code",
   "execution_count": null,
   "metadata": {},
   "outputs": [],
   "source": [
    "!pip install numpy pandas scikit-learn plotly ipywidgets ipython openpyxl nbformat"
   ]
  },
  {
   "cell_type": "markdown",
   "metadata": {},
   "source": [
    "In this notebook, you will explore how **Principal Component Analysis (PCA)** can be applied to chemical data — specifically, to element properties and binary compounds. The goal is to understand how elemental features influence chemical similarity and structure-type clustering."
   ]
  },
  {
   "cell_type": "markdown",
   "metadata": {},
   "source": [
    "First, we have to start with uploading the data that will be used in the program:"
   ]
  },
  {
   "cell_type": "code",
   "execution_count": null,
   "metadata": {},
   "outputs": [],
   "source": [
    "filepath = \"data/elemental-property-list.xlsx\"  # filepath to the elemental properties \n",
    "\n",
    "binary_data = \"data/pauling.xlsx\" # filepath to binary data for visualization "
   ]
  },
  {
   "cell_type": "markdown",
   "metadata": {},
   "source": [
    "**PCA Periodic Table of the Elements**\n",
    "   - You’ll start by visualizing 80 elements using 74 numerical features (atomic, electronic, thermal, and DFT-derived).\n",
    "   - These features are reduced to a 2D space using PCA, and the elements are projected into this new “map” of chemical space.\n",
    "   - By selecting or deselecting features or feature groups, you can explore how the structure of the PCA space changes.\n",
    "   - This section helps you answer: *How do element properties influence their relative positions in feature space?*"
   ]
  },
  {
   "cell_type": "code",
   "execution_count": null,
   "metadata": {},
   "outputs": [],
   "source": [
    "from pca.pca_table import run_pca_analysis\n",
    "\n",
    "run_pca_analysis(filepath)"
   ]
  },
  {
   "cell_type": "markdown",
   "metadata": {},
   "source": [
    "**Visualization of Binary Compounds**\n",
    "- You’ll use historical compound data (from Pauling’s 1929 work) and plot equiatomic binary compounds in the same PCA space.\n",
    "- Each compound is shown as a line connecting its two constituent elements, with a midpoint marker.\n",
    "- Compounds are colored by their known crystal structure types (CsCl, NaCl, ZnS).\n",
    "- You can test how different subsets of features affect the clustering or separation of these structures."
   ]
  },
  {
   "cell_type": "code",
   "execution_count": null,
   "metadata": {},
   "outputs": [],
   "source": [
    "from pca.pca_binary import run_pca_analysis_structures\n",
    "\n",
    "run_pca_analysis_structures(filepath, binary_data)"
   ]
  }
 ],
 "metadata": {
  "kernelspec": {
   "display_name": "Python [conda env:pca_plsda]",
   "language": "python",
   "name": "conda-env-pca_plsda-py"
  },
  "language_info": {
   "codemirror_mode": {
    "name": "ipython",
    "version": 3
   },
   "file_extension": ".py",
   "mimetype": "text/x-python",
   "name": "python",
   "nbconvert_exporter": "python",
   "pygments_lexer": "ipython3",
   "version": "3.12.9"
  }
 },
 "nbformat": 4,
 "nbformat_minor": 4
}
